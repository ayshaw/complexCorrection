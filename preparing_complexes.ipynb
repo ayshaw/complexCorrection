{
 "cells": [
  {
   "cell_type": "code",
   "execution_count": 1,
   "metadata": {
    "scrolled": true
   },
   "outputs": [],
   "source": [
    "import numpy as np\n",
    "import matplotlib.pylab as plt\n",
    "from scipy import stats\n",
    "from scipy.spatial.distance import pdist,squareform\n",
    "import pandas as pd\n",
    "import os\n",
    "import itertools\n",
    "import glob"
   ]
  },
  {
   "cell_type": "code",
   "execution_count": 2,
   "metadata": {},
   "outputs": [],
   "source": [
    "# from fasta\n",
    "def parse_fasta(filename):\n",
    "    '''function to parse fasta'''\n",
    "    header = []\n",
    "    sequence = []\n",
    "    lines = open(filename, \"r\")\n",
    "    for line in lines:\n",
    "        line = line.rstrip()\n",
    "        if line[0] == \">\":\n",
    "            header.append(line[1:])\n",
    "            sequence.append([])\n",
    "        else:\n",
    "            sequence[-1].append(line)\n",
    "    lines.close()\n",
    "    sequence = [''.join(seq) for seq in sequence]\n",
    "    return np.array(header), np.array(sequence)"
   ]
  },
  {
   "cell_type": "code",
   "execution_count": 3,
   "metadata": {},
   "outputs": [],
   "source": [
    "hpc_df = pd.read_csv('high_precision_complexes.csv',header=None)"
   ]
  },
  {
   "cell_type": "code",
   "execution_count": 4,
   "metadata": {
    "scrolled": false
   },
   "outputs": [],
   "source": [
    "def return_msa_parsed(align_file):\n",
    "    header = []\n",
    "    sequence = []\n",
    "    lines = open(align_file, \"r\")\n",
    "    for line in lines:\n",
    "        line = line.rstrip()\n",
    "        if line[0] == \">\":\n",
    "            header.append(line[1:])\n",
    "            sequence.append([])\n",
    "        else:\n",
    "            sequence[-1].append(line)\n",
    "    lines.close()\n",
    "    sequence = [''.join(seq) for seq in sequence]\n",
    "\n",
    "    msa_df = pd.DataFrame()\n",
    "    msa_df['full_names']=np.array(header)\n",
    "    msa_df['seqs']=np.array(sequence)\n",
    "    msa_df['names']=msa_df.full_names.str.split('/',expand=True)[0]\n",
    "    msa_df['region'] = msa_df.full_names.str.split('/',expand=True)[1]\n",
    "    msa_df['species']=msa_df.names.str.split('_',expand=True)[1]\n",
    "    return msa_df"
   ]
  },
  {
   "cell_type": "code",
   "execution_count": 5,
   "metadata": {},
   "outputs": [],
   "source": [
    "def write_concat_a2m(msa1_df,msa2_df,filename):\n",
    "    species_list = np.unique(np.concatenate((msa2_df['species'].values,msa1_df['species'].values)))\n",
    "    with open(filename,'w+') as f:\n",
    "        for spec in species_list:\n",
    "            for prod in (itertools.product(msa1_df[msa1_df['species']==spec]['full_names'].values,msa2_df[msa2_df['species']==spec]['full_names'].values)):\n",
    "                f.write('>'+msa1_df[msa1_df['full_names']==prod[0]]['names'].values[0]+'-'+msa2_df[msa2_df['full_names']==prod[1]]['names'].values[0]+'/'+msa1_df[msa1_df['full_names']==prod[0]]['region'].values[0]+'-'+msa2_df[msa2_df['full_names']==prod[1]]['region'].values[0]+'\\n')\n",
    "                f.write(msa1_df[msa1_df['full_names']==prod[0]]['seqs'].values[0]+msa2_df[msa2_df['full_names']==prod[1]]['seqs'].values[0]+'\\n')"
   ]
  },
  {
   "cell_type": "code",
   "execution_count": null,
   "metadata": {},
   "outputs": [
    {
     "name": "stdout",
     "output_type": "stream",
     "text": [
      "allpdb0042 already exists\n",
      "full_names                                      CYB_BOVIN/1-379\n",
      "seqs          mtnirksHPLMKIVNNAFIDLPAPSNISSWWNFGSLLGICLILQIL...\n",
      "names                                                 CYB_BOVIN\n",
      "region                                                    1-379\n",
      "species                                                   BOVIN\n",
      "Name: 0, dtype: object\n",
      "full_names                                      CY1_BOVIN/1-325\n",
      "seqs          maaaaatlrgamvgprgaglpgarargllcgarpgqlplrtpqavs...\n",
      "names                                                 CY1_BOVIN\n",
      "region                                                    1-325\n",
      "species                                                   BOVIN\n",
      "Name: 0, dtype: object\n"
     ]
    }
   ],
   "source": [
    "for row in hpc_df.iterrows():\n",
    "    aligns = glob.glob('/home/as974/marks/users/kbrock/ecoli_complex/calibration/output/'+row[1].values[1]+'/align*')\n",
    "    align_1 = aligns[0]+'/'+row[1].values[1]+'.a2m'\n",
    "    align_2 = aligns[1]+'/'+row[1].values[1]+'.a2m'\n",
    "    file_dir = 'benchmark/'+row[1].values[1]\n",
    "    try: os.mkdir(file_dir)\n",
    "    except: print(row[1].values[1] + ' already exists')\n",
    "    msa1_df = return_msa_parsed(align_1)\n",
    "    msa2_df = return_msa_parsed(align_2)\n",
    "    print(msa1_df.loc[0,:])\n",
    "    print(msa2_df.loc[0,:])\n",
    "    file_name = file_dir+'/concat.a2m'\n",
    "    write_concat_a2m(msa1_df,msa2_df,file_name)\n",
    "    del msa1_df\n",
    "    del msa2_df"
   ]
  },
  {
   "cell_type": "code",
   "execution_count": null,
   "metadata": {},
   "outputs": [],
   "source": []
  }
 ],
 "metadata": {
  "kernelspec": {
   "display_name": "Python 3",
   "language": "python",
   "name": "python3"
  },
  "language_info": {
   "codemirror_mode": {
    "name": "ipython",
    "version": 3
   },
   "file_extension": ".py",
   "mimetype": "text/x-python",
   "name": "python",
   "nbconvert_exporter": "python",
   "pygments_lexer": "ipython3",
   "version": "3.6.4"
  }
 },
 "nbformat": 4,
 "nbformat_minor": 2
}
