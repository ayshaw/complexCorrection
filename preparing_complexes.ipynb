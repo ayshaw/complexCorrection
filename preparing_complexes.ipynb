{
 "cells": [
  {
   "cell_type": "code",
   "execution_count": 83,
   "metadata": {
    "scrolled": true
   },
   "outputs": [],
   "source": [
    "import numpy as np\n",
    "import matplotlib.pylab as plt\n",
    "from scipy import stats\n",
    "from scipy.spatial.distance import pdist,squareform\n",
    "import pandas as pd\n",
    "import os\n",
    "import itertools\n",
    "import glob\n",
    "import math\n",
    "import time\n",
    "\n",
    "def return_msa_parsed(align_file):\n",
    "    uid = []\n",
    "    sequence = []\n",
    "    spec = []\n",
    "    lines = open(align_file, \"r\")\n",
    "    for line in lines:\n",
    "        line = line.rstrip()\n",
    "        if line[0] == \">\":\n",
    "            uid.append(line[1:])\n",
    "            spec.append(line[1:].split('/')[0].split('_')[1])\n",
    "            sequence.append([])\n",
    "        else:\n",
    "            sequence[-1].append(line)\n",
    "    lines.close()\n",
    "    sequence = [''.join(seq) for seq in sequence]\n",
    "    print('parsing finished for {} sequences'.format(len(uid)))\n",
    "    msa_df = pd.DataFrame()\n",
    "    msa_df['species']=pd.Series(spec,dtype='category')\n",
    "    msa_df['seqs']=np.arange(len(uid),dtype=np.int)\n",
    "    print('pd initialized')\n",
    "    return msa_df,sequence,uid\n",
    "\n",
    "def write_concat_a2m(msa1_df,sequence_1,uid1,msa2_df,sequence_2,uid2,filename):\n",
    "    #species_list = np.unique(np.concatenate((msa2_df['species'].values,msa1_df['species'].values)))\n",
    "#     plt.histogram(np.concatenate((msa2_df['species'].values,msa1_df['species'].values)))\n",
    "#     plt.savefig(os.path.basename(filename)+'/species_hist.png')         \n",
    "    species_list = np.intersect1d(msa2_df['species'].unique(),msa1_df['species'].unique())\n",
    "#     plt.histogram(np.concatenate((msa2_df['species'].values,msa1_df['species'].values)))\n",
    "#     plt.savefig(os.path.basename(filename)+'/species_hist.png')   \n",
    "    print('total number of species:{}'.format(len(species_list)))\n",
    "    start = time.time()\n",
    "    with open(filename,'w+') as f:\n",
    "        for spec in species_list:\n",
    "            #print(spec)\n",
    "            #print('monomer 1:{} \\t monomer 2:{} \\t total alignments per specie: {}'.format(len(msa1_df[msa1_df['species']==spec]['seqs'].values),\n",
    "            #                                                                               len(msa2_df[msa2_df['species']==spec]['seqs'].values),\n",
    "            #      (len(msa2_df[msa2_df['species']==spec]['seqs'].values)*len(msa1_df[msa1_df['species']==spec]['seqs'].values)))\n",
    "            #     )\n",
    "            for prod in (itertools.product(msa1_df[msa1_df['species']==spec]['seqs'].values,msa2_df[msa2_df['species']==spec]['seqs'].values)):\n",
    "                f.write(uid1[prod[0]]+uid2[prod[1]]+'\\n')\n",
    "                f.write(sequence_1[prod[0]]+sequence_2[prod[1]]+'\\n')\n",
    "    print('time elapsed: {} seconds'.format(time.time()-start))"
   ]
  },
  {
   "cell_type": "code",
   "execution_count": 84,
   "metadata": {},
   "outputs": [
    {
     "name": "stdout",
     "output_type": "stream",
     "text": [
      "allpdb0042 already exists\n",
      "parsing finished for 152963 sequences\n",
      "pd initialized\n",
      "parsing finished for 7656 sequences\n",
      "pd initialized\n",
      "finished parsing individual alignments\n",
      "total number of species:1222\n",
      "time elapsed: 19.50460696220398 seconds\n",
      "finished concatenating alignments\n"
     ]
    }
   ],
   "source": [
    "hpc_df = pd.read_csv('high_precision_complexes.csv',header=None)\n",
    "for index,row in hpc_df.iterrows():\n",
    "    aligns = glob.glob('/home/as974/marks/users/kbrock/ecoli_complex/calibration/output/'+row.values[1]+'/align*')\n",
    "    align_1 = aligns[0]+'/'+row.values[1]+'.a2m'\n",
    "    align_2 = aligns[1]+'/'+row.values[1]+'.a2m'\n",
    "    file_dir = 'benchmark/'+row.values[1]\n",
    "    try: os.mkdir(file_dir)\n",
    "    except: print(row.values[1] + ' already exists')\n",
    "    msa1_df,sequence_1,uid1 = return_msa_parsed(align_1)\n",
    "    msa2_df,sequence_2,uid2 = return_msa_parsed(align_2)\n",
    "    print('finished parsing individual alignments')\n",
    "    filename = file_dir+'/concatenation_fixed.a2m'\n",
    "    write_concat_a2m(msa1_df,sequence_1,uid1,msa2_df,sequence_2,uid2,filename)\n",
    "    print('finished concatenating alignments')\n",
    "    del msa1_df\n",
    "    del msa2_df\n"
   ]
  },
  {
   "cell_type": "code",
   "execution_count": null,
   "metadata": {},
   "outputs": [],
   "source": []
  }
 ],
 "metadata": {
  "kernelspec": {
   "display_name": "Python 3",
   "language": "python",
   "name": "python3"
  },
  "language_info": {
   "codemirror_mode": {
    "name": "ipython",
    "version": 3
   },
   "file_extension": ".py",
   "mimetype": "text/x-python",
   "name": "python",
   "nbconvert_exporter": "python",
   "pygments_lexer": "ipython3",
   "version": "3.6.4"
  }
 },
 "nbformat": 4,
 "nbformat_minor": 2
}
