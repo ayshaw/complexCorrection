{
 "cells": [
  {
   "cell_type": "code",
   "execution_count": 7,
   "metadata": {
    "scrolled": true
   },
   "outputs": [
    {
     "name": "stderr",
     "output_type": "stream",
     "text": [
      "/Users/adashaw/anaconda3/envs/tfenv/lib/python3.7/site-packages/tensorflow/python/framework/dtypes.py:526: FutureWarning: Passing (type, 1) or '1type' as a synonym of type is deprecated; in a future version of numpy, it will be understood as (type, (1,)) / '(1,)type'.\n",
      "  _np_qint8 = np.dtype([(\"qint8\", np.int8, 1)])\n",
      "/Users/adashaw/anaconda3/envs/tfenv/lib/python3.7/site-packages/tensorflow/python/framework/dtypes.py:527: FutureWarning: Passing (type, 1) or '1type' as a synonym of type is deprecated; in a future version of numpy, it will be understood as (type, (1,)) / '(1,)type'.\n",
      "  _np_quint8 = np.dtype([(\"quint8\", np.uint8, 1)])\n",
      "/Users/adashaw/anaconda3/envs/tfenv/lib/python3.7/site-packages/tensorflow/python/framework/dtypes.py:528: FutureWarning: Passing (type, 1) or '1type' as a synonym of type is deprecated; in a future version of numpy, it will be understood as (type, (1,)) / '(1,)type'.\n",
      "  _np_qint16 = np.dtype([(\"qint16\", np.int16, 1)])\n",
      "/Users/adashaw/anaconda3/envs/tfenv/lib/python3.7/site-packages/tensorflow/python/framework/dtypes.py:529: FutureWarning: Passing (type, 1) or '1type' as a synonym of type is deprecated; in a future version of numpy, it will be understood as (type, (1,)) / '(1,)type'.\n",
      "  _np_quint16 = np.dtype([(\"quint16\", np.uint16, 1)])\n",
      "/Users/adashaw/anaconda3/envs/tfenv/lib/python3.7/site-packages/tensorflow/python/framework/dtypes.py:530: FutureWarning: Passing (type, 1) or '1type' as a synonym of type is deprecated; in a future version of numpy, it will be understood as (type, (1,)) / '(1,)type'.\n",
      "  _np_qint32 = np.dtype([(\"qint32\", np.int32, 1)])\n",
      "/Users/adashaw/anaconda3/envs/tfenv/lib/python3.7/site-packages/tensorflow/python/framework/dtypes.py:535: FutureWarning: Passing (type, 1) or '1type' as a synonym of type is deprecated; in a future version of numpy, it will be understood as (type, (1,)) / '(1,)type'.\n",
      "  np_resource = np.dtype([(\"resource\", np.ubyte, 1)])\n",
      "/Users/adashaw/anaconda3/envs/tfenv/lib/python3.7/importlib/_bootstrap.py:219: RuntimeWarning: compiletime version 3.6 of module 'tensorflow.python.framework.fast_tensor_util' does not match runtime version 3.7\n",
      "  return f(*args, **kwds)\n",
      "Using TensorFlow backend.\n"
     ]
    }
   ],
   "source": [
    "import numpy as np\n",
    "import tensorflow as tf\n",
    "import matplotlib.pylab as plt\n",
    "from scipy import stats\n",
    "from scipy.spatial.distance import pdist,squareform\n",
    "import pandas as pd\n",
    "import os\n",
    "from scipy.cluster.hierarchy import dendrogram, linkage, fcluster\n",
    "\n",
    "from keras.callbacks import TensorBoard\n",
    "tbCallBack = TensorBoard(log_dir='./log', histogram_freq=1,\n",
    "                         write_graph=True,\n",
    "                         write_grads=True,\n",
    "                         batch_size=None,\n",
    "                         write_images=True)"
   ]
  },
  {
   "cell_type": "code",
   "execution_count": 1,
   "metadata": {},
   "outputs": [],
   "source": [
    "################\n",
    "# note: if you are modifying the alphabet\n",
    "# make sure last character is \"-\" (gap)\n",
    "################\n",
    "alphabet = \"ARNDCQEGHILKMFPSTWYV-\"\n",
    "states = len(alphabet)\n",
    "a2n = {}\n",
    "for a,n in zip(alphabet,range(states)):\n",
    "    a2n[a] = n\n",
    "################\n",
    "\n",
    "def aa2num(aa):\n",
    "    '''convert aa into num'''\n",
    "    if aa in a2n: return a2n[aa]\n",
    "    else: return a2n['-']\n",
    "def num2aa(num):\n",
    "    '''convert num to aa'''\n",
    "    return alphabet[num]\n",
    "    \n",
    "# from fasta\n",
    "def parse_fasta(filename):\n",
    "    '''function to parse fasta'''\n",
    "    header = []\n",
    "    sequence = []\n",
    "    lines = open(filename, \"r\")\n",
    "    for line in lines:\n",
    "        line = line.rstrip()\n",
    "        if line[0] == \">\":\n",
    "            header.append(line[1:])\n",
    "            sequence.append([])\n",
    "        else:\n",
    "            sequence[-1].append(line)\n",
    "    lines.close()\n",
    "    sequence = [''.join(seq) for seq in sequence]\n",
    "    return np.array(header), np.array(sequence)\n",
    "\n",
    "def filt_gaps(msa,gap_cutoff=0.5):\n",
    "    '''filters alignment to remove gappy positions'''\n",
    "    tmp = (msa == states-1).astype(np.float)\n",
    "    non_gaps = np.where(np.sum(tmp.T,-1).T/msa.shape[0] < gap_cutoff)[0]\n",
    "    return msa[:,non_gaps],non_gaps\n",
    "\n",
    "def get_eff(msa,eff_cutoff=0.8):\n",
    "    '''compute effective weight for each sequence'''\n",
    "    ncol = msa.shape[1]\n",
    "\n",
    "    # pairwise identity\n",
    "    msa_sm = 1.0 - squareform(pdist(msa,\"hamming\"))\n",
    "\n",
    "    # weight for each sequence\n",
    "    msa_w = (msa_sm >= eff_cutoff).astype(np.float)\n",
    "    msa_w = 1/np.sum(msa_w,-1)\n",
    "\n",
    "    return msa_w\n",
    "\n",
    "def cluster(msa, method='ward', threshold=0.8):\n",
    "    Z = linkage(1-squareform(pdist(msa,\"hamming\")),method) \n",
    "    return fcluster(Z,threshold,criterion='distance')\n",
    "\n",
    "def mk_msa(seqs):\n",
    "    '''converts list of sequences to msa'''\n",
    "\n",
    "    msa_ori = []\n",
    "    for seq in seqs:\n",
    "        msa_ori.append([aa2num(aa) for aa in seq])\n",
    "    msa_ori = np.array(msa_ori)\n",
    "\n",
    "    # remove positions with more than > 50% gaps\n",
    "    msa, v_idx = filt_gaps(msa_ori,0.5)\n",
    "    \n",
    "    msa_cluster = cluster(msa)\n",
    "    print('original number of sequences:{}\\nclustered number of sequences:{}'.format(len(msa_cluster),len()))\n",
    "    msa_new  = np.zeros([len(np.unique(msa_cluster)),len(msa[0,:])])\n",
    "    index_once = np.zeros([len(np.unique(msa_cluster))])\n",
    "    for tick,clus in enumerate(np.unique(msa_cluster)):\n",
    "        index_once[tick] = msa_cluster.tolist().index(clus)\n",
    "    msa_new = msa[index_once.astype(int),:]\n",
    "    # compute effective weight for each sequence\n",
    "    msa_weights = get_eff(msa_new,0.8)\n",
    "\n",
    "    # compute effective number of sequences\n",
    "    ncol = msa_new.shape[1] # length of sequence\n",
    "    w_idx = v_idx[np.stack(np.triu_indices(ncol,1),-1)]\n",
    "    \n",
    "    \n",
    "    return {\"msa_ori\":msa_ori,\n",
    "          \"msa\":msa_new,\n",
    "          \"weights\":msa_weights,\n",
    "          \"neff\":np.sum(msa_weights),\n",
    "          \"v_idx\":v_idx,\n",
    "          \"w_idx\":w_idx,\n",
    "          \"nrow\":msa.shape[0],\n",
    "          \"ncol\":ncol,\n",
    "          \"ncol_ori\":msa_ori.shape[1],\n",
    "          \"cluster\":msa_cluster}\n"
   ]
  },
  {
   "cell_type": "code",
   "execution_count": 2,
   "metadata": {},
   "outputs": [
    {
     "data": {
      "text/plain": [
       "'A'"
      ]
     },
     "execution_count": 2,
     "metadata": {},
     "output_type": "execute_result"
    }
   ],
   "source": []
  },
  {
   "cell_type": "code",
   "execution_count": 87,
   "metadata": {},
   "outputs": [],
   "source": [
    "# useless shit\n",
    "# def parse_fasta_new(file):\n",
    "#     with open(file) as f:\n",
    "#         lines = f.readlines()\n",
    "#     line_numbers = [i for i in range(len(lines)) if '>' in lines[i]]\n",
    "#     lines = list(map(lambda x: x.replace(\"\\n\", \"\").replace(\">\",\"\"),lines))\n",
    "#     return np.array(lines)[line_numbers], np.array(lines)[~np.array(line_numbers)]\n",
    "    "
   ]
  },
  {
   "cell_type": "code",
   "execution_count": 88,
   "metadata": {},
   "outputs": [
    {
     "name": "stdout",
     "output_type": "stream",
     "text": [
      "CPU times: user 3.67 ms, sys: 1.5 ms, total: 5.17 ms\n",
      "Wall time: 3.82 ms\n"
     ]
    }
   ],
   "source": [
    "%%time\n",
    "names, seqs = parse_fasta_new(\"4FAZA.fas\")"
   ]
  },
  {
   "cell_type": "code",
   "execution_count": 89,
   "metadata": {
    "scrolled": true
   },
   "outputs": [
    {
     "name": "stdout",
     "output_type": "stream",
     "text": [
      "CPU times: user 2.61 ms, sys: 1.29 ms, total: 3.9 ms\n",
      "Wall time: 2.78 ms\n"
     ]
    }
   ],
   "source": [
    "%%time\n",
    "names, seqs = parse_fasta(\"4FAZA.fas\")"
   ]
  },
  {
   "cell_type": "code",
   "execution_count": 90,
   "metadata": {},
   "outputs": [],
   "source": [
    "msa = mk_msa(seqs)"
   ]
  },
  {
   "cell_type": "code",
   "execution_count": 91,
   "metadata": {},
   "outputs": [
    {
     "data": {
      "text/plain": [
       "(716, 61)"
      ]
     },
     "execution_count": 91,
     "metadata": {},
     "output_type": "execute_result"
    }
   ],
   "source": [
    "msa['msa'].shape"
   ]
  },
  {
   "cell_type": "code",
   "execution_count": 92,
   "metadata": {},
   "outputs": [],
   "source": [
    "names_1, seqs_1 = parse_fasta_new(\"allpdb0148/align_1/allpdb0148.a2m\")\n",
    "msa_1 = mk_msa(seqs_1)"
   ]
  },
  {
   "cell_type": "code",
   "execution_count": 14,
   "metadata": {},
   "outputs": [],
   "source": [
    "names_2, seqs_2 = parse_fasta(\"allpdb0148/align_2/allpdb0148.a2m\")\n",
    "msa_2 = mk_msa(seqs_2)"
   ]
  },
  {
   "cell_type": "code",
   "execution_count": 33,
   "metadata": {},
   "outputs": [
    {
     "data": {
      "text/plain": [
       "array([ 664, 1097,  649, ..., 1363, 1379,   62], dtype=int32)"
      ]
     },
     "execution_count": 33,
     "metadata": {},
     "output_type": "execute_result"
    }
   ],
   "source": [
    "msa_1['cluster']"
   ]
  },
  {
   "cell_type": "code",
   "execution_count": 94,
   "metadata": {},
   "outputs": [
    {
     "data": {
      "text/plain": [
       "array([[ 5, 10, 11, ..., 10,  6,  6],\n",
       "       [ 5, 12,  1, ..., 10,  0,  5],\n",
       "       [ 5, 12,  1, ..., 10,  0,  5],\n",
       "       ...,\n",
       "       [20, 20, 20, ..., 13,  6,  3],\n",
       "       [20, 20, 20, ..., 10, 15, 15],\n",
       "       [20, 20, 20, ..., 20, 20, 20]])"
      ]
     },
     "execution_count": 94,
     "metadata": {},
     "output_type": "execute_result"
    }
   ],
   "source": [
    "msa_2['msa']"
   ]
  },
  {
   "cell_type": "code",
   "execution_count": 3,
   "metadata": {},
   "outputs": [
    {
     "ename": "SyntaxError",
     "evalue": "invalid syntax (<ipython-input-3-773e0cd78e98>, line 5)",
     "output_type": "error",
     "traceback": [
      "\u001b[0;36m  File \u001b[0;32m\"<ipython-input-3-773e0cd78e98>\"\u001b[0;36m, line \u001b[0;32m5\u001b[0m\n\u001b[0;31m    for p in permutations(b)\u001b[0m\n\u001b[0m                            ^\u001b[0m\n\u001b[0;31mSyntaxError\u001b[0m\u001b[0;31m:\u001b[0m invalid syntax\n"
     ]
    }
   ],
   "source": [
    "from itertools import permutations, repeat\n",
    "with open('concat.txt') as f:\n",
    "    for clus_num_1,seq_1 in enumerate(msa_1['msa']):\n",
    "        clus_name_1 = 'cluster1_no_'+str(clus_num_1)\n",
    "        for clus_num_2,seq_2 in msa_2['msa']:\n",
    "            clus_name_2 = 'cluster2_no_'+str(clus_num_2)\n",
    "            f.write('>'clus_name_1+'_'+clus_name_2+'/1-'+str(len(seq_1)+len(seq_2))"
   ]
  },
  {
   "cell_type": "code",
   "execution_count": 121,
   "metadata": {
    "scrolled": false
   },
   "outputs": [
    {
     "data": {
      "text/html": [
       "<div>\n",
       "<style scoped>\n",
       "    .dataframe tbody tr th:only-of-type {\n",
       "        vertical-align: middle;\n",
       "    }\n",
       "\n",
       "    .dataframe tbody tr th {\n",
       "        vertical-align: top;\n",
       "    }\n",
       "\n",
       "    .dataframe thead th {\n",
       "        text-align: right;\n",
       "    }\n",
       "</style>\n",
       "<table border=\"1\" class=\"dataframe\">\n",
       "  <thead>\n",
       "    <tr style=\"text-align: right;\">\n",
       "      <th></th>\n",
       "      <th>full_names</th>\n",
       "      <th>seqs</th>\n",
       "      <th>names</th>\n",
       "      <th>region</th>\n",
       "      <th>species</th>\n",
       "    </tr>\n",
       "  </thead>\n",
       "  <tbody>\n",
       "    <tr>\n",
       "      <th>0</th>\n",
       "      <td>SGF11_YEAST/1-99</td>\n",
       "      <td>mteetitidsisngilnnllttliqDIVARETTQQQLLKTRYPDLR...</td>\n",
       "      <td>SGF11_YEAST</td>\n",
       "      <td>1-99</td>\n",
       "      <td>YEAST</td>\n",
       "    </tr>\n",
       "    <tr>\n",
       "      <th>1</th>\n",
       "      <td>tr|A0A1I8HZI1|A0A1I8HZI1_9PLAT/121-201</td>\n",
       "      <td>.........................------------QQQQQQQQK...</td>\n",
       "      <td>tr|A0A1I8HZI1|A0A1I8HZI1_9PLAT</td>\n",
       "      <td>121-201</td>\n",
       "      <td>9PLAT</td>\n",
       "    </tr>\n",
       "    <tr>\n",
       "      <th>2</th>\n",
       "      <td>tr|A0A1I8HZI1|A0A1I8HZI1_9PLAT/269-323</td>\n",
       "      <td>.........................---------------QQPPTQ...</td>\n",
       "      <td>tr|A0A1I8HZI1|A0A1I8HZI1_9PLAT</td>\n",
       "      <td>269-323</td>\n",
       "      <td>9PLAT</td>\n",
       "    </tr>\n",
       "    <tr>\n",
       "      <th>3</th>\n",
       "      <td>tr|A0A1I8HZI1|A0A1I8HZI1_9PLAT/332-393</td>\n",
       "      <td>.........................---------PKHQRRPEPQKP...</td>\n",
       "      <td>tr|A0A1I8HZI1|A0A1I8HZI1_9PLAT</td>\n",
       "      <td>332-393</td>\n",
       "      <td>9PLAT</td>\n",
       "    </tr>\n",
       "    <tr>\n",
       "      <th>4</th>\n",
       "      <td>tr|A0A2C9JJT7|A0A2C9JJT7_BIOGL/328-380</td>\n",
       "      <td>.........................------------------ETN...</td>\n",
       "      <td>tr|A0A2C9JJT7|A0A2C9JJT7_BIOGL</td>\n",
       "      <td>328-380</td>\n",
       "      <td>BIOGL</td>\n",
       "    </tr>\n",
       "  </tbody>\n",
       "</table>\n",
       "</div>"
      ],
      "text/plain": [
       "                               full_names  \\\n",
       "0                        SGF11_YEAST/1-99   \n",
       "1  tr|A0A1I8HZI1|A0A1I8HZI1_9PLAT/121-201   \n",
       "2  tr|A0A1I8HZI1|A0A1I8HZI1_9PLAT/269-323   \n",
       "3  tr|A0A1I8HZI1|A0A1I8HZI1_9PLAT/332-393   \n",
       "4  tr|A0A2C9JJT7|A0A2C9JJT7_BIOGL/328-380   \n",
       "\n",
       "                                                seqs  \\\n",
       "0  mteetitidsisngilnnllttliqDIVARETTQQQLLKTRYPDLR...   \n",
       "1  .........................------------QQQQQQQQK...   \n",
       "2  .........................---------------QQPPTQ...   \n",
       "3  .........................---------PKHQRRPEPQKP...   \n",
       "4  .........................------------------ETN...   \n",
       "\n",
       "                            names   region species  \n",
       "0                     SGF11_YEAST     1-99   YEAST  \n",
       "1  tr|A0A1I8HZI1|A0A1I8HZI1_9PLAT  121-201   9PLAT  \n",
       "2  tr|A0A1I8HZI1|A0A1I8HZI1_9PLAT  269-323   9PLAT  \n",
       "3  tr|A0A1I8HZI1|A0A1I8HZI1_9PLAT  332-393   9PLAT  \n",
       "4  tr|A0A2C9JJT7|A0A2C9JJT7_BIOGL  328-380   BIOGL  "
      ]
     },
     "execution_count": 121,
     "metadata": {},
     "output_type": "execute_result"
    }
   ],
   "source": [
    "header = []\n",
    "sequence = []\n",
    "lines = open(\"allpdb0148/align_1/allpdb0148.a2m\", \"r\")\n",
    "for line in lines:\n",
    "    line = line.rstrip()\n",
    "    if line[0] == \">\":\n",
    "        header.append(line[1:])\n",
    "        sequence.append([])\n",
    "    else:\n",
    "        sequence[-1].append(line)\n",
    "lines.close()\n",
    "sequence = [''.join(seq) for seq in sequence]\n",
    "\n",
    "msa1_df = pd.DataFrame()\n",
    "msa1_df['full_names']=np.array(header)\n",
    "msa1_df['seqs']=np.array(sequence)\n",
    "msa1_df['names']=msa1_df.full_names.str.split('/',expand=True)[0]\n",
    "msa1_df['region'] = msa1_df.full_names.str.split('/',expand=True)[1]\n",
    "msa1_df['species']=msa1_df.names.str.split('_',expand=True)[1]\n",
    "#msa1_df['monomer'] = np.ones([len(np.array(header))],dtype = np.int)\n",
    "msa1_df.head()"
   ]
  },
  {
   "cell_type": "code",
   "execution_count": 122,
   "metadata": {},
   "outputs": [
    {
     "data": {
      "text/html": [
       "<div>\n",
       "<style scoped>\n",
       "    .dataframe tbody tr th:only-of-type {\n",
       "        vertical-align: middle;\n",
       "    }\n",
       "\n",
       "    .dataframe tbody tr th {\n",
       "        vertical-align: top;\n",
       "    }\n",
       "\n",
       "    .dataframe thead th {\n",
       "        text-align: right;\n",
       "    }\n",
       "</style>\n",
       "<table border=\"1\" class=\"dataframe\">\n",
       "  <thead>\n",
       "    <tr style=\"text-align: right;\">\n",
       "      <th></th>\n",
       "      <th>full_names</th>\n",
       "      <th>seqs</th>\n",
       "      <th>names</th>\n",
       "      <th>region</th>\n",
       "      <th>species</th>\n",
       "    </tr>\n",
       "  </thead>\n",
       "  <tbody>\n",
       "    <tr>\n",
       "      <th>0</th>\n",
       "      <td>SUS1_YEAST/1-96</td>\n",
       "      <td>mtmdtaQLKSQIQQYLVESGNYELISNELKARLLQEGWVDKVKDLT...</td>\n",
       "      <td>SGF11_YEAST</td>\n",
       "      <td>1-99</td>\n",
       "      <td>YEAST</td>\n",
       "    </tr>\n",
       "    <tr>\n",
       "      <th>1</th>\n",
       "      <td>tr|A0A091DY92|A0A091DY92_FUKDA/3-92</td>\n",
       "      <td>...kdaQMRAAINQKLIETGERERLKELLRAKLIECGWKDQLKAHC...</td>\n",
       "      <td>tr|A0A1I8HZI1|A0A1I8HZI1_9PLAT</td>\n",
       "      <td>121-201</td>\n",
       "      <td>9PLAT</td>\n",
       "    </tr>\n",
       "    <tr>\n",
       "      <th>2</th>\n",
       "      <td>tr|A0A1S3EU27|A0A1S3EU27_DIPOR/3-92</td>\n",
       "      <td>...kdaQMRAAINQKLIETGERERLKELLRAKLIECGWKDQLKAHC...</td>\n",
       "      <td>tr|A0A1I8HZI1|A0A1I8HZI1_9PLAT</td>\n",
       "      <td>269-323</td>\n",
       "      <td>9PLAT</td>\n",
       "    </tr>\n",
       "    <tr>\n",
       "      <th>3</th>\n",
       "      <td>tr|A0A1S3WCK5|A0A1S3WCK5_ERIEU/3-92</td>\n",
       "      <td>...kdaQMRAAINQKLIETGERERLKELLRAKLIECGWKDQLKAHC...</td>\n",
       "      <td>tr|A0A1I8HZI1|A0A1I8HZI1_9PLAT</td>\n",
       "      <td>332-393</td>\n",
       "      <td>9PLAT</td>\n",
       "    </tr>\n",
       "    <tr>\n",
       "      <th>4</th>\n",
       "      <td>tr|A0A1U7TT05|A0A1U7TT05_TARSY/3-92</td>\n",
       "      <td>...kdaQMRAAINQKLIETGERERLKELLRAKLIECGWKDQLKAHC...</td>\n",
       "      <td>tr|A0A2C9JJT7|A0A2C9JJT7_BIOGL</td>\n",
       "      <td>328-380</td>\n",
       "      <td>BIOGL</td>\n",
       "    </tr>\n",
       "  </tbody>\n",
       "</table>\n",
       "</div>"
      ],
      "text/plain": [
       "                            full_names  \\\n",
       "0                      SUS1_YEAST/1-96   \n",
       "1  tr|A0A091DY92|A0A091DY92_FUKDA/3-92   \n",
       "2  tr|A0A1S3EU27|A0A1S3EU27_DIPOR/3-92   \n",
       "3  tr|A0A1S3WCK5|A0A1S3WCK5_ERIEU/3-92   \n",
       "4  tr|A0A1U7TT05|A0A1U7TT05_TARSY/3-92   \n",
       "\n",
       "                                                seqs  \\\n",
       "0  mtmdtaQLKSQIQQYLVESGNYELISNELKARLLQEGWVDKVKDLT...   \n",
       "1  ...kdaQMRAAINQKLIETGERERLKELLRAKLIECGWKDQLKAHC...   \n",
       "2  ...kdaQMRAAINQKLIETGERERLKELLRAKLIECGWKDQLKAHC...   \n",
       "3  ...kdaQMRAAINQKLIETGERERLKELLRAKLIECGWKDQLKAHC...   \n",
       "4  ...kdaQMRAAINQKLIETGERERLKELLRAKLIECGWKDQLKAHC...   \n",
       "\n",
       "                            names   region species  \n",
       "0                     SGF11_YEAST     1-99   YEAST  \n",
       "1  tr|A0A1I8HZI1|A0A1I8HZI1_9PLAT  121-201   9PLAT  \n",
       "2  tr|A0A1I8HZI1|A0A1I8HZI1_9PLAT  269-323   9PLAT  \n",
       "3  tr|A0A1I8HZI1|A0A1I8HZI1_9PLAT  332-393   9PLAT  \n",
       "4  tr|A0A2C9JJT7|A0A2C9JJT7_BIOGL  328-380   BIOGL  "
      ]
     },
     "execution_count": 122,
     "metadata": {},
     "output_type": "execute_result"
    }
   ],
   "source": [
    "header = []\n",
    "sequence = []\n",
    "lines = open(\"allpdb0148/align_2/allpdb0148.a2m\", \"r\")\n",
    "for line in lines:\n",
    "    line = line.rstrip()\n",
    "    if line[0] == \">\":\n",
    "        header.append(line[1:])\n",
    "        sequence.append([])\n",
    "    else:\n",
    "        sequence[-1].append(line)\n",
    "lines.close()\n",
    "sequence = [''.join(seq) for seq in sequence]\n",
    "\n",
    "msa2_df = pd.DataFrame()\n",
    "msa2_df['full_names']=np.array(header)\n",
    "msa2_df['seqs']=np.array(sequence)\n",
    "msa2_df['names']=msa1_df.full_names.str.split('/',expand=True)[0]\n",
    "msa2_df['region'] = msa1_df.full_names.str.split('/',expand=True)[1]\n",
    "msa2_df['species']=msa1_df.names.str.split('_',expand=True)[1]\n",
    "#msa2_df['monomer'] = np.ones([len(np.array(header))],dtype = np.int)*2\n",
    "msa2_df.head()"
   ]
  },
  {
   "cell_type": "code",
   "execution_count": 123,
   "metadata": {},
   "outputs": [],
   "source": [
    "species_list = np.unique(np.concatenate((msa2_df['species'].values,msa1_df['species'].values)))\n",
    "species_list = np.unique(msa2_df['species'])"
   ]
  },
  {
   "cell_type": "code",
   "execution_count": 124,
   "metadata": {},
   "outputs": [
    {
     "data": {
      "text/plain": [
       "array([], dtype=object)"
      ]
     },
     "execution_count": 124,
     "metadata": {},
     "output_type": "execute_result"
    }
   ],
   "source": [
    "np.setdiff1d(msa2_df['species'].values,msa1_df['species'].values)"
   ]
  },
  {
   "cell_type": "code",
   "execution_count": 125,
   "metadata": {},
   "outputs": [],
   "source": [
    "import itertools"
   ]
  },
  {
   "cell_type": "code",
   "execution_count": 142,
   "metadata": {},
   "outputs": [],
   "source": [
    "with open('concat.a2m','w+') as f:\n",
    "    for spec in species_list:\n",
    "        for prod in (itertools.product(msa1_df[msa1_df['species']==spec]['full_names'].values,msa2_df[msa2_df['species']==spec]['full_names'].values)):\n",
    "            f.write('>'+msa1_df[msa1_df['full_names']==prod[0]]['names'].values[0]+'-'+msa2_df[msa2_df['full_names']==prod[1]]['names'].values[0]+'/'+msa1_df[msa1_df['full_names']==prod[0]]['region'].values[0]+'-'+msa2_df[msa2_df['full_names']==prod[1]]['region'].values[0]+'\\n')\n",
    "            f.write(msa1_df[msa1_df['full_names']==prod[0]]['seqs'].values[0]+msa2_df[msa2_df['full_names']==prod[1]]['seqs'].values[0]+'\\n')"
   ]
  },
  {
   "cell_type": "code",
   "execution_count": 136,
   "metadata": {},
   "outputs": [
    {
     "ename": "IndexError",
     "evalue": "index 0 is out of bounds for axis 0 with size 0",
     "output_type": "error",
     "traceback": [
      "\u001b[0;31m---------------------------------------------------------------------------\u001b[0m",
      "\u001b[0;31mIndexError\u001b[0m                                Traceback (most recent call last)",
      "\u001b[0;32m<ipython-input-136-b382a13f2e53>\u001b[0m in \u001b[0;36m<module>\u001b[0;34m\u001b[0m\n\u001b[0;32m----> 1\u001b[0;31m \u001b[0mmsa1_df\u001b[0m\u001b[0;34m[\u001b[0m\u001b[0mmsa1_df\u001b[0m\u001b[0;34m[\u001b[0m\u001b[0;34m'full_names'\u001b[0m\u001b[0;34m]\u001b[0m\u001b[0;34m==\u001b[0m\u001b[0mprod\u001b[0m\u001b[0;34m[\u001b[0m\u001b[0;36m1\u001b[0m\u001b[0;34m]\u001b[0m\u001b[0;34m]\u001b[0m\u001b[0;34m[\u001b[0m\u001b[0;34m'seqs'\u001b[0m\u001b[0;34m]\u001b[0m\u001b[0;34m.\u001b[0m\u001b[0mvalues\u001b[0m\u001b[0;34m[\u001b[0m\u001b[0;36m0\u001b[0m\u001b[0;34m]\u001b[0m\u001b[0;34m\u001b[0m\u001b[0;34m\u001b[0m\u001b[0m\n\u001b[0m",
      "\u001b[0;31mIndexError\u001b[0m: index 0 is out of bounds for axis 0 with size 0"
     ]
    }
   ],
   "source": [
    "msa1_df[msa1_df['full_names']==prod[1]]['seqs'].values[0]"
   ]
  },
  {
   "cell_type": "code",
   "execution_count": 140,
   "metadata": {},
   "outputs": [
    {
     "data": {
      "text/plain": [
       "'......RLTQSVEKQFVESGEQQRIVDTLMKRLKESGWEDEVKKMVHKIIKEKDGATAEAIFEELKTPSRRLVSNETKQEVYQMIRKFVADqm...'"
      ]
     },
     "execution_count": 140,
     "metadata": {},
     "output_type": "execute_result"
    }
   ],
   "source": [
    "msa2_df[msa2_df['full_names']==prod[1]]['seqs'].values[0]\n"
   ]
  },
  {
   "cell_type": "code",
   "execution_count": null,
   "metadata": {},
   "outputs": [],
   "source": []
  }
 ],
 "metadata": {
  "kernelspec": {
   "display_name": "Python 3",
   "language": "python",
   "name": "python3"
  },
  "language_info": {
   "codemirror_mode": {
    "name": "ipython",
    "version": 3
   },
   "file_extension": ".py",
   "mimetype": "text/x-python",
   "name": "python",
   "nbconvert_exporter": "python",
   "pygments_lexer": "ipython3",
   "version": "3.7.3"
  }
 },
 "nbformat": 4,
 "nbformat_minor": 2
}
