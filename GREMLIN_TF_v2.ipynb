{
  "nbformat": 4,
  "nbformat_minor": 0,
  "metadata": {
    "colab": {
      "name": "GREMLIN_TF_v2.ipynb",
      "version": "0.3.2",
      "provenance": [],
      "collapsed_sections": [],
      "include_colab_link": true
    },
    "kernelspec": {
      "name": "python3",
      "display_name": "Python 3"
    },
    "accelerator": "GPU"
  },
  "cells": [
    {
      "cell_type": "markdown",
      "metadata": {
        "id": "view-in-github",
        "colab_type": "text"
      },
      "source": [
        "<a href=\"https://colab.research.google.com/github/ayshaw/multimerCorrection/blob/master/GREMLIN_TF_v2.ipynb\" target=\"_parent\"><img src=\"https://colab.research.google.com/assets/colab-badge.svg\" alt=\"Open In Colab\"/></a>"
      ]
    },
    {
      "cell_type": "markdown",
      "metadata": {
        "id": "mu2S86VhS-8t",
        "colab_type": "text"
      },
      "source": [
        "# GREMLIN_TF v2.1\n",
        "GREMLIN implemented in tensorflow\n",
        "\n",
        "### Change log:\n",
        "*   02Apr2019\n",
        " - fixing a few hard-coded values, to allow GREMLIN to work with any alphabet (binary, protein, rna etc)\n",
        "*   22Jan2019\n",
        " - moving [GREMLIN_TF_simple](https://colab.research.google.com/github/sokrypton/GREMLIN_CPP/blob/master/GREMLIN_TF_simple.ipynb) to a seperate notebook\n",
        "*   19Jan2019\n",
        " - in the past we found that optimizing V first, required less iterations for convergence. Since V can be computed exactly (assuming no W), we replace this first optimization step with a simple V initialization.\n",
        " - a few variables were renamed to be consistent with the c++ version\n",
        "*   16Jan2019\n",
        " - updating how indices are handled (for easier/cleaner parsing)\n",
        " - minor speed up in how we symmetrize and zero the diagional of W\n",
        "*   15Jan2019\n",
        " - LBFGS optimizer replaced with a modified version of the ADAM optimizer\n",
        " - Added option for stochastic gradient descent (via batch_size)\n",
        "  \n",
        "### Method:\n",
        "GREMLIN takes a multiple sequence alignment (MSA) and returns a Markov Random Field (MRF). The MRF consists of a one-body term (V) that encodes conservation, and a two-body term (W) that encodes co-evolution.\n",
        "\n",
        "For more details about the method see:\n",
        "[Google slides](https://docs.google.com/presentation/d/1aooxoksosSv7CWs9-ktqhUjyXR3wrgbG5a6PCr92od4/) and accompanying [Google colab](https://colab.research.google.com/drive/17RJcExuyifnd7ShTcsZGh6mBpWq0-s60)\n",
        "\n",
        "See [GREMLIN_TF_simple](https://colab.research.google.com/github/sokrypton/GREMLIN_CPP/blob/master/GREMLIN_TF_simple.ipynb) for a stripped down version of this code (with no funky gap removal, sequence weight, etc). This is intented for educational purpose,  and could also be very useful for anyone trying to modify or improve the algorithm!\n"
      ]
    },
    {
      "cell_type": "code",
      "metadata": {
        "id": "yM3wyYU5SwYn",
        "colab_type": "code",
        "colab": {}
      },
      "source": [
        "# ------------------------------------------------------------\n",
        "# \"THE BEERWARE LICENSE\" (Revision 42):\n",
        "# <so@g.harvard.edu> and <pkk382@g.harvard.edu> wrote this code.\n",
        "# As long as you retain this notice, you can do whatever you want\n",
        "# with this stuff. If we meet someday, and you think this stuff\n",
        "# is worth it, you can buy us a beer in return.\n",
        "# --Sergey Ovchinnikov and Peter Koo\n",
        "# ------------------------------------------------------------"
      ],
      "execution_count": 0,
      "outputs": []
    },
    {
      "cell_type": "code",
      "metadata": {
        "id": "7dPDyxCIFBcZ",
        "colab_type": "code",
        "colab": {
          "base_uri": "https://localhost:8080/",
          "height": 235
        },
        "outputId": "f9548c64-b8cb-40fe-abb3-5cbfa7212155"
      },
      "source": [
        "# !wget https://bin.equinox.io/c/4VmDzA7iaHb/ngrok-stable-linux-amd64.zip\n",
        "# !unzip ngrok-stable-linux-amd64.zip"
      ],
      "execution_count": 30,
      "outputs": [
        {
          "output_type": "stream",
          "text": [
            "--2019-07-24 17:49:11--  https://bin.equinox.io/c/4VmDzA7iaHb/ngrok-stable-linux-amd64.zip\n",
            "Resolving bin.equinox.io (bin.equinox.io)... 52.202.60.111, 35.172.177.65, 52.71.139.107, ...\n",
            "Connecting to bin.equinox.io (bin.equinox.io)|52.202.60.111|:443... connected.\n",
            "HTTP request sent, awaiting response... 200 OK\n",
            "Length: 13607069 (13M) [application/octet-stream]\n",
            "Saving to: ‘ngrok-stable-linux-amd64.zip.1’\n",
            "\n",
            "\r          ngrok-sta   0%[                    ]       0  --.-KB/s               \rngrok-stable-linux- 100%[===================>]  12.98M  79.9MB/s    in 0.2s    \n",
            "\n",
            "2019-07-24 17:49:11 (79.9 MB/s) - ‘ngrok-stable-linux-amd64.zip.1’ saved [13607069/13607069]\n",
            "\n",
            "Archive:  ngrok-stable-linux-amd64.zip\n",
            "replace ngrok? [y]es, [n]o, [A]ll, [N]one, [r]ename: n\n"
          ],
          "name": "stdout"
        }
      ]
    },
    {
      "cell_type": "code",
      "metadata": {
        "id": "jArH-1qgFmjW",
        "colab_type": "code",
        "colab": {}
      },
      "source": [
        "LOG_DIR = './log'\n",
        "get_ipython().system_raw(\n",
        "    'tensorboard --logdir {} --host 0.0.0.0 --port 6006 &'\n",
        "    .format(LOG_DIR)\n",
        ")"
      ],
      "execution_count": 0,
      "outputs": []
    },
    {
      "cell_type": "code",
      "metadata": {
        "id": "efup0wCKFpkM",
        "colab_type": "code",
        "colab": {}
      },
      "source": [
        "get_ipython().system_raw('./ngrok http 6006 &')\n"
      ],
      "execution_count": 0,
      "outputs": []
    },
    {
      "cell_type": "code",
      "metadata": {
        "id": "dkBlygcPFt0J",
        "colab_type": "code",
        "colab": {
          "base_uri": "https://localhost:8080/",
          "height": 34
        },
        "outputId": "1816d032-0cbf-455f-d9fd-b050ac50ae63"
      },
      "source": [
        "! curl -s http://localhost:4040/api/tunnels | python3 -c \\\n",
        "    \"import sys, json; print(json.load(sys.stdin)['tunnels'][0]['public_url'])\""
      ],
      "execution_count": 35,
      "outputs": [
        {
          "output_type": "stream",
          "text": [
            "http://e5d19bd9.ngrok.io\n"
          ],
          "name": "stdout"
        }
      ]
    },
    {
      "cell_type": "markdown",
      "metadata": {
        "id": "NLUvPVyxb7bo",
        "colab_type": "text"
      },
      "source": [
        "## libraries"
      ]
    },
    {
      "cell_type": "code",
      "metadata": {
        "id": "YyJpLM_tJfrY",
        "colab_type": "code",
        "colab": {}
      },
      "source": [
        "# IMPORTANT, only tested using PYTHON 3!\n",
        "import numpy as np\n",
        "import tensorflow as tf\n",
        "import matplotlib.pylab as plt\n",
        "from scipy import stats\n",
        "from scipy.spatial.distance import pdist,squareform\n",
        "import pandas as pd\n",
        "\n",
        "from keras.callbacks import TensorBoard\n",
        "tbCallBack = TensorBoard(log_dir='./log', histogram_freq=1,\n",
        "                         write_graph=True,\n",
        "                         write_grads=True,\n",
        "                         batch_size=None,\n",
        "                         write_images=True)"
      ],
      "execution_count": 0,
      "outputs": []
    },
    {
      "cell_type": "markdown",
      "metadata": {
        "id": "j0Yp7bPRmvwU",
        "colab_type": "text"
      },
      "source": [
        "## Params"
      ]
    },
    {
      "cell_type": "code",
      "metadata": {
        "id": "o3c7KURqmugY",
        "colab_type": "code",
        "colab": {}
      },
      "source": [
        "################\n",
        "# note: if you are modifying the alphabet\n",
        "# make sure last character is \"-\" (gap)\n",
        "################\n",
        "alphabet = \"ARNDCQEGHILKMFPSTWYV-\"\n",
        "states = len(alphabet)\n",
        "a2n = {}\n",
        "for a,n in zip(alphabet,range(states)):\n",
        "  a2n[a] = n\n",
        "################\n",
        "\n",
        "def aa2num(aa):\n",
        "  '''convert aa into num'''\n",
        "  if aa in a2n: return a2n[aa]\n",
        "  else: return a2n['-']"
      ],
      "execution_count": 0,
      "outputs": []
    },
    {
      "cell_type": "markdown",
      "metadata": {
        "id": "bX6GXKV3I2pm",
        "colab_type": "text"
      },
      "source": [
        "## Functions for prepping the MSA (Multiple sequence alignment)"
      ]
    },
    {
      "cell_type": "code",
      "metadata": {
        "id": "zA0Bne59SUIu",
        "colab_type": "code",
        "colab": {}
      },
      "source": [
        "# from fasta\n",
        "def parse_fasta(filename,limit=-1):\n",
        "  '''function to parse fasta'''\n",
        "  header = []\n",
        "  sequence = []\n",
        "  lines = open(filename, \"r\")\n",
        "  for line in lines:\n",
        "    line = line.rstrip()\n",
        "    if line[0] == \">\":\n",
        "      if len(header) == limit:\n",
        "        break\n",
        "      header.append(line[1:])\n",
        "      sequence.append([])\n",
        "    else:\n",
        "      sequence[-1].append(line)\n",
        "  lines.close()\n",
        "  sequence = [''.join(seq) for seq in sequence]\n",
        "  return np.array(header), np.array(sequence)\n",
        "\n",
        "def filt_gaps(msa,gap_cutoff=0.5):\n",
        "  '''filters alignment to remove gappy positions'''\n",
        "  tmp = (msa == states-1).astype(np.float)\n",
        "  non_gaps = np.where(np.sum(tmp.T,-1).T/msa.shape[0] < gap_cutoff)[0]\n",
        "  return msa[:,non_gaps],non_gaps\n",
        "\n",
        "def get_eff(msa,eff_cutoff=0.8):\n",
        "  '''compute effective weight for each sequence'''\n",
        "  ncol = msa.shape[1]\n",
        "  \n",
        "  # pairwise identity\n",
        "  msa_sm = 1.0 - squareform(pdist(msa,\"hamming\"))\n",
        "\n",
        "  # weight for each sequence\n",
        "  msa_w = (msa_sm >= eff_cutoff).astype(np.float)\n",
        "  msa_w = 1/np.sum(msa_w,-1)\n",
        "  \n",
        "  return msa_w\n",
        "\n",
        "def mk_msa(seqs):\n",
        "  '''converts list of sequences to msa'''\n",
        "  \n",
        "  msa_ori = []\n",
        "  for seq in seqs:\n",
        "    msa_ori.append([aa2num(aa) for aa in seq])\n",
        "  msa_ori = np.array(msa_ori)\n",
        "  \n",
        "  # remove positions with more than > 50% gaps\n",
        "  msa, v_idx = filt_gaps(msa_ori,0.5)\n",
        "  \n",
        "  # compute effective weight for each sequence\n",
        "  msa_weights = get_eff(msa,0.8)\n",
        "\n",
        "  # compute effective number of sequences\n",
        "  ncol = msa.shape[1] # length of sequence\n",
        "  w_idx = v_idx[np.stack(np.triu_indices(ncol,1),-1)]\n",
        "  \n",
        "  return {\"msa_ori\":msa_ori,\n",
        "          \"msa\":msa,\n",
        "          \"weights\":msa_weights,\n",
        "          \"neff\":np.sum(msa_weights),\n",
        "          \"v_idx\":v_idx,\n",
        "          \"w_idx\":w_idx,\n",
        "          \"nrow\":msa.shape[0],\n",
        "          \"ncol\":ncol,\n",
        "          \"ncol_ori\":msa_ori.shape[1]}\n"
      ],
      "execution_count": 0,
      "outputs": []
    },
    {
      "cell_type": "markdown",
      "metadata": {
        "id": "fky6gk-HlFyi",
        "colab_type": "text"
      },
      "source": [
        "## GREMLIN"
      ]
    },
    {
      "cell_type": "code",
      "metadata": {
        "id": "gx14M7Tvu-Ct",
        "colab_type": "code",
        "colab": {}
      },
      "source": [
        "# external functions\n",
        "\n",
        "def sym_w(w):\n",
        "  '''symmetrize input matrix of shape (x,y,x,y)'''\n",
        "  x = w.shape[0]\n",
        "  w = w * np.reshape(1-np.eye(x),(x,1,x,1))\n",
        "  w = w + tf.transpose(w,[2,3,0,1])\n",
        "  return w\n",
        "\n",
        "def opt_adam(loss, name, var_list=None, lr=1.0, b1=0.9, b2=0.999, b_fix=False):\n",
        "  # adam optimizer\n",
        "  # Note: this is a modified version of adam optimizer. More specifically, we replace \"vt\"\n",
        "  # with sum(g*g) instead of (g*g). Furthmore, we find that disabling the bias correction\n",
        "  # (b_fix=False) speeds up convergence for our case.\n",
        "  \n",
        "  if var_list is None: var_list = tf.trainable_variables() \n",
        "  gradients = tf.gradients(loss,var_list)\n",
        "  if b_fix: t = tf.Variable(0.0,\"t\")\n",
        "  opt = []\n",
        "  for n,(x,g) in enumerate(zip(var_list,gradients)):\n",
        "    if g is not None:\n",
        "      ini = dict(initializer=tf.zeros_initializer,trainable=False)\n",
        "      mt = tf.get_variable(name+\"_mt_\"+str(n),shape=list(x.shape), **ini)\n",
        "      vt = tf.get_variable(name+\"_vt_\"+str(n),shape=[], **ini)\n",
        "      \n",
        "      mt_tmp = b1*mt+(1-b1)*g\n",
        "      vt_tmp = b2*vt+(1-b2)*tf.reduce_sum(tf.square(g))\n",
        "      lr_tmp = lr/(tf.sqrt(vt_tmp) + 1e-8)\n",
        "\n",
        "      if b_fix: lr_tmp = lr_tmp * tf.sqrt(1-tf.pow(b2,t))/(1-tf.pow(b1,t))\n",
        "\n",
        "      opt.append(x.assign_add(-lr_tmp * mt_tmp))\n",
        "      opt.append(vt.assign(vt_tmp))\n",
        "      opt.append(mt.assign(mt_tmp))\n",
        "        \n",
        "  if b_fix: opt.append(t.assign_add(1.0))\n",
        "  return(tf.group(opt))"
      ],
      "execution_count": 0,
      "outputs": []
    },
    {
      "cell_type": "code",
      "metadata": {
        "id": "BqYqlJAXVI9N",
        "colab_type": "code",
        "colab": {}
      },
      "source": [
        "def GREMLIN(msa, opt_type=\"adam\", opt_iter=100, opt_rate=1.0, batch_size=None):\n",
        "  \n",
        "  ##############################################################\n",
        "  # SETUP COMPUTE GRAPH\n",
        "  ##############################################################\n",
        "  # kill any existing tensorflow graph\n",
        "  tf.reset_default_graph()\n",
        "  \n",
        "  ncol = msa[\"ncol\"] # length of sequence\n",
        "  nrow = msa[\"nrow\"] # number of sequences\n",
        "  print(\"ncol: {},n nrow: {}\".format(ncol,nrow))\n",
        "\n",
        "  # msa (multiple sequence alignment) \n",
        "  MSA = tf.placeholder(tf.int32,shape=(None,ncol),name=\"msa\")\n",
        "  \n",
        "  # one-hot encode msa\n",
        "  OH_MSA = tf.one_hot(MSA,states)\n",
        "  \n",
        "  # msa weights\n",
        "  MSA_weights = tf.placeholder(tf.float32, shape=(None,), name=\"msa_weights\")\n",
        "  \n",
        "  # 1-body-term of the MRF\n",
        "  V = tf.get_variable(name=\"V\", \n",
        "                      shape=[ncol,states],\n",
        "                      initializer=tf.zeros_initializer)\n",
        "\n",
        "  # 2-body-term of the MRF\n",
        "  W = tf.get_variable(name=\"W\",\n",
        "                      shape=[ncol,states,ncol,states],\n",
        "                      initializer=tf.zeros_initializer)\n",
        "  \n",
        "  # weights for concatenation\n",
        "  wb = tf.get_variable(name=\"wb\",\n",
        "                      shape=[nrow],\n",
        "                      initializer=tf.random_normal_initializer(0.5))\n",
        "  \n",
        "  # symmetrize W\n",
        "  W = sym_w(W)\n",
        "  \n",
        "  def L2(x): return tf.reduce_sum(tf.square(x))\n",
        "  \n",
        "  ########################################\n",
        "  # V + W\n",
        "  ########################################\n",
        "  VW = V + tf.tensordot(OH_MSA,W,2)\n",
        "\n",
        "  # hamiltonian\n",
        "  H = tf.reduce_sum(tf.multiply(OH_MSA,VW),axis=(1,2))\n",
        "  \n",
        "  # local Z (parition function)\n",
        "  Z = tf.reduce_sum(tf.reduce_logsumexp(VW,axis=2),axis=1)\n",
        "  \n",
        "  # Psuedo-Log-Likelihood\n",
        "  PLL = H - Z\n",
        "  wb = wb/tf.reduce_sum(wb)\n",
        "  # Regularization\n",
        "  L2_V = 0.01 * L2(V)\n",
        "  L2_W = 0.01 * L2(W) * 0.5 * (ncol-1) * (states-1)\n",
        "  L2_wb = 0.01 * L2(wb)\n",
        "\n",
        "  # loss function to minimize\n",
        "  loss = -tf.reduce_sum(PLL*MSA_weights*wb)/tf.reduce_sum(MSA_weights*wb)\n",
        "  loss = loss + (L2_V + L2_W + L2_wb)/msa[\"neff\"]\n",
        "\n",
        "  ##############################################################\n",
        "  # MINIMIZE LOSS FUNCTION\n",
        "  ##############################################################\n",
        "  if opt_type == \"adam\":  \n",
        "    opt = opt_adam(loss,\"adam\",lr=opt_rate)\n",
        "\n",
        "  # generate input/feed\n",
        "  def feed(feed_all=False):\n",
        "    if batch_size is None or feed_all:\n",
        "      return {MSA:msa[\"msa\"], MSA_weights:msa[\"weights\"]}\n",
        "    else:\n",
        "      idx = np.random.randint(0,msa[\"nrow\"],size=batch_size)\n",
        "      return {MSA:msa[\"msa\"][idx], MSA_weights:msa[\"weights\"][idx]}\n",
        "  \n",
        "  # optimize!\n",
        "  with tf.Session() as sess:\n",
        "    # initialize variables V and W\n",
        "    sess.run(tf.global_variables_initializer())\n",
        "    \n",
        "    # initialize V\n",
        "    msa_cat = tf.keras.utils.to_categorical(msa[\"msa\"],states)\n",
        "    pseudo_count = 0.01 * np.log(msa[\"neff\"])\n",
        "    V_ini = np.log(np.sum(msa_cat.T * msa[\"weights\"],-1).T + pseudo_count)\n",
        "    V_ini = V_ini - np.mean(V_ini,-1,keepdims=True)\n",
        "    sess.run(V.assign(V_ini))\n",
        "    \n",
        "    wb_ini = sess.run(wb)\n",
        "    \n",
        "    # compute loss across all data\n",
        "    get_loss = lambda: round(sess.run(loss,feed(feed_all=True)) * msa[\"neff\"],2)\n",
        "    print(\"starting\",get_loss())\n",
        "    \n",
        "    if opt_type == \"lbfgs\":\n",
        "      lbfgs = tf.contrib.opt.ScipyOptimizerInterface\n",
        "      opt = lbfgs(loss,method=\"L-BFGS-B\",options={'maxiter': opt_iter})\n",
        "      opt.minimize(sess,feed(feed_all=True))\n",
        "      \n",
        "    if opt_type == \"adam\":\n",
        "      for i in range(opt_iter):\n",
        "        sess.run(opt,feed())  \n",
        "        if (i+1) % int(opt_iter/10) == 0:\n",
        "          print(\"iter\",(i+1),get_loss())\n",
        "    \n",
        "    # save the V and W parameters of the MRF\n",
        "    V_ = sess.run(V)\n",
        "    W_ = sess.run(W)\n",
        "    wb_ =sess.run(wb)\n",
        "    \n",
        "  # only return upper-right triangle of matrix (since it's symmetric)\n",
        "  tri = np.triu_indices(ncol,1)\n",
        "  W_ = W_[tri[0],:,tri[1],:]\n",
        "  \n",
        "  mrf = {\"v\": V_,\n",
        "         \"w\": W_,\n",
        "         \"wb\": wb_,\n",
        "         \"wb_ini\":wb_ini,\n",
        "         \"v_idx\": msa[\"v_idx\"],\n",
        "         \"w_idx\": msa[\"w_idx\"]}\n",
        "  \n",
        "  return mrf"
      ],
      "execution_count": 0,
      "outputs": []
    },
    {
      "cell_type": "markdown",
      "metadata": {
        "id": "mppg0JLtP25z",
        "colab_type": "text"
      },
      "source": [
        "## EXAMPLE"
      ]
    },
    {
      "cell_type": "code",
      "metadata": {
        "id": "bnigmLmAlyWv",
        "colab_type": "code",
        "colab": {}
      },
      "source": [
        "# download example fasta MSA\n",
        "!wget -q -nc https://gremlin2.bakerlab.org/db/PDB_EXP/fasta/4FAZA.fas"
      ],
      "execution_count": 0,
      "outputs": []
    },
    {
      "cell_type": "code",
      "metadata": {
        "id": "osaZwTSMOicF",
        "colab_type": "code",
        "colab": {}
      },
      "source": [
        "# ===============================================================================\n",
        "# PREP MSA\n",
        "# ===============================================================================\n",
        "# parse fasta\n",
        "names, seqs = parse_fasta(\"4FAZA.fas\")\n",
        "\n",
        "# process input sequences\n",
        "msa = mk_msa(seqs)"
      ],
      "execution_count": 0,
      "outputs": []
    },
    {
      "cell_type": "code",
      "metadata": {
        "id": "CoBRuqmVVrbD",
        "colab_type": "code",
        "outputId": "18095137-a4c4-4c1b-9e60-448ad385619e",
        "colab": {
          "base_uri": "https://localhost:8080/",
          "height": 252
        }
      },
      "source": [
        "%%time\n",
        "# ===============================================================================\n",
        "# RUN GREMLIN\n",
        "# ===============================================================================\n",
        "# Note: the original GREMLIN uses the \"lbfgs\" optimizer which is EXTREMELY slow \n",
        "# in tensorflow. The modified adam optimizer is much faster, but may \n",
        "# require adjusting number of iterations (opt_iter) to converge to the same \n",
        "# solution. To switch back to the original, set opt_type=\"lbfgs\".\n",
        "# ===============================================================================\n",
        "mrf = GREMLIN(msa)"
      ],
      "execution_count": 123,
      "outputs": [
        {
          "output_type": "stream",
          "text": [
            "ncol: 61,n nrow: 817\n",
            "starting 50607.17\n",
            "iter 10 324778.37\n",
            "iter 20 367319.03\n",
            "iter 30 336636.64\n",
            "iter 40 287556.34\n",
            "iter 50 244316.27\n",
            "iter 60 210109.51\n",
            "iter 70 184554.91\n",
            "iter 80 166044.38\n",
            "iter 90 151963.82\n",
            "iter 100 140114.45\n",
            "CPU times: user 1.59 s, sys: 263 ms, total: 1.86 s\n",
            "Wall time: 1.73 s\n"
          ],
          "name": "stdout"
        }
      ]
    },
    {
      "cell_type": "markdown",
      "metadata": {
        "id": "jCrfC2Um4xww",
        "colab_type": "text"
      },
      "source": [
        "## Explore the contact map\n",
        "### Contact prediction:\n",
        "\n",
        "For contact prediction, the W matrix is reduced from LxLx21x21 to LxL matrix (by taking the L2norm for each of the 20x20). In the code below, you can access this as mtx[\"raw\"]. Further correction (average product correction) is then performed to the mtx[\"raw\"] to remove the effects of entropy, mtx[\"apc\"]. The relative ranking of mtx[\"apc\"] is used to assess importance. When there are enough effective sequences (>1000), we find that the top 1.0L contacts are ~90% accurate! When the number of effective sequences is lower, NN can help clean noise and fill in missing contacts.\n"
      ]
    },
    {
      "cell_type": "markdown",
      "metadata": {
        "id": "XxgQArVUPyPH",
        "colab_type": "text"
      },
      "source": [
        "## Functions for extracting contacts from MRF"
      ]
    },
    {
      "cell_type": "code",
      "metadata": {
        "id": "nMxp7up_P1_q",
        "colab_type": "code",
        "colab": {}
      },
      "source": [
        "###################\n",
        "def normalize(x):\n",
        "  x = stats.boxcox(x - np.amin(x) + 1.0)[0]\n",
        "  x_mean = np.mean(x)\n",
        "  x_std = np.std(x)\n",
        "  return((x-x_mean)/x_std)\n",
        "\n",
        "def get_mtx(mrf):\n",
        "  '''get mtx given mrf'''\n",
        "  \n",
        "  # l2norm of 20x20 matrices (note: we ignore gaps)\n",
        "  raw = np.sqrt(np.sum(np.square(mrf[\"w\"][:,:-1,:-1]),(1,2)))\n",
        "  raw_sq = squareform(raw)\n",
        "\n",
        "  # apc (average product correction)\n",
        "  ap_sq = np.sum(raw_sq,0,keepdims=True)*np.sum(raw_sq,1,keepdims=True)/np.sum(raw_sq)\n",
        "  apc = squareform(raw_sq - ap_sq, checks=False)\n",
        "\n",
        "  mtx = {\"i\": mrf[\"w_idx\"][:,0],\n",
        "         \"j\": mrf[\"w_idx\"][:,1],\n",
        "         \"raw\": raw,\n",
        "         \"apc\": apc,\n",
        "         \"zscore\": normalize(apc)}\n",
        "  return mtx\n",
        "\n",
        "def plot_mtx(mtx,key=\"zscore\",vmin=1,vmax=3):\n",
        "  '''plot the mtx'''\n",
        "  plt.figure(figsize=(5,5))\n",
        "  plt.imshow(squareform(mtx[key]), cmap='Blues', interpolation='none', vmin=vmin, vmax=vmax)\n",
        "  plt.grid(False)\n",
        "  plt.show()"
      ],
      "execution_count": 0,
      "outputs": []
    },
    {
      "cell_type": "code",
      "metadata": {
        "id": "RSleviAVPJ36",
        "colab_type": "code",
        "outputId": "ce42b301-4d93-4510-f1c4-6f12956e9c9f",
        "colab": {
          "base_uri": "https://localhost:8080/",
          "height": 323
        }
      },
      "source": [
        "mtx = get_mtx(mrf)  \n",
        "plot_mtx(mtx)"
      ],
      "execution_count": 125,
      "outputs": [
        {
          "output_type": "display_data",
          "data": {
            "image/png": "[encoded data removed]",
            "text/plain": [
              "<Figure size 360x360 with 1 Axes>"
            ]
          },
          "metadata": {
            "tags": []
          }
        }
      ]
    },
    {
      "cell_type": "markdown",
      "metadata": {
        "id": "qWaTHLTH5rGw",
        "colab_type": "text"
      },
      "source": [
        "## Look at top co-evolving residue pairs"
      ]
    },
    {
      "cell_type": "code",
      "metadata": {
        "id": "9A2yeOJ8uPNM",
        "colab_type": "code",
        "outputId": "45f0d846-d06b-4317-e892-bca860e1603f",
        "colab": {
          "base_uri": "https://localhost:8080/",
          "height": 343
        }
      },
      "source": [
        "######################################################################################\n",
        "# WARNING - WARNING - WARNING\n",
        "######################################################################################\n",
        "# - the i,j index starts at 0 (zero)\n",
        "# - the \"first\" position = 0\n",
        "# - often in biology first position of a sequence is 1\n",
        "#   for this index use i_aa and j_aa!\n",
        "\n",
        "# adding amino acid to index\n",
        "mtx[\"i_aa\"] = np.array([alphabet[msa['msa_ori'][0][i]]+\"_\"+str(i+1) for i in mtx[\"i\"]])\n",
        "mtx[\"j_aa\"] = np.array([alphabet[msa['msa_ori'][0][j]]+\"_\"+str(j+1) for j in mtx[\"j\"]])\n",
        "\n",
        "# load mtx into pandas dataframe\n",
        "pd_mtx = pd.DataFrame(mtx,columns=[\"i\",\"j\",\"apc\",\"zscore\",\"i_aa\",\"j_aa\"])\n",
        "\n",
        "# get contacts with sequence seperation > 5\n",
        "# sort by zscore, show top 10\n",
        "top = pd_mtx.loc[pd_mtx['j'] - pd_mtx['i'] > 5].sort_values(\"zscore\",ascending=False)\n",
        "top.head(10)"
      ],
      "execution_count": 126,
      "outputs": [
        {
          "output_type": "execute_result",
          "data": {
            "text/html": [
              "<div>\n",
              "<style scoped>\n",
              "    .dataframe tbody tr th:only-of-type {\n",
              "        vertical-align: middle;\n",
              "    }\n",
              "\n",
              "    .dataframe tbody tr th {\n",
              "        vertical-align: top;\n",
              "    }\n",
              "\n",
              "    .dataframe thead th {\n",
              "        text-align: right;\n",
              "    }\n",
              "</style>\n",
              "<table border=\"1\" class=\"dataframe\">\n",
              "  <thead>\n",
              "    <tr style=\"text-align: right;\">\n",
              "      <th></th>\n",
              "      <th>i</th>\n",
              "      <th>j</th>\n",
              "      <th>apc</th>\n",
              "      <th>zscore</th>\n",
              "      <th>i_aa</th>\n",
              "      <th>j_aa</th>\n",
              "    </tr>\n",
              "  </thead>\n",
              "  <tbody>\n",
              "    <tr>\n",
              "      <th>855</th>\n",
              "      <td>16</td>\n",
              "      <td>32</td>\n",
              "      <td>0.751927</td>\n",
              "      <td>3.731953</td>\n",
              "      <td>R_17</td>\n",
              "      <td>A_33</td>\n",
              "    </tr>\n",
              "    <tr>\n",
              "      <th>1683</th>\n",
              "      <td>43</td>\n",
              "      <td>50</td>\n",
              "      <td>0.651379</td>\n",
              "      <td>3.364633</td>\n",
              "      <td>D_44</td>\n",
              "      <td>G_51</td>\n",
              "    </tr>\n",
              "    <tr>\n",
              "      <th>480</th>\n",
              "      <td>8</td>\n",
              "      <td>37</td>\n",
              "      <td>0.630671</td>\n",
              "      <td>3.285236</td>\n",
              "      <td>E_9</td>\n",
              "      <td>V_38</td>\n",
              "    </tr>\n",
              "    <tr>\n",
              "      <th>725</th>\n",
              "      <td>13</td>\n",
              "      <td>37</td>\n",
              "      <td>0.590152</td>\n",
              "      <td>3.125906</td>\n",
              "      <td>E_14</td>\n",
              "      <td>V_38</td>\n",
              "    </tr>\n",
              "    <tr>\n",
              "      <th>82</th>\n",
              "      <td>1</td>\n",
              "      <td>24</td>\n",
              "      <td>0.562723</td>\n",
              "      <td>3.014949</td>\n",
              "      <td>F_2</td>\n",
              "      <td>Q_25</td>\n",
              "    </tr>\n",
              "    <tr>\n",
              "      <th>423</th>\n",
              "      <td>7</td>\n",
              "      <td>32</td>\n",
              "      <td>0.557263</td>\n",
              "      <td>2.992554</td>\n",
              "      <td>I_8</td>\n",
              "      <td>A_33</td>\n",
              "    </tr>\n",
              "    <tr>\n",
              "      <th>820</th>\n",
              "      <td>15</td>\n",
              "      <td>41</td>\n",
              "      <td>0.553409</td>\n",
              "      <td>2.976686</td>\n",
              "      <td>K_16</td>\n",
              "      <td>I_42</td>\n",
              "    </tr>\n",
              "    <tr>\n",
              "      <th>880</th>\n",
              "      <td>16</td>\n",
              "      <td>57</td>\n",
              "      <td>0.542012</td>\n",
              "      <td>2.929445</td>\n",
              "      <td>R_17</td>\n",
              "      <td>K_58</td>\n",
              "    </tr>\n",
              "    <tr>\n",
              "      <th>647</th>\n",
              "      <td>11</td>\n",
              "      <td>54</td>\n",
              "      <td>0.528057</td>\n",
              "      <td>2.870971</td>\n",
              "      <td>T_12</td>\n",
              "      <td>V_55</td>\n",
              "    </tr>\n",
              "    <tr>\n",
              "      <th>1103</th>\n",
              "      <td>22</td>\n",
              "      <td>37</td>\n",
              "      <td>0.507278</td>\n",
              "      <td>2.782592</td>\n",
              "      <td>V_23</td>\n",
              "      <td>V_38</td>\n",
              "    </tr>\n",
              "  </tbody>\n",
              "</table>\n",
              "</div>"
            ],
            "text/plain": [
              "       i   j       apc    zscore  i_aa  j_aa\n",
              "855   16  32  0.751927  3.731953  R_17  A_33\n",
              "1683  43  50  0.651379  3.364633  D_44  G_51\n",
              "480    8  37  0.630671  3.285236   E_9  V_38\n",
              "725   13  37  0.590152  3.125906  E_14  V_38\n",
              "82     1  24  0.562723  3.014949   F_2  Q_25\n",
              "423    7  32  0.557263  2.992554   I_8  A_33\n",
              "820   15  41  0.553409  2.976686  K_16  I_42\n",
              "880   16  57  0.542012  2.929445  R_17  K_58\n",
              "647   11  54  0.528057  2.870971  T_12  V_55\n",
              "1103  22  37  0.507278  2.782592  V_23  V_38"
            ]
          },
          "metadata": {
            "tags": []
          },
          "execution_count": 126
        }
      ]
    },
    {
      "cell_type": "markdown",
      "metadata": {
        "id": "wqG93dC12CKx",
        "colab_type": "text"
      },
      "source": [
        "## Explore the MRF"
      ]
    },
    {
      "cell_type": "code",
      "metadata": {
        "id": "k6BsheyNx3ID",
        "colab_type": "code",
        "outputId": "e1cd3732-2695-41c5-cd03-f3da4e129827",
        "colab": {
          "base_uri": "https://localhost:8080/",
          "height": 337
        }
      },
      "source": [
        "def plot_v(mrf):  \n",
        "  al_a = list(alphabet)\n",
        "  v = mrf[\"v\"].T\n",
        "  mx = np.max((v.max(),np.abs(v.min())))\n",
        "  plt.figure(figsize=(v.shape[1]/4,states/4))\n",
        "  plt.imshow(-v,cmap='bwr',vmin=-mx,vmax=mx)\n",
        "  plt.xticks(np.arange(v.shape[1]))\n",
        "  plt.yticks(np.arange(0,states))\n",
        "  plt.grid(False)\n",
        "  ax = plt.gca()\n",
        "  ax.xaxis.set_major_formatter(plt.FuncFormatter(lambda x,y: mrf[\"v_idx\"][x])) \n",
        "  ax.yaxis.set_major_formatter(plt.FuncFormatter(lambda x,y: al_a[x]))\n",
        "  \n",
        "plot_v(mrf)"
      ],
      "execution_count": 127,
      "outputs": [
        {
          "output_type": "display_data",
          "data": {
            "image/png": "[encoded data removed]",
            "text/plain": [
              "<Figure size 1098x378 with 1 Axes>"
            ]
          },
          "metadata": {
            "tags": []
          }
        }
      ]
    },
    {
      "cell_type": "code",
      "metadata": {
        "id": "OER2wALRvTkK",
        "colab_type": "code",
        "outputId": "519db840-ccab-4bcd-9a1f-ab174ada7094",
        "colab": {
          "base_uri": "https://localhost:8080/",
          "height": 681
        }
      },
      "source": [
        "def plot_w(mrf,i,j):\n",
        "  \n",
        "  n = int(np.where((mrf[\"w_idx\"][:,0] == i)&(mrf[\"w_idx\"][:,1] == j))[0])\n",
        "  w = mrf[\"w\"][n]\n",
        "  \n",
        "  mx = np.max((w.max(),np.abs(w.min())))\n",
        "  plt.figure(figsize=(states/4,states/4))\n",
        "  plt.imshow(-w,cmap='bwr',vmin=-mx,vmax=mx)\n",
        "  plt.xticks(np.arange(0,states))\n",
        "  plt.yticks(np.arange(0,states))\n",
        "  plt.grid(False)\n",
        "  \n",
        "  ax = plt.gca()\n",
        "  al_a = list(alphabet)\n",
        "  ax.xaxis.set_major_formatter(plt.FuncFormatter(lambda x,y: al_a[x])) \n",
        "  ax.yaxis.set_major_formatter(plt.FuncFormatter(lambda x,y: al_a[x]))\n",
        "  plt.title(f\"W for positions {i} and {j}\")\n",
        "  plt.show()\n",
        "\n",
        "for n in range(2):\n",
        "  i = int(top.iloc[n][\"i\"])\n",
        "  j = int(top.iloc[n][\"j\"])\n",
        "  plot_w(mrf,i,j)"
      ],
      "execution_count": 119,
      "outputs": [
        {
          "output_type": "display_data",
          "data": {
            "image/png": "[encoded data removed]",
            "text/plain": [
              "<Figure size 378x378 with 1 Axes>"
            ]
          },
          "metadata": {
            "tags": []
          }
        },
        {
          "output_type": "display_data",
          "data": {
            "image/png": "[encoded data removed]",
            "text/plain": [
              "<Figure size 378x378 with 1 Axes>"
            ]
          },
          "metadata": {
            "tags": []
          }
        }
      ]
    },
    {
      "cell_type": "markdown",
      "metadata": {
        "id": "xv2anXSUX9kr",
        "colab_type": "text"
      },
      "source": [
        "## validating output\n",
        "(comparing to known output from GREMLIN_cpp version)"
      ]
    },
    {
      "cell_type": "code",
      "metadata": {
        "id": "dDYIV1tuMknw",
        "colab_type": "code",
        "colab": {
          "base_uri": "https://localhost:8080/",
          "height": 286
        },
        "outputId": "803b3524-03a5-4105-f645-86dceb815042"
      },
      "source": [
        "plt.scatter(mrf['wb'],mrf['wb_ini'])"
      ],
      "execution_count": 129,
      "outputs": [
        {
          "output_type": "execute_result",
          "data": {
            "text/plain": [
              "<matplotlib.collections.PathCollection at 0x7f18e83b27f0>"
            ]
          },
          "metadata": {
            "tags": []
          },
          "execution_count": 129
        },
        {
          "output_type": "display_data",
          "data": {
            "image/png": "[encoded data removed]",
            "text/plain": [
              "<Figure size 432x288 with 1 Axes>"
            ]
          },
          "metadata": {
            "tags": []
          }
        }
      ]
    },
    {
      "cell_type": "code",
      "metadata": {
        "id": "RBIvsIQ9X74s",
        "colab_type": "code",
        "colab": {}
      },
      "source": [
        "!wget -q -nc http://files.ipd.uw.edu/krypton/4FAZA.out"
      ],
      "execution_count": 0,
      "outputs": []
    },
    {
      "cell_type": "code",
      "metadata": {
        "id": "M7fK03GFX_3q",
        "colab_type": "code",
        "outputId": "a3b66c1e-f62e-4f1f-c5f6-8c3a19af55eb",
        "colab": {
          "base_uri": "https://localhost:8080/",
          "height": 322
        }
      },
      "source": [
        "pd_test = pd.read_table(\"4FAZA.out\",sep=\" \")\n",
        "plt.scatter(pd_test[\"apc\"],mtx[\"apc\"])\n",
        "plt.show()"
      ],
      "execution_count": 28,
      "outputs": [
        {
          "output_type": "stream",
          "text": [
            "/usr/local/lib/python3.6/dist-packages/ipykernel_launcher.py:1: FutureWarning: read_table is deprecated, use read_csv instead.\n",
            "  \"\"\"Entry point for launching an IPython kernel.\n"
          ],
          "name": "stderr"
        },
        {
          "output_type": "display_data",
          "data": {
            "image/png": "[encoded data removed]",
            "text/plain": [
              "<Figure size 432x288 with 1 Axes>"
            ]
          },
          "metadata": {
            "tags": []
          }
        }
      ]
    },
    {
      "cell_type": "markdown",
      "metadata": {
        "id": "-dw9TGERe3cw",
        "colab_type": "text"
      },
      "source": [
        "## Useful input features for NN (Neural Networks)\n",
        "\n",
        "The \"apc\" values are typically used as input to the NN for contact cleaning or structure prediction. Though in recent advances (aka DeepMind/Alphafold), the entire MRF was used as the input. More specificially LxLx442. The 442 channels are the 21x21 + (raw and/or apc) value."
      ]
    },
    {
      "cell_type": "code",
      "metadata": {
        "id": "nqbDMKdsYG7Q",
        "colab_type": "code",
        "outputId": "60e40a12-b1ad-4ea4-b8bd-5fa757ff8a48",
        "colab": {
          "base_uri": "https://localhost:8080/",
          "height": 51
        }
      },
      "source": [
        "w_out = np.zeros((msa[\"ncol_ori\"], msa[\"ncol_ori\"], states * states + 1))\n",
        "v_out = np.zeros((msa[\"ncol_ori\"], states))\n",
        "\n",
        "mrf_ = np.reshape(mrf[\"w\"],(-1, states * states))\n",
        "mtx_ = np.expand_dims(mtx[\"apc\"],-1)\n",
        "\n",
        "w_out[(mtx[\"i\"],mtx[\"j\"])] = np.concatenate((mrf_, mtx_),-1)\n",
        "w_out += np.transpose(w_out,(1,0,2))\n",
        "v_out[mrf[\"v_idx\"]] = mrf[\"v\"]\n",
        "\n",
        "print(\"w_out\",w_out.shape)\n",
        "print(\"v_out\",v_out.shape)"
      ],
      "execution_count": 0,
      "outputs": [
        {
          "output_type": "stream",
          "text": [
            "w_out (62, 62, 442)\n",
            "v_out (62, 21)\n"
          ],
          "name": "stdout"
        }
      ]
    }
  ]
}