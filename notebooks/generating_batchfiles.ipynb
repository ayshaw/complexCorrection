{
 "cells": [
  {
   "cell_type": "code",
   "execution_count": 1,
   "metadata": {},
   "outputs": [],
   "source": [
    "lines = '''#!/usr/bin/bash\n",
    "#SBATCH -c 1 # Request one core\n",
    "#SBATCH -N 1                               # Request one node (if you request more than one core with -c, also using\n",
    "#SBATCH -t 0-05:00                         # Runtime in D-HH:MM format\n",
    "#SBATCH -p gpu                           # Partition to run in\n",
    "#SBATCH --mem=40G                          # Memory total in MB (for all cores)\n",
    "#SBATCH --gres=gpu:teslaV100:1 \n",
    "#SBATCH --mail-type=FAIL                    # Type of email notification- BEGIN,END,FAIL,ALL\n",
    "#SBATCH --mail-user=ayshaw@g.harvard.edu   # Email to which notifications will be sent'''\n",
    "\n",
    "lines_complexes = '''#!/usr/bin/bash\n",
    "#SBATCH -c 1                               # Request one core\n",
    "#SBATCH -N 1                               # Request one node (if you request more than one core with -c, also using\n",
    "#SBATCH -t 0-00:15                         # Runtime in D-HH:MM format\n",
    "#SBATCH -p short                          # Partition to run in\n",
    "#SBATCH --mem=10G                         # Memory total in MB (for all cores)\n",
    "#SBATCH --mail-type=FAIL                   # Type of email notification- BEGIN,END,FAIL,ALL\n",
    "#SBATCH --mail-user=ayshaw@g.harvard.edu   # Email to which notifications will be sent'''\n",
    "\n",
    "import pandas as pd\n",
    "import os"
   ]
  },
  {
   "cell_type": "code",
   "execution_count": 2,
   "metadata": {},
   "outputs": [],
   "source": [
    "## generating complexes\n",
    "dir_names = pd.read_csv('low_precision_complexes.csv',header=None)[1].tolist()\n",
    "for dn in dir_names:\n",
    "    with open('batch_scripts/low_'+dn+'.sh','w+') as file:\n",
    "        file.writelines(lines_complexes)\n",
    "        file.write('\\n#SBATCH -o output_logs/gen_%j_'+dn+'_.out\\n#SBATCH -e output_logs/gen_%j_'+dn+'_.err\\n')\n",
    "        file.write('module load gcc/6.2.0 python/3.6.0\\nsource activate evcouplings_stable\\n')\n",
    "        file.write('python /home/as974/ada/multimerCorrection/general_complex_sysargv.py '+dn)"
   ]
  },
  {
   "cell_type": "code",
   "execution_count": 3,
   "metadata": {},
   "outputs": [],
   "source": [
    "## running gremlin\n",
    "dir_names = pd.read_csv('low_precision_complexes.csv',header=None)[1].tolist()\n",
    "for dn in dir_names:\n",
    "    with open('batch_scripts/gremlin/low_gremlin_run'+dn+'.sh','w+') as file:\n",
    "        file.writelines(lines)\n",
    "        file.write('\\n#SBATCH -o output_logs/gen_%j_'+dn+'_.out\\n#SBATCH -e output_logs/gen_%j_'+dn+'_.err\\n')\n",
    "        file.write('module load gcc/6.2.0 python/3.6.0 cuda/9.0\\nsource activate evcouplings_stable\\nsource ~/jupytervenv/bin/activate\\n')\n",
    "        file.write('python /home/as974/ada/multimerCorrection/GREMLIN_TF_v2_weights_edit.py '+dn)"
   ]
  },
  {
   "cell_type": "code",
   "execution_count": 13,
   "metadata": {
    "scrolled": true
   },
   "outputs": [
    {
     "name": "stdout",
     "output_type": "stream",
     "text": [
      "dir already exists!\n"
     ]
    }
   ],
   "source": [
    "try: os.mkdir('batch_scripts/gremlin')\n",
    "except: print('dir already exists!')"
   ]
  },
  {
   "cell_type": "code",
   "execution_count": null,
   "metadata": {},
   "outputs": [],
   "source": []
  }
 ],
 "metadata": {
  "kernelspec": {
   "display_name": "Python 3",
   "language": "python",
   "name": "python3"
  },
  "language_info": {
   "codemirror_mode": {
    "name": "ipython",
    "version": 3
   },
   "file_extension": ".py",
   "mimetype": "text/x-python",
   "name": "python",
   "nbconvert_exporter": "python",
   "pygments_lexer": "ipython3",
   "version": "3.6.4"
  }
 },
 "nbformat": 4,
 "nbformat_minor": 2
}
