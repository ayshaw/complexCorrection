{
 "cells": [
  {
   "cell_type": "markdown",
   "metadata": {
    "colab_type": "text",
    "id": "view-in-github"
   },
   "source": [
    "<a href=\"https://colab.research.google.com/github/ayshaw/multimerCorrection/blob/master/GREMLIN_TF_v2_weights_edit.ipynb\" target=\"_parent\"><img src=\"https://colab.research.google.com/assets/colab-badge.svg\" alt=\"Open In Colab\"/></a>"
   ]
  },
  {
   "cell_type": "markdown",
   "metadata": {
    "colab_type": "text",
    "id": "mu2S86VhS-8t"
   },
   "source": [
    "# GREMLIN_TF v2.1\n",
    "GREMLIN implemented in tensorflow\n",
    "\n",
    "### Change log:\n",
    "*   02Apr2019\n",
    " - fixing a few hard-coded values, to allow GREMLIN to work with any alphabet (binary, protein, rna etc)\n",
    "*   22Jan2019\n",
    " - moving [GREMLIN_TF_simple](https://colab.research.google.com/github/sokrypton/GREMLIN_CPP/blob/master/GREMLIN_TF_simple.ipynb) to a seperate notebook\n",
    "*   19Jan2019\n",
    " - in the past we found that optimizing V first, required less iterations for convergence. Since V can be computed exactly (assuming no W), we replace this first optimization step with a simple V initialization.\n",
    " - a few variables were renamed to be consistent with the c++ version\n",
    "*   16Jan2019\n",
    " - updating how indices are handled (for easier/cleaner parsing)\n",
    " - minor speed up in how we symmetrize and zero the diagional of W\n",
    "*   15Jan2019\n",
    " - LBFGS optimizer replaced with a modified version of the ADAM optimizer\n",
    " - Added option for stochastic gradient descent (via batch_size)\n",
    "  \n",
    "### Method:\n",
    "GREMLIN takes a multiple sequence alignment (MSA) and returns a Markov Random Field (MRF). The MRF consists of a one-body term (V) that encodes conservation, and a two-body term (W) that encodes co-evolution.\n",
    "\n",
    "For more details about the method see:\n",
    "[Google slides](https://docs.google.com/presentation/d/1aooxoksosSv7CWs9-ktqhUjyXR3wrgbG5a6PCr92od4/) and accompanying [Google colab](https://colab.research.google.com/drive/17RJcExuyifnd7ShTcsZGh6mBpWq0-s60)\n",
    "\n",
    "See [GREMLIN_TF_simple](https://colab.research.google.com/github/sokrypton/GREMLIN_CPP/blob/master/GREMLIN_TF_simple.ipynb) for a stripped down version of this code (with no funky gap removal, sequence weight, etc). This is intented for educational purpose,  and could also be very useful for anyone trying to modify or improve the algorithm!\n"
   ]
  },
  {
   "cell_type": "code",
   "execution_count": 0,
   "metadata": {
    "colab": {},
    "colab_type": "code",
    "id": "yM3wyYU5SwYn"
   },
   "outputs": [],
   "source": [
    "# ------------------------------------------------------------\n",
    "# \"THE BEERWARE LICENSE\" (Revision 42):\n",
    "# <so@g.harvard.edu> and <pkk382@g.harvard.edu> wrote this code.\n",
    "# As long as you retain this notice, you can do whatever you want\n",
    "# with this stuff. If we meet someday, and you think this stuff\n",
    "# is worth it, you can buy us a beer in return.\n",
    "# --Sergey Ovchinnikov and Peter Koo\n",
    "# ------------------------------------------------------------"
   ]
  },
  {
   "cell_type": "code",
   "execution_count": 0,
   "metadata": {
    "colab": {},
    "colab_type": "code",
    "id": "7dPDyxCIFBcZ"
   },
   "outputs": [],
   "source": [
    "# !wget https://bin.equinox.io/c/4VmDzA7iaHb/ngrok-stable-linux-amd64.zip\n",
    "# !unzip ngrok-stable-linux-amd64.zip"
   ]
  },
  {
   "cell_type": "code",
   "execution_count": 0,
   "metadata": {
    "colab": {},
    "colab_type": "code",
    "id": "jArH-1qgFmjW"
   },
   "outputs": [],
   "source": [
    "# LOG_DIR = './log'\n",
    "# get_ipython().system_raw(\n",
    "#     'tensorboard --logdir {} --host 0.0.0.0 --port 6006 &'\n",
    "#     .format(LOG_DIR)\n",
    "# )"
   ]
  },
  {
   "cell_type": "code",
   "execution_count": 0,
   "metadata": {
    "colab": {},
    "colab_type": "code",
    "id": "efup0wCKFpkM"
   },
   "outputs": [],
   "source": [
    "# get_ipython().system_raw('./ngrok http 6006 &')\n"
   ]
  },
  {
   "cell_type": "code",
   "execution_count": 0,
   "metadata": {
    "colab": {},
    "colab_type": "code",
    "id": "dkBlygcPFt0J"
   },
   "outputs": [],
   "source": [
    "# ! curl -s http://localhost:4040/api/tunnels | python3 -c \\\n",
    "#     \"import sys, json; print(json.load(sys.stdin)['tunnels'][0]['public_url'])\""
   ]
  },
  {
   "cell_type": "markdown",
   "metadata": {
    "colab_type": "text",
    "id": "NLUvPVyxb7bo"
   },
   "source": [
    "## libraries"
   ]
  },
  {
   "cell_type": "code",
   "execution_count": 2,
   "metadata": {
    "colab": {
     "base_uri": "https://localhost:8080/",
     "height": 121
    },
    "colab_type": "code",
    "id": "YyJpLM_tJfrY",
    "outputId": "64bb5ecb-722b-43b6-f45f-fb9288fef4d6"
   },
   "outputs": [],
   "source": [
    "# IMPORTANT, only tested using PYTHON 3!\n",
    "import numpy as np\n",
    "import tensorflow as tf\n",
    "import matplotlib.pylab as plt\n",
    "from scipy import stats\n",
    "from scipy.spatial.distance import pdist,squareform\n",
    "import pandas as pd\n",
    "import os\n",
    "from scipy.cluster.hierarchy import dendrogram, linkage, fcluster\n",
    "\n",
    "# from keras.callbacks import TensorBoard\n",
    "# tbCallBack = TensorBoard(log_dir='./log', histogram_freq=1,\n",
    "#                          write_graph=True,\n",
    "#                          write_grads=True,\n",
    "#                          batch_size=None,\n",
    "#                          write_images=True)\n",
    "# from google.colab import drive\n",
    "# drive.mount('/content/drive/',force_remount=True)\n",
    "# os.chdir('/content/drive/My Drive/markslab/multimerCorrection')"
   ]
  },
  {
   "cell_type": "code",
   "execution_count": 3,
   "metadata": {
    "colab": {
     "base_uri": "https://localhost:8080/",
     "height": 84
    },
    "colab_type": "code",
    "id": "tzVKxHQYwk-X",
    "outputId": "32737ff8-a0b3-4c5d-ed29-d7238fcb9609"
   },
   "outputs": [
    {
     "name": "stdout",
     "output_type": "stream",
     "text": [
      "analyzing_output.ipynb\t\t  merged_top10_statistics_449.csv  README.md\r\n",
      "GREMLIN_TF_v2.ipynb\t\t  pd_mtx.csv\r\n",
      "GREMLIN_TF_v2_weights_edit.ipynb  pd_mtx_weights.csv\r\n"
     ]
    }
   ],
   "source": [
    "!ls"
   ]
  },
  {
   "cell_type": "code",
   "execution_count": null,
   "metadata": {
    "colab": {},
    "colab_type": "code",
    "id": "YzcQ286MvMKa"
   },
   "outputs": [],
   "source": []
  },
  {
   "cell_type": "markdown",
   "metadata": {
    "colab_type": "text",
    "id": "j0Yp7bPRmvwU"
   },
   "source": [
    "## Params"
   ]
  },
  {
   "cell_type": "code",
   "execution_count": 4,
   "metadata": {
    "colab": {},
    "colab_type": "code",
    "id": "o3c7KURqmugY"
   },
   "outputs": [],
   "source": [
    "################\n",
    "# note: if you are modifying the alphabet\n",
    "# make sure last character is \"-\" (gap)\n",
    "################\n",
    "alphabet = \"ARNDCQEGHILKMFPSTWYV-\"\n",
    "states = len(alphabet)\n",
    "a2n = {}\n",
    "for a,n in zip(alphabet,range(states)):\n",
    "    a2n[a] = n\n",
    "################\n",
    "\n",
    "def aa2num(aa):\n",
    "    '''convert aa into num'''\n",
    "    if aa in a2n: return a2n[aa]\n",
    "    else: return a2n['-']"
   ]
  },
  {
   "cell_type": "markdown",
   "metadata": {
    "colab_type": "text",
    "id": "bX6GXKV3I2pm"
   },
   "source": [
    "## Functions for prepping the MSA (Multiple sequence alignment)"
   ]
  },
  {
   "cell_type": "code",
   "execution_count": 5,
   "metadata": {
    "colab": {},
    "colab_type": "code",
    "id": "zA0Bne59SUIu"
   },
   "outputs": [],
   "source": [
    "# from fasta\n",
    "def parse_fasta(filename,limit=-1):\n",
    "    '''function to parse fasta'''\n",
    "    header = []\n",
    "    sequence = []\n",
    "    lines = open(filename, \"r\")\n",
    "    for line in lines:\n",
    "        line = line.rstrip()\n",
    "        if line[0] == \">\":\n",
    "            if len(header) == limit:\n",
    "                break\n",
    "            header.append(line[1:])\n",
    "            sequence.append([])\n",
    "        else:\n",
    "            sequence[-1].append(line)\n",
    "    lines.close()\n",
    "    sequence = [''.join(seq) for seq in sequence]\n",
    "    return np.array(header), np.array(sequence)\n",
    "\n",
    "def filt_gaps(msa,gap_cutoff=0.5):\n",
    "    '''filters alignment to remove gappy positions'''\n",
    "    tmp = (msa == states-1).astype(np.float)\n",
    "    non_gaps = np.where(np.sum(tmp.T,-1).T/msa.shape[0] < gap_cutoff)[0]\n",
    "    return msa[:,non_gaps],non_gaps\n",
    "\n",
    "def get_eff(msa,eff_cutoff=0.8):\n",
    "    '''compute effective weight for each sequence'''\n",
    "    ncol = msa.shape[1]\n",
    "\n",
    "    # pairwise identity\n",
    "    msa_sm = 1.0 - squareform(pdist(msa,\"hamming\"))\n",
    "\n",
    "    # weight for each sequence\n",
    "    msa_w = (msa_sm >= eff_cutoff).astype(np.float)\n",
    "    msa_w = 1/np.sum(msa_w,-1)\n",
    "\n",
    "    return msa_w\n",
    "\n",
    "# def cluster(msa, method='ward', threshold=0.8):\n",
    "#     Z = linkage(1-squareform(pdist(msa,\"hamming\")),method) \n",
    "#     return fcluster(Z,threshold,criterion='distance')\n",
    "def mk_msa(seqs):\n",
    "    '''converts list of sequences to msa'''\n",
    "\n",
    "    msa_ori = []\n",
    "    for seq in seqs:\n",
    "        msa_ori.append([aa2num(aa) for aa in seq])\n",
    "    msa_ori = np.array(msa_ori)\n",
    "\n",
    "    # remove positions with more than > 50% gaps\n",
    "    msa, v_idx = filt_gaps(msa_ori,0.5)\n",
    "\n",
    "    # compute effective weight for each sequence\n",
    "    msa_weights = get_eff(msa,0.8)\n",
    "\n",
    "    # compute effective number of sequences\n",
    "    ncol = msa.shape[1] # length of sequence\n",
    "    w_idx = v_idx[np.stack(np.triu_indices(ncol,1),-1)]\n",
    "#     msa_cluster = cluster(msa)\n",
    "    return {\"msa_ori\":msa_ori,\n",
    "          \"msa\":msa,\n",
    "          \"weights\":msa_weights,\n",
    "          \"neff\":np.sum(msa_weights),\n",
    "          \"v_idx\":v_idx,\n",
    "          \"w_idx\":w_idx,\n",
    "          \"nrow\":msa.shape[0],\n",
    "          \"ncol\":ncol,\n",
    "          \"ncol_ori\":msa_ori.shape[1]}\n"
   ]
  },
  {
   "cell_type": "markdown",
   "metadata": {
    "colab_type": "text",
    "id": "fky6gk-HlFyi"
   },
   "source": [
    "## GREMLIN"
   ]
  },
  {
   "cell_type": "code",
   "execution_count": 6,
   "metadata": {
    "colab": {},
    "colab_type": "code",
    "id": "gx14M7Tvu-Ct"
   },
   "outputs": [],
   "source": [
    "# external functions\n",
    "\n",
    "def sym_w(w):\n",
    "    '''symmetrize input matrix of shape (x,y,x,y)'''\n",
    "    x = w.shape[0]\n",
    "    w = w * np.reshape(1-np.eye(x),(x,1,x,1))\n",
    "    w = w + tf.transpose(w,[2,3,0,1])\n",
    "    return w\n",
    "\n",
    "def opt_adam(loss, name, var_list=None, lr=1.0, b1=0.9, b2=0.999, b_fix=False):\n",
    "    # adam optimizer\n",
    "    # Note: this is a modified version of adam optimizer. More specifically, we replace \"vt\"\n",
    "    # with sum(g*g) instead of (g*g). Furthmore, we find that disabling the bias correction\n",
    "    # (b_fix=False) speeds up convergence for our case.\n",
    "\n",
    "    if var_list is None: var_list = tf.trainable_variables() \n",
    "    gradients = tf.gradients(loss,var_list)\n",
    "    if b_fix: t = tf.Variable(0.0,\"t\")\n",
    "    opt = []\n",
    "    for n,(x,g) in enumerate(zip(var_list,gradients)):\n",
    "        if g is not None:\n",
    "            ini = dict(initializer=tf.zeros_initializer,trainable=False)\n",
    "            mt = tf.get_variable(name+\"_mt_\"+str(n),shape=list(x.shape), **ini)\n",
    "            vt = tf.get_variable(name+\"_vt_\"+str(n),shape=[], **ini)\n",
    "\n",
    "            mt_tmp = b1*mt+(1-b1)*g\n",
    "            vt_tmp = b2*vt+(1-b2)*tf.reduce_sum(tf.square(g))\n",
    "            lr_tmp = lr/(tf.sqrt(vt_tmp) + 1e-8)\n",
    "\n",
    "            if b_fix: lr_tmp = lr_tmp * tf.sqrt(1-tf.pow(b2,t))/(1-tf.pow(b1,t))\n",
    "\n",
    "            opt.append(x.assign_add(-lr_tmp * mt_tmp))\n",
    "            opt.append(vt.assign(vt_tmp))\n",
    "            opt.append(mt.assign(mt_tmp))\n",
    "\n",
    "    if b_fix: opt.append(t.assign_add(1.0))\n",
    "    return(tf.group(opt))"
   ]
  },
  {
   "cell_type": "code",
   "execution_count": 7,
   "metadata": {
    "colab": {},
    "colab_type": "code",
    "id": "BqYqlJAXVI9N"
   },
   "outputs": [],
   "source": [
    "def GREMLIN_weights(msa, opt_type=\"adam\", opt_iter=100, opt_rate=1.0, batch_size=None):\n",
    "  \n",
    "    ##############################################################\n",
    "    # SETUP COMPUTE GRAPH\n",
    "    ##############################################################\n",
    "    # kill any existing tensorflow graph\n",
    "    tf.reset_default_graph()\n",
    "\n",
    "    ncol = msa[\"ncol\"] # length of sequence\n",
    "    nrow = msa[\"nrow\"] # number of sequences\n",
    "    print(\"ncol: {},n nrow: {}\".format(ncol,nrow))\n",
    "\n",
    "    # msa (multiple sequence alignment) \n",
    "    MSA = tf.placeholder(tf.int32,shape=(None,ncol),name=\"msa\")\n",
    "\n",
    "    # one-hot encode msa\n",
    "    OH_MSA = tf.one_hot(MSA,states)\n",
    "\n",
    "    # msa weights\n",
    "    MSA_weights = tf.placeholder(tf.float32, shape=(None,), name=\"msa_weights\")\n",
    "\n",
    "    # 1-body-term of the MRF\n",
    "    V = tf.get_variable(name=\"V\", \n",
    "                      shape=[ncol,states],\n",
    "                      initializer=tf.zeros_initializer)\n",
    "\n",
    "    # 2-body-term of the MRF\n",
    "    W = tf.get_variable(name=\"W\",\n",
    "                      shape=[ncol,states,ncol,states],\n",
    "                      initializer=tf.zeros_initializer)\n",
    "\n",
    "    # weights for concatenation\n",
    "    wb = tf.get_variable(name=\"wb\",\n",
    "                      shape=[nrow],\n",
    "                      initializer=tf.ones_initializer)\n",
    "\n",
    "    # symmetrize W\n",
    "    W = sym_w(W)\n",
    "\n",
    "    def L2(x): return tf.reduce_sum(tf.square(x))\n",
    "    def L1(x): return tf\n",
    "\n",
    "    ########################################\n",
    "    # V + W\n",
    "    ########################################\n",
    "    VW = V + tf.tensordot(OH_MSA,W,2)\n",
    "\n",
    "    # hamiltonian\n",
    "    H = tf.reduce_sum(tf.multiply(OH_MSA,VW),axis=(1,2))\n",
    "\n",
    "    # local Z (parition function)\n",
    "    Z = tf.reduce_sum(tf.reduce_logsumexp(VW,axis=2),axis=1)\n",
    "\n",
    "    # Psuedo-Log-Likelihood\n",
    "    PLL = H - Z\n",
    "    #wb = (wb-tf.reduce_min(wb))/(tf.reduce_max(wb)-tf.reduce_min(wb))\n",
    "    # Regularization\n",
    "    L2_V = 0.01 * L2(V)\n",
    "    L2_W = 0.01 * L2(W) * 0.5 * (ncol-1) * (states-1)\n",
    "    L2_wb = 0.01 * L2(wb)\n",
    "\n",
    "    # loss function to minimize\n",
    "    loss = -tf.reduce_sum(PLL*MSA_weights*wb)/tf.reduce_sum(MSA_weights*wb)\n",
    "    loss = loss + (L2_V + L2_W + L2_wb)/msa[\"neff\"]\n",
    "\n",
    "    ##############################################################\n",
    "    # MINIMIZE LOSS FUNCTION\n",
    "    ##############################################################\n",
    "    if opt_type == \"adam\":  \n",
    "        opt = opt_adam(loss,\"adam\",lr=opt_rate)\n",
    "\n",
    "    # generate input/feed\n",
    "    def feed(feed_all=False):\n",
    "        if batch_size is None or feed_all:\n",
    "            return {MSA:msa[\"msa\"], MSA_weights:msa[\"weights\"]}\n",
    "        else:\n",
    "            idx = np.random.randint(0,msa[\"nrow\"],size=batch_size)\n",
    "            return {MSA:msa[\"msa\"][idx], MSA_weights:msa[\"weights\"][idx]}\n",
    "\n",
    "    # optimize!\n",
    "    with tf.Session() as sess:\n",
    "        # initialize variables V and W\n",
    "        sess.run(tf.global_variables_initializer())\n",
    "\n",
    "        # initialize V\n",
    "        msa_cat = tf.keras.utils.to_categorical(msa[\"msa\"],states)\n",
    "        pseudo_count = 0.01 * np.log(msa[\"neff\"])\n",
    "        V_ini = np.log(np.sum(msa_cat.T * msa[\"weights\"],-1).T + pseudo_count)\n",
    "        V_ini = V_ini - np.mean(V_ini,-1,keepdims=True)\n",
    "        sess.run(V.assign(V_ini))\n",
    "\n",
    "        wb_ini = sess.run(wb)\n",
    "\n",
    "        # compute loss across all data\n",
    "        get_loss = lambda: round(sess.run(loss,feed(feed_all=True)) * msa[\"neff\"],2)\n",
    "        print(\"starting\",get_loss())\n",
    "\n",
    "        if opt_type == \"lbfgs\":\n",
    "            lbfgs = tf.contrib.opt.ScipyOptimizerInterface\n",
    "            opt = lbfgs(loss,method=\"L-BFGS-B\",options={'maxiter': opt_iter})\n",
    "            opt.minimize(sess,feed(feed_all=True))\n",
    "\n",
    "        if opt_type == \"adam\":\n",
    "            for i in range(opt_iter):\n",
    "                sess.run(opt,feed())  \n",
    "                if (i+1) % int(opt_iter/10) == 0:\n",
    "                    print(\"iter\",(i+1),get_loss())\n",
    "\n",
    "        # save the V and W parameters of the MRF\n",
    "        V_ = sess.run(V)\n",
    "        W_ = sess.run(W)\n",
    "        wb_ =sess.run(wb)\n",
    "\n",
    "    # only return upper-right triangle of matrix (since it's symmetric)\n",
    "    tri = np.triu_indices(ncol,1)\n",
    "    W_ = W_[tri[0],:,tri[1],:]\n",
    "\n",
    "    mrf = {\"v\": V_,\n",
    "         \"w\": W_,\n",
    "         \"wb\": wb_,\n",
    "         \"wb_ini\":wb_ini,\n",
    "         \"v_idx\": msa[\"v_idx\"],\n",
    "         \"w_idx\": msa[\"w_idx\"]}\n",
    "\n",
    "    return mrf"
   ]
  },
  {
   "cell_type": "code",
   "execution_count": 8,
   "metadata": {
    "colab": {},
    "colab_type": "code",
    "id": "A8wQYi2Ss9r2"
   },
   "outputs": [],
   "source": [
    "def GREMLIN(msa, opt_type=\"adam\", opt_iter=100, opt_rate=1.0, batch_size=None):\n",
    "\n",
    "    ##############################################################\n",
    "    # SETUP COMPUTE GRAPH\n",
    "    ##############################################################\n",
    "    # kill any existing tensorflow graph\n",
    "    tf.reset_default_graph()\n",
    "\n",
    "    ncol = msa[\"ncol\"] # length of sequence\n",
    "\n",
    "    # msa (multiple sequence alignment) \n",
    "    MSA = tf.placeholder(tf.int32,shape=(None,ncol),name=\"msa\")\n",
    "\n",
    "    # one-hot encode msa\n",
    "    OH_MSA = tf.one_hot(MSA,states)\n",
    "\n",
    "    # msa weights\n",
    "    MSA_weights = tf.placeholder(tf.float32, shape=(None,), name=\"msa_weights\")\n",
    "\n",
    "    # 1-body-term of the MRF\n",
    "    V = tf.get_variable(name=\"V\", \n",
    "                      shape=[ncol,states],\n",
    "                      initializer=tf.zeros_initializer)\n",
    "\n",
    "    # 2-body-term of the MRF\n",
    "    W = tf.get_variable(name=\"W\",\n",
    "                      shape=[ncol,states,ncol,states],\n",
    "                      initializer=tf.zeros_initializer)\n",
    "\n",
    "    # symmetrize W\n",
    "    W = sym_w(W)\n",
    "\n",
    "    def L2(x): return tf.reduce_sum(tf.square(x))\n",
    "\n",
    "    ########################################\n",
    "    # V + W\n",
    "    ########################################\n",
    "    VW = V + tf.tensordot(OH_MSA,W,2)\n",
    "\n",
    "    # hamiltonian\n",
    "    H = tf.reduce_sum(tf.multiply(OH_MSA,VW),axis=(1,2))\n",
    "\n",
    "    # local Z (parition function)\n",
    "    Z = tf.reduce_sum(tf.reduce_logsumexp(VW,axis=2),axis=1)\n",
    "\n",
    "    # Psuedo-Log-Likelihood\n",
    "    PLL = H - Z\n",
    "    # Regularization\n",
    "    L2_V = 0.01 * L2(V)\n",
    "    L2_W = 0.01 * L2(W) * 0.5 * (ncol-1) * (states-1)\n",
    "\n",
    "\n",
    "    # loss function to minimize\n",
    "    loss = -tf.reduce_sum(PLL*MSA_weights)/tf.reduce_sum(MSA_weights)\n",
    "    loss = loss + (L2_V + L2_W)/msa[\"neff\"]\n",
    "\n",
    "    ##############################################################\n",
    "    # MINIMIZE LOSS FUNCTION\n",
    "    ##############################################################\n",
    "    if opt_type == \"adam\":  \n",
    "        opt = opt_adam(loss,\"adam\",lr=opt_rate)\n",
    "\n",
    "    # generate input/feed\n",
    "    def feed(feed_all=False):\n",
    "        if batch_size is None or feed_all:\n",
    "            return {MSA:msa[\"msa\"], MSA_weights:msa[\"weights\"]}\n",
    "        else:\n",
    "            idx = np.random.randint(0,msa[\"nrow\"],size=batch_size)\n",
    "        return {MSA:msa[\"msa\"][idx], MSA_weights:msa[\"weights\"][idx]}\n",
    "\n",
    "    # optimize!\n",
    "    with tf.Session() as sess:\n",
    "        # initialize variables V and W\n",
    "        sess.run(tf.global_variables_initializer())\n",
    "\n",
    "        # initialize V\n",
    "        msa_cat = tf.keras.utils.to_categorical(msa[\"msa\"],states)\n",
    "        pseudo_count = 0.01 * np.log(msa[\"neff\"])\n",
    "        V_ini = np.log(np.sum(msa_cat.T * msa[\"weights\"],-1).T + pseudo_count)\n",
    "        V_ini = V_ini - np.mean(V_ini,-1,keepdims=True)\n",
    "        sess.run(V.assign(V_ini))\n",
    "\n",
    "        # compute loss across all data\n",
    "        get_loss = lambda: round(sess.run(loss,feed(feed_all=True)) * msa[\"neff\"],2)\n",
    "        print(\"starting\",get_loss())\n",
    "\n",
    "        if opt_type == \"lbfgs\":\n",
    "            lbfgs = tf.contrib.opt.ScipyOptimizerInterface\n",
    "            opt = lbfgs(loss,method=\"L-BFGS-B\",options={'maxiter': opt_iter})\n",
    "            opt.minimize(sess,feed(feed_all=True))\n",
    "\n",
    "        if opt_type == \"adam\":\n",
    "            for i in range(opt_iter):\n",
    "                sess.run(opt,feed())  \n",
    "                if (i+1) % int(opt_iter/10) == 0:\n",
    "                    print(\"iter\",(i+1),get_loss())\n",
    "\n",
    "        # save the V and W parameters of the MRF\n",
    "        V_ = sess.run(V)\n",
    "        W_ = sess.run(W)\n",
    "\n",
    "    # only return upper-right triangle of matrix (since it's symmetric)\n",
    "    tri = np.triu_indices(ncol,1)\n",
    "    W_ = W_[tri[0],:,tri[1],:]\n",
    "\n",
    "    mrf = {\"v\": V_,\n",
    "         \"w\": W_,\n",
    "         \"v_idx\": msa[\"v_idx\"],\n",
    "         \"w_idx\": msa[\"w_idx\"]}\n",
    "\n",
    "    return mrf"
   ]
  },
  {
   "cell_type": "markdown",
   "metadata": {
    "colab_type": "text",
    "id": "mppg0JLtP25z"
   },
   "source": [
    "## EXAMPLE"
   ]
  },
  {
   "cell_type": "code",
   "execution_count": 9,
   "metadata": {
    "colab": {},
    "colab_type": "code",
    "id": "bnigmLmAlyWv"
   },
   "outputs": [],
   "source": [
    "# download example fasta MSA\n",
    "!wget -q -nc https://gremlin2.bakerlab.org/db/PDB_EXP/fasta/4FAZA.fas"
   ]
  },
  {
   "cell_type": "code",
   "execution_count": 10,
   "metadata": {
    "colab": {},
    "colab_type": "code",
    "id": "osaZwTSMOicF"
   },
   "outputs": [
    {
     "ename": "FileNotFoundError",
     "evalue": "[Errno 2] No such file or directory: 'concat.a2m'",
     "output_type": "error",
     "traceback": [
      "\u001b[0;31m---------------------------------------------------------------------------\u001b[0m",
      "\u001b[0;31mFileNotFoundError\u001b[0m                         Traceback (most recent call last)",
      "\u001b[0;32m<ipython-input-10-b058e00f6d63>\u001b[0m in \u001b[0;36m<module>\u001b[0;34m\u001b[0m\n\u001b[1;32m      3\u001b[0m \u001b[0;31m# ===============================================================================\u001b[0m\u001b[0;34m\u001b[0m\u001b[0;34m\u001b[0m\u001b[0m\n\u001b[1;32m      4\u001b[0m \u001b[0;31m# parse fasta\u001b[0m\u001b[0;34m\u001b[0m\u001b[0;34m\u001b[0m\u001b[0m\n\u001b[0;32m----> 5\u001b[0;31m \u001b[0mnames\u001b[0m\u001b[0;34m,\u001b[0m \u001b[0mseqs\u001b[0m \u001b[0;34m=\u001b[0m \u001b[0mparse_fasta\u001b[0m\u001b[0;34m(\u001b[0m\u001b[0;34m\"concat.a2m\"\u001b[0m\u001b[0;34m)\u001b[0m\u001b[0;34m\u001b[0m\u001b[0m\n\u001b[0m\u001b[1;32m      6\u001b[0m \u001b[0;34m\u001b[0m\u001b[0m\n\u001b[1;32m      7\u001b[0m \u001b[0;31m# process input sequences\u001b[0m\u001b[0;34m\u001b[0m\u001b[0;34m\u001b[0m\u001b[0m\n",
      "\u001b[0;32m<ipython-input-5-7fc57b785da1>\u001b[0m in \u001b[0;36mparse_fasta\u001b[0;34m(filename, limit)\u001b[0m\n\u001b[1;32m      4\u001b[0m     \u001b[0mheader\u001b[0m \u001b[0;34m=\u001b[0m \u001b[0;34m[\u001b[0m\u001b[0;34m]\u001b[0m\u001b[0;34m\u001b[0m\u001b[0m\n\u001b[1;32m      5\u001b[0m     \u001b[0msequence\u001b[0m \u001b[0;34m=\u001b[0m \u001b[0;34m[\u001b[0m\u001b[0;34m]\u001b[0m\u001b[0;34m\u001b[0m\u001b[0m\n\u001b[0;32m----> 6\u001b[0;31m     \u001b[0mlines\u001b[0m \u001b[0;34m=\u001b[0m \u001b[0mopen\u001b[0m\u001b[0;34m(\u001b[0m\u001b[0mfilename\u001b[0m\u001b[0;34m,\u001b[0m \u001b[0;34m\"r\"\u001b[0m\u001b[0;34m)\u001b[0m\u001b[0;34m\u001b[0m\u001b[0m\n\u001b[0m\u001b[1;32m      7\u001b[0m     \u001b[0;32mfor\u001b[0m \u001b[0mline\u001b[0m \u001b[0;32min\u001b[0m \u001b[0mlines\u001b[0m\u001b[0;34m:\u001b[0m\u001b[0;34m\u001b[0m\u001b[0m\n\u001b[1;32m      8\u001b[0m         \u001b[0mline\u001b[0m \u001b[0;34m=\u001b[0m \u001b[0mline\u001b[0m\u001b[0;34m.\u001b[0m\u001b[0mrstrip\u001b[0m\u001b[0;34m(\u001b[0m\u001b[0;34m)\u001b[0m\u001b[0;34m\u001b[0m\u001b[0m\n",
      "\u001b[0;31mFileNotFoundError\u001b[0m: [Errno 2] No such file or directory: 'concat.a2m'"
     ]
    }
   ],
   "source": [
    "# ===============================================================================\n",
    "# PREP MSA\n",
    "# ===============================================================================\n",
    "# parse fasta\n",
    "names, seqs = parse_fasta(\"concat.a2m\")\n",
    "\n",
    "# process input sequences\n",
    "msa = mk_msa(seqs)\n",
    "\n"
   ]
  },
  {
   "cell_type": "code",
   "execution_count": 0,
   "metadata": {
    "colab": {},
    "colab_type": "code",
    "id": "YWXL0PZxs6Km",
    "outputId": "d854ada8-906a-4112-e146-306fff6175c5"
   },
   "outputs": [
    {
     "name": "stdout",
     "output_type": "stream",
     "text": [
      "finished writing\n"
     ]
    }
   ],
   "source": [
    "with open(\"names.txt\", \"w+\") as output:\n",
    "    output.write(str(names.tolist()))\n",
    "print('finished writing')\n",
    "with open(\"seqs.txt\", \"w+\") as output:\n",
    "    output.write(str(seqs.tolist()))"
   ]
  },
  {
   "cell_type": "code",
   "execution_count": 0,
   "metadata": {
    "colab": {},
    "colab_type": "code",
    "id": "8ThmPRPzs6Kp"
   },
   "outputs": [],
   "source": []
  },
  {
   "cell_type": "code",
   "execution_count": 14,
   "metadata": {
    "colab": {
     "base_uri": "https://localhost:8080/",
     "height": 252
    },
    "colab_type": "code",
    "id": "CoBRuqmVVrbD",
    "outputId": "b476115c-11a3-4c1f-f01e-388b148d9eab"
   },
   "outputs": [
    {
     "name": "stdout",
     "output_type": "stream",
     "text": [
      "ncol: 156,n nrow: 33949\n",
      "starting 2234555.7\n",
      "iter 10 610425.81\n",
      "iter 20 -1004709.96\n",
      "iter 30 2614624064.39\n",
      "iter 40 21260721.45\n",
      "iter 50 10114460.88\n",
      "iter 60 7487215.8\n",
      "iter 70 6360375.55\n",
      "iter 80 5644785.54\n",
      "iter 90 5094242.77\n",
      "iter 100 4632399.83\n",
      "CPU times: user 18 s, sys: 10.4 s, total: 28.5 s\n",
      "Wall time: 45.6 s\n"
     ]
    }
   ],
   "source": [
    "%%time\n",
    "# ===============================================================================\n",
    "# RUN GREMLIN\n",
    "# ===============================================================================\n",
    "# Note: the original GREMLIN uses the \"lbfgs\" optimizer which is EXTREMELY slow \n",
    "# in tensorflow. The modified adam optimizer is much faster, but may \n",
    "# require adjusting number of iterations (opt_iter) to converge to the same \n",
    "# solution. To switch back to the original, set opt_type=\"lbfgs\".\n",
    "# ===============================================================================\n",
    "mrf_weights = GREMLIN_weights(msa)"
   ]
  },
  {
   "cell_type": "code",
   "execution_count": 15,
   "metadata": {
    "colab": {
     "base_uri": "https://localhost:8080/",
     "height": 235
    },
    "colab_type": "code",
    "id": "yDgoW-mrtuUb",
    "outputId": "5cfb6060-8296-4df9-edc2-1b96c439f672"
   },
   "outputs": [
    {
     "name": "stdout",
     "output_type": "stream",
     "text": [
      "starting 2234216.28\n",
      "iter 10 783023.4\n",
      "iter 20 574726.56\n",
      "iter 30 511102.8\n",
      "iter 40 472315.75\n",
      "iter 50 449315.18\n",
      "iter 60 438720.97\n",
      "iter 70 434541.42\n",
      "iter 80 432790.55\n",
      "iter 90 431951.48\n",
      "iter 100 431520.99\n",
      "CPU times: user 18.6 s, sys: 10.9 s, total: 29.5 s\n",
      "Wall time: 47.7 s\n"
     ]
    }
   ],
   "source": [
    "%%time\n",
    "# ===============================================================================\n",
    "# RUN GREMLIN\n",
    "# ===============================================================================\n",
    "# Note: the original GREMLIN uses the \"lbfgs\" optimizer which is EXTREMELY slow \n",
    "# in tensorflow. The modified adam optimizer is much faster, but may \n",
    "# require adjusting number of iterations (opt_iter) to converge to the same \n",
    "# solution. To switch back to the original, set opt_type=\"lbfgs\".\n",
    "# ===============================================================================\n",
    "mrf = GREMLIN(msa)"
   ]
  },
  {
   "cell_type": "markdown",
   "metadata": {
    "colab_type": "text",
    "id": "jCrfC2Um4xww"
   },
   "source": [
    "## Explore the contact map\n",
    "### Contact prediction:\n",
    "\n",
    "For contact prediction, the W matrix is reduced from LxLx21x21 to LxL matrix (by taking the L2norm for each of the 20x20). In the code below, you can access this as mtx[\"raw\"]. Further correction (average product correction) is then performed to the mtx[\"raw\"] to remove the effects of entropy, mtx[\"apc\"]. The relative ranking of mtx[\"apc\"] is used to assess importance. When there are enough effective sequences (>1000), we find that the top 1.0L contacts are ~90% accurate! When the number of effective sequences is lower, NN can help clean noise and fill in missing contacts.\n"
   ]
  },
  {
   "cell_type": "markdown",
   "metadata": {
    "colab_type": "text",
    "id": "XxgQArVUPyPH"
   },
   "source": [
    "## Functions for extracting contacts from MRF"
   ]
  },
  {
   "cell_type": "code",
   "execution_count": 0,
   "metadata": {
    "colab": {},
    "colab_type": "code",
    "id": "nMxp7up_P1_q"
   },
   "outputs": [],
   "source": [
    "###################\n",
    "def normalize(x):\n",
    "  x = stats.boxcox(x - np.amin(x) + 1.0)[0]\n",
    "  x_mean = np.mean(x)\n",
    "  x_std = np.std(x)\n",
    "  return((x-x_mean)/x_std)\n",
    "\n",
    "def get_mtx(mrf):\n",
    "  '''get mtx given mrf'''\n",
    "  \n",
    "  # l2norm of 20x20 matrices (note: we ignore gaps)\n",
    "  raw = np.sqrt(np.sum(np.square(mrf[\"w\"][:,:-1,:-1]),(1,2)))\n",
    "  raw_sq = squareform(raw)\n",
    "\n",
    "  # apc (average product correction)\n",
    "  ap_sq = np.sum(raw_sq,0,keepdims=True)*np.sum(raw_sq,1,keepdims=True)/np.sum(raw_sq)\n",
    "  apc = squareform(raw_sq - ap_sq, checks=False)\n",
    "\n",
    "  mtx = {\"i\": mrf[\"w_idx\"][:,0],\n",
    "         \"j\": mrf[\"w_idx\"][:,1],\n",
    "         \"raw\": raw,\n",
    "         \"apc\": apc,\n",
    "         \"zscore\": normalize(apc)}\n",
    "  return mtx\n",
    "\n",
    "def plot_mtx(mtx,key=\"zscore\",vmin=1,vmax=3):\n",
    "  '''plot the mtx'''\n",
    "  plt.figure(figsize=(5,5))\n",
    "  plt.imshow(squareform(mtx[key]), cmap='Blues', interpolation='none', vmin=vmin, vmax=vmax)\n",
    "  plt.grid(False)\n",
    "  plt.show()"
   ]
  },
  {
   "cell_type": "code",
   "execution_count": 0,
   "metadata": {
    "colab": {},
    "colab_type": "code",
    "id": "RSleviAVPJ36"
   },
   "outputs": [],
   "source": [
    "mtx_weights = get_mtx(mrf_weights)  \n",
    "mtx = get_mtx(mrf)\n",
    "#plot_mtx(mtx)"
   ]
  },
  {
   "cell_type": "markdown",
   "metadata": {
    "colab_type": "text",
    "id": "qWaTHLTH5rGw"
   },
   "source": [
    "## Look at top co-evolving residue pairs"
   ]
  },
  {
   "cell_type": "code",
   "execution_count": 20,
   "metadata": {
    "colab": {
     "base_uri": "https://localhost:8080/",
     "height": 343
    },
    "colab_type": "code",
    "id": "9A2yeOJ8uPNM",
    "outputId": "dd17af90-d310-4af8-c4d3-b098d33f7975"
   },
   "outputs": [
    {
     "data": {
      "text/html": [
       "<div>\n",
       "<style scoped>\n",
       "    .dataframe tbody tr th:only-of-type {\n",
       "        vertical-align: middle;\n",
       "    }\n",
       "\n",
       "    .dataframe tbody tr th {\n",
       "        vertical-align: top;\n",
       "    }\n",
       "\n",
       "    .dataframe thead th {\n",
       "        text-align: right;\n",
       "    }\n",
       "</style>\n",
       "<table border=\"1\" class=\"dataframe\">\n",
       "  <thead>\n",
       "    <tr style=\"text-align: right;\">\n",
       "      <th></th>\n",
       "      <th>i</th>\n",
       "      <th>j</th>\n",
       "      <th>apc</th>\n",
       "      <th>zscore</th>\n",
       "      <th>i_aa</th>\n",
       "      <th>j_aa</th>\n",
       "    </tr>\n",
       "  </thead>\n",
       "  <tbody>\n",
       "    <tr>\n",
       "      <th>5998</th>\n",
       "      <td>70</td>\n",
       "      <td>84</td>\n",
       "      <td>0.934015</td>\n",
       "      <td>2.070271</td>\n",
       "      <td>C_71</td>\n",
       "      <td>F_85</td>\n",
       "    </tr>\n",
       "    <tr>\n",
       "      <th>5995</th>\n",
       "      <td>70</td>\n",
       "      <td>81</td>\n",
       "      <td>0.898577</td>\n",
       "      <td>2.013181</td>\n",
       "      <td>C_71</td>\n",
       "      <td>A_82</td>\n",
       "    </tr>\n",
       "    <tr>\n",
       "      <th>6327</th>\n",
       "      <td>73</td>\n",
       "      <td>89</td>\n",
       "      <td>0.882275</td>\n",
       "      <td>1.986596</td>\n",
       "      <td>P_74</td>\n",
       "      <td>E_90</td>\n",
       "    </tr>\n",
       "    <tr>\n",
       "      <th>6326</th>\n",
       "      <td>73</td>\n",
       "      <td>88</td>\n",
       "      <td>0.878822</td>\n",
       "      <td>1.980937</td>\n",
       "      <td>P_74</td>\n",
       "      <td>L_89</td>\n",
       "    </tr>\n",
       "    <tr>\n",
       "      <th>3580</th>\n",
       "      <td>50</td>\n",
       "      <td>56</td>\n",
       "      <td>0.859729</td>\n",
       "      <td>1.949481</td>\n",
       "      <td>V_51</td>\n",
       "      <td>D_57</td>\n",
       "    </tr>\n",
       "    <tr>\n",
       "      <th>3581</th>\n",
       "      <td>50</td>\n",
       "      <td>57</td>\n",
       "      <td>0.826457</td>\n",
       "      <td>1.893965</td>\n",
       "      <td>V_51</td>\n",
       "      <td>V_58</td>\n",
       "    </tr>\n",
       "    <tr>\n",
       "      <th>6739</th>\n",
       "      <td>77</td>\n",
       "      <td>83</td>\n",
       "      <td>0.826383</td>\n",
       "      <td>1.893841</td>\n",
       "      <td>R_78</td>\n",
       "      <td>R_84</td>\n",
       "    </tr>\n",
       "    <tr>\n",
       "      <th>5548</th>\n",
       "      <td>66</td>\n",
       "      <td>80</td>\n",
       "      <td>0.823379</td>\n",
       "      <td>1.888784</td>\n",
       "      <td>K_67</td>\n",
       "      <td>A_81</td>\n",
       "    </tr>\n",
       "    <tr>\n",
       "      <th>6436</th>\n",
       "      <td>74</td>\n",
       "      <td>92</td>\n",
       "      <td>0.823044</td>\n",
       "      <td>1.888219</td>\n",
       "      <td>N_75</td>\n",
       "      <td>M_93</td>\n",
       "    </tr>\n",
       "    <tr>\n",
       "      <th>5088</th>\n",
       "      <td>62</td>\n",
       "      <td>82</td>\n",
       "      <td>0.817150</td>\n",
       "      <td>1.878274</td>\n",
       "      <td>P_63</td>\n",
       "      <td>S_83</td>\n",
       "    </tr>\n",
       "  </tbody>\n",
       "</table>\n",
       "</div>"
      ],
      "text/plain": [
       "       i   j       apc    zscore  i_aa  j_aa\n",
       "5998  70  84  0.934015  2.070271  C_71  F_85\n",
       "5995  70  81  0.898577  2.013181  C_71  A_82\n",
       "6327  73  89  0.882275  1.986596  P_74  E_90\n",
       "6326  73  88  0.878822  1.980937  P_74  L_89\n",
       "3580  50  56  0.859729  1.949481  V_51  D_57\n",
       "3581  50  57  0.826457  1.893965  V_51  V_58\n",
       "6739  77  83  0.826383  1.893841  R_78  R_84\n",
       "5548  66  80  0.823379  1.888784  K_67  A_81\n",
       "6436  74  92  0.823044  1.888219  N_75  M_93\n",
       "5088  62  82  0.817150  1.878274  P_63  S_83"
      ]
     },
     "execution_count": 20,
     "metadata": {
      "tags": []
     },
     "output_type": "execute_result"
    }
   ],
   "source": [
    "######################################################################################\n",
    "# WARNING - WARNING - WARNING\n",
    "######################################################################################\n",
    "# - the i,j index starts at 0 (zero)\n",
    "# - the \"first\" position = 0\n",
    "# - often in biology first position of a sequence is 1\n",
    "#   for this index use i_aa and j_aa!\n",
    "\n",
    "# adding amino acid to index\n",
    "mtx[\"i_aa\"] = np.array([alphabet[msa['msa_ori'][0][i]]+\"_\"+str(i+1) for i in mtx[\"i\"]])\n",
    "mtx[\"j_aa\"] = np.array([alphabet[msa['msa_ori'][0][j]]+\"_\"+str(j+1) for j in mtx[\"j\"]])\n",
    "\n",
    "mtx_weights[\"i_aa\"] = np.array([alphabet[msa['msa_ori'][0][i]]+\"_\"+str(i+1) for i in mtx_weights[\"i\"]])\n",
    "mtx_weights[\"j_aa\"] = np.array([alphabet[msa['msa_ori'][0][j]]+\"_\"+str(j+1) for j in mtx_weights[\"j\"]])\n",
    "\n",
    "\n",
    "# load mtx into pandas dataframe\n",
    "pd_mtx = pd.DataFrame(mtx,columns=[\"i\",\"j\",\"apc\",\"zscore\",\"i_aa\",\"j_aa\"])\n",
    "pd_mtx_weights = pd.DataFrame(mtx_weights,columns=[\"i\",\"j\",\"apc\",\"zscore\",\"i_aa\",\"j_aa\"])\n",
    "# get contacts with sequence seperation > 5\n",
    "# sort by zscore, show top 10\n",
    "top = pd_mtx.loc[pd_mtx['j'] - pd_mtx['i'] > 5].sort_values(\"zscore\",ascending=False)\n",
    "top.head(10)"
   ]
  },
  {
   "cell_type": "code",
   "execution_count": 0,
   "metadata": {
    "colab": {},
    "colab_type": "code",
    "id": "qVPY9SL3YmvK"
   },
   "outputs": [],
   "source": [
    "def plot_top_n_contacts(df):\n",
    "  \n",
    "  for index,row in df.nlargest(100,'apc').iterrows():\n",
    "      plt.scatter(row.i,row.j,s=row.apc,c='g')\n",
    "      plt.scatter(row.j,row.i,s=row.apc,c='g')\n",
    "  plt.axis('square')"
   ]
  },
  {
   "cell_type": "code",
   "execution_count": 22,
   "metadata": {
    "colab": {
     "base_uri": "https://localhost:8080/",
     "height": 269
    },
    "colab_type": "code",
    "id": "sdxnQNpCclZc",
    "outputId": "575e33d9-f612-4f0c-c615-c93db1221f3e"
   },
   "outputs": [
    {
     "data": {
      "image/png": "[encoded data removed]",
      "text/plain": [
       "<Figure size 432x288 with 1 Axes>"
      ]
     },
     "metadata": {
      "tags": []
     },
     "output_type": "display_data"
    }
   ],
   "source": [
    "plot_top_n_contacts(pd_mtx)"
   ]
  },
  {
   "cell_type": "code",
   "execution_count": 24,
   "metadata": {
    "colab": {
     "base_uri": "https://localhost:8080/",
     "height": 269
    },
    "colab_type": "code",
    "id": "s-VgECqF3hpp",
    "outputId": "a8aeb8fa-e0df-4e7f-a2da-21a93d0710fb"
   },
   "outputs": [
    {
     "data": {
      "image/png": "[encoded data removed]",
      "text/plain": [
       "<Figure size 432x288 with 1 Axes>"
      ]
     },
     "metadata": {
      "tags": []
     },
     "output_type": "display_data"
    }
   ],
   "source": [
    "plot_top_n_contacts(pd_mtx_weights)"
   ]
  },
  {
   "cell_type": "code",
   "execution_count": 0,
   "metadata": {
    "colab": {},
    "colab_type": "code",
    "id": "u6ghb5F8iyUR"
   },
   "outputs": [],
   "source": [
    "pd_mtx.to_csv('pd_mtx.csv')\n",
    "pd_mtx_weights.to_csv('pd_mtx_weights.csv')"
   ]
  },
  {
   "cell_type": "markdown",
   "metadata": {
    "colab_type": "text",
    "id": "wqG93dC12CKx"
   },
   "source": [
    "## Explore the MRF"
   ]
  },
  {
   "cell_type": "code",
   "execution_count": 0,
   "metadata": {
    "colab": {
     "base_uri": "https://localhost:8080/",
     "height": 337
    },
    "colab_type": "code",
    "id": "k6BsheyNx3ID",
    "outputId": "e1cd3732-2695-41c5-cd03-f3da4e129827"
   },
   "outputs": [
    {
     "data": {
      "image/png": "[encoded data removed]",
      "text/plain": [
       "<Figure size 1098x378 with 1 Axes>"
      ]
     },
     "metadata": {
      "needs_background": "light",
      "tags": []
     },
     "output_type": "display_data"
    }
   ],
   "source": [
    "def plot_v(mrf):  \n",
    "  al_a = list(alphabet)\n",
    "  v = mrf[\"v\"].T\n",
    "  mx = np.max((v.max(),np.abs(v.min())))\n",
    "  plt.figure(figsize=(v.shape[1]/4,states/4))\n",
    "  plt.imshow(-v,cmap='bwr',vmin=-mx,vmax=mx)\n",
    "  plt.xticks(np.arange(v.shape[1]))\n",
    "  plt.yticks(np.arange(0,states))\n",
    "  plt.grid(False)\n",
    "  ax = plt.gca()\n",
    "  ax.xaxis.set_major_formatter(plt.FuncFormatter(lambda x,y: mrf[\"v_idx\"][x])) \n",
    "  ax.yaxis.set_major_formatter(plt.FuncFormatter(lambda x,y: al_a[x]))\n",
    "  \n",
    "plot_v(mrf)"
   ]
  },
  {
   "cell_type": "code",
   "execution_count": 0,
   "metadata": {
    "colab": {
     "base_uri": "https://localhost:8080/",
     "height": 681
    },
    "colab_type": "code",
    "id": "OER2wALRvTkK",
    "outputId": "519db840-ccab-4bcd-9a1f-ab174ada7094"
   },
   "outputs": [
    {
     "data": {
      "image/png": "[encoded data removed]",
      "text/plain": [
       "<Figure size 378x378 with 1 Axes>"
      ]
     },
     "metadata": {
      "needs_background": "light",
      "tags": []
     },
     "output_type": "display_data"
    },
    {
     "data": {
      "image/png": "[encoded data removed]",
      "text/plain": [
       "<Figure size 378x378 with 1 Axes>"
      ]
     },
     "metadata": {
      "needs_background": "light",
      "tags": []
     },
     "output_type": "display_data"
    }
   ],
   "source": [
    "def plot_w(mrf,i,j):\n",
    "  \n",
    "  n = int(np.where((mrf[\"w_idx\"][:,0] == i)&(mrf[\"w_idx\"][:,1] == j))[0])\n",
    "  w = mrf[\"w\"][n]\n",
    "  \n",
    "  mx = np.max((w.max(),np.abs(w.min())))\n",
    "  plt.figure(figsize=(states/4,states/4))\n",
    "  plt.imshow(-w,cmap='bwr',vmin=-mx,vmax=mx)\n",
    "  plt.xticks(np.arange(0,states))\n",
    "  plt.yticks(np.arange(0,states))\n",
    "  plt.grid(False)\n",
    "  \n",
    "  ax = plt.gca()\n",
    "  al_a = list(alphabet)\n",
    "  ax.xaxis.set_major_formatter(plt.FuncFormatter(lambda x,y: al_a[x])) \n",
    "  ax.yaxis.set_major_formatter(plt.FuncFormatter(lambda x,y: al_a[x]))\n",
    "  plt.title(f\"W for positions {i} and {j}\")\n",
    "  plt.show()\n",
    "\n",
    "for n in range(2):\n",
    "  i = int(top.iloc[n][\"i\"])\n",
    "  j = int(top.iloc[n][\"j\"])\n",
    "  plot_w(mrf,i,j)"
   ]
  },
  {
   "cell_type": "markdown",
   "metadata": {
    "colab_type": "text",
    "id": "xv2anXSUX9kr"
   },
   "source": [
    "## validating output\n",
    "(comparing to known output from GREMLIN_cpp version)"
   ]
  },
  {
   "cell_type": "code",
   "execution_count": 0,
   "metadata": {
    "colab": {
     "base_uri": "https://localhost:8080/",
     "height": 286
    },
    "colab_type": "code",
    "id": "dDYIV1tuMknw",
    "outputId": "d41d3b01-1d33-434c-e31a-f3460a16e71e"
   },
   "outputs": [
    {
     "data": {
      "text/plain": [
       "<matplotlib.collections.PathCollection at 0x7f88e7afaa58>"
      ]
     },
     "execution_count": 107,
     "metadata": {
      "tags": []
     },
     "output_type": "execute_result"
    },
    {
     "data": {
      "image/png": "[encoded data removed]",
      "text/plain": [
       "<Figure size 432x288 with 1 Axes>"
      ]
     },
     "metadata": {
      "tags": []
     },
     "output_type": "display_data"
    }
   ],
   "source": [
    "plt.scatter(mrf_weights['wb'],mrf_weights['wb_ini'],alpha=0.1)\n",
    "#plt.axis('square')"
   ]
  },
  {
   "cell_type": "code",
   "execution_count": 0,
   "metadata": {
    "colab": {},
    "colab_type": "code",
    "id": "RBIvsIQ9X74s"
   },
   "outputs": [],
   "source": [
    "!wget -q -nc http://files.ipd.uw.edu/krypton/4FAZA.out"
   ]
  },
  {
   "cell_type": "code",
   "execution_count": 0,
   "metadata": {
    "colab": {
     "base_uri": "https://localhost:8080/",
     "height": 322
    },
    "colab_type": "code",
    "id": "M7fK03GFX_3q",
    "outputId": "a3b66c1e-f62e-4f1f-c5f6-8c3a19af55eb"
   },
   "outputs": [
    {
     "name": "stderr",
     "output_type": "stream",
     "text": [
      "/usr/local/lib/python3.6/dist-packages/ipykernel_launcher.py:1: FutureWarning: read_table is deprecated, use read_csv instead.\n",
      "  \"\"\"Entry point for launching an IPython kernel.\n"
     ]
    },
    {
     "data": {
      "image/png": "[encoded data removed]",
      "text/plain": [
       "<Figure size 432x288 with 1 Axes>"
      ]
     },
     "metadata": {
      "tags": []
     },
     "output_type": "display_data"
    }
   ],
   "source": [
    "pd_test = pd.read_table(\"4FAZA.out\",sep=\" \")\n",
    "plt.scatter(pd_test[\"apc\"],mtx[\"apc\"])\n",
    "plt.show()"
   ]
  },
  {
   "cell_type": "markdown",
   "metadata": {
    "colab_type": "text",
    "id": "-dw9TGERe3cw"
   },
   "source": [
    "## Useful input features for NN (Neural Networks)\n",
    "\n",
    "The \"apc\" values are typically used as input to the NN for contact cleaning or structure prediction. Though in recent advances (aka DeepMind/Alphafold), the entire MRF was used as the input. More specificially LxLx442. The 442 channels are the 21x21 + (raw and/or apc) value."
   ]
  },
  {
   "cell_type": "code",
   "execution_count": 0,
   "metadata": {
    "colab": {
     "base_uri": "https://localhost:8080/",
     "height": 51
    },
    "colab_type": "code",
    "id": "nqbDMKdsYG7Q",
    "outputId": "60e40a12-b1ad-4ea4-b8bd-5fa757ff8a48"
   },
   "outputs": [
    {
     "name": "stdout",
     "output_type": "stream",
     "text": [
      "w_out (62, 62, 442)\n",
      "v_out (62, 21)\n"
     ]
    }
   ],
   "source": [
    "w_out = np.zeros((msa[\"ncol_ori\"], msa[\"ncol_ori\"], states * states + 1))\n",
    "v_out = np.zeros((msa[\"ncol_ori\"], states))\n",
    "\n",
    "mrf_ = np.reshape(mrf[\"w\"],(-1, states * states))\n",
    "mtx_ = np.expand_dims(mtx[\"apc\"],-1)\n",
    "\n",
    "w_out[(mtx[\"i\"],mtx[\"j\"])] = np.concatenate((mrf_, mtx_),-1)\n",
    "w_out += np.transpose(w_out,(1,0,2))\n",
    "v_out[mrf[\"v_idx\"]] = mrf[\"v\"]\n",
    "\n",
    "print(\"w_out\",w_out.shape)\n",
    "print(\"v_out\",v_out.shape)"
   ]
  }
 ],
 "metadata": {
  "accelerator": "GPU",
  "colab": {
   "collapsed_sections": [],
   "include_colab_link": true,
   "machine_shape": "hm",
   "name": "GREMLIN_TF_v2_weights_edit.ipynb",
   "provenance": [],
   "version": "0.3.2"
  },
  "kernelspec": {
   "display_name": "Python 3",
   "language": "python",
   "name": "python3"
  },
  "language_info": {
   "codemirror_mode": {
    "name": "ipython",
    "version": 3
   },
   "file_extension": ".py",
   "mimetype": "text/x-python",
   "name": "python",
   "nbconvert_exporter": "python",
   "pygments_lexer": "ipython3",
   "version": "3.6.0"
  }
 },
 "nbformat": 4,
 "nbformat_minor": 1
}
