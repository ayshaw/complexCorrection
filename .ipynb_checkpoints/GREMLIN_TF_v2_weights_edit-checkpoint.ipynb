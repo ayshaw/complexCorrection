{
 "cells": [
  {
   "cell_type": "markdown",
   "metadata": {
    "colab_type": "text",
    "id": "mu2S86VhS-8t"
   },
   "source": [
    "# GREMLIN_TF v2.1\n",
    "GREMLIN implemented in tensorflow\n",
    "\n",
    "### Change log:\n",
    "*   02Apr2019\n",
    " - fixing a few hard-coded values, to allow GREMLIN to work with any alphabet (binary, protein, rna etc)\n",
    "*   22Jan2019\n",
    " - moving [GREMLIN_TF_simple](https://colab.research.google.com/github/sokrypton/GREMLIN_CPP/blob/master/GREMLIN_TF_simple.ipynb) to a seperate notebook\n",
    "*   19Jan2019\n",
    " - in the past we found that optimizing V first, required less iterations for convergence. Since V can be computed exactly (assuming no W), we replace this first optimization step with a simple V initialization.\n",
    " - a few variables were renamed to be consistent with the c++ version\n",
    "*   16Jan2019\n",
    " - updating how indices are handled (for easier/cleaner parsing)\n",
    " - minor speed up in how we symmetrize and zero the diagional of W\n",
    "*   15Jan2019\n",
    " - LBFGS optimizer replaced with a modified version of the ADAM optimizer\n",
    " - Added option for stochastic gradient descent (via batch_size)\n",
    "  \n",
    "### Method:\n",
    "GREMLIN takes a multiple sequence alignment (MSA) and returns a Markov Random Field (MRF). The MRF consists of a one-body term (V) that encodes conservation, and a two-body term (W) that encodes co-evolution.\n",
    "\n",
    "For more details about the method see:\n",
    "[Google slides](https://docs.google.com/presentation/d/1aooxoksosSv7CWs9-ktqhUjyXR3wrgbG5a6PCr92od4/) and accompanying [Google colab](https://colab.research.google.com/drive/17RJcExuyifnd7ShTcsZGh6mBpWq0-s60)\n",
    "\n",
    "See [GREMLIN_TF_simple](https://colab.research.google.com/github/sokrypton/GREMLIN_CPP/blob/master/GREMLIN_TF_simple.ipynb) for a stripped down version of this code (with no funky gap removal, sequence weight, etc). This is intented for educational purpose,  and could also be very useful for anyone trying to modify or improve the algorithm!\n"
   ]
  },
  {
   "cell_type": "code",
   "execution_count": 1,
   "metadata": {
    "colab": {},
    "colab_type": "code",
    "id": "yM3wyYU5SwYn"
   },
   "outputs": [],
   "source": [
    "# ------------------------------------------------------------\n",
    "# \"THE BEERWARE LICENSE\" (Revision 42):\n",
    "# <so@g.harvard.edu> and <pkk382@g.harvard.edu> wrote this code.\n",
    "# As long as you retain this notice, you can do whatever you want\n",
    "# with this stuff. If we meet someday, and you think this stuff\n",
    "# is worth it, you can buy us a beer in return.\n",
    "# --Sergey Ovchinnikov and Peter Koo\n",
    "# ------------------------------------------------------------"
   ]
  },
  {
   "cell_type": "code",
   "execution_count": 2,
   "metadata": {
    "colab": {
     "base_uri": "https://localhost:8080/",
     "height": 235
    },
    "colab_type": "code",
    "executionInfo": {
     "elapsed": 72293,
     "status": "ok",
     "timestamp": 1563990622922,
     "user": {
      "displayName": "Ada Shaw",
      "photoUrl": "https://lh4.googleusercontent.com/-eyRleL4y85w/AAAAAAAAAAI/AAAAAAAAACA/acoiML-5peM/s64/photo.jpg",
      "userId": "12354570689282686732"
     },
     "user_tz": 240
    },
    "id": "7dPDyxCIFBcZ",
    "outputId": "f9548c64-b8cb-40fe-abb3-5cbfa7212155"
   },
   "outputs": [],
   "source": [
    "# !wget https://bin.equinox.io/c/4VmDzA7iaHb/ngrok-stable-linux-amd64.zip\n",
    "# !unzip ngrok-stable-linux-amd64.zip"
   ]
  },
  {
   "cell_type": "code",
   "execution_count": 0,
   "metadata": {
    "colab": {},
    "colab_type": "code",
    "id": "jArH-1qgFmjW"
   },
   "outputs": [],
   "source": [
    "LOG_DIR = './log'\n",
    "get_ipython().system_raw(\n",
    "    'tensorboard --logdir {} --host 0.0.0.0 --port 6006 &'\n",
    "    .format(LOG_DIR)\n",
    ")"
   ]
  },
  {
   "cell_type": "code",
   "execution_count": 0,
   "metadata": {
    "colab": {},
    "colab_type": "code",
    "id": "efup0wCKFpkM"
   },
   "outputs": [],
   "source": [
    "get_ipython().system_raw('./ngrok http 6006 &')\n"
   ]
  },
  {
   "cell_type": "code",
   "execution_count": 0,
   "metadata": {
    "colab": {
     "base_uri": "https://localhost:8080/",
     "height": 34
    },
    "colab_type": "code",
    "executionInfo": {
     "elapsed": 1224,
     "status": "ok",
     "timestamp": 1563990737841,
     "user": {
      "displayName": "Ada Shaw",
      "photoUrl": "https://lh4.googleusercontent.com/-eyRleL4y85w/AAAAAAAAAAI/AAAAAAAAACA/acoiML-5peM/s64/photo.jpg",
      "userId": "12354570689282686732"
     },
     "user_tz": 240
    },
    "id": "dkBlygcPFt0J",
    "outputId": "1816d032-0cbf-455f-d9fd-b050ac50ae63"
   },
   "outputs": [
    {
     "name": "stdout",
     "output_type": "stream",
     "text": [
      "http://e5d19bd9.ngrok.io\n"
     ]
    }
   ],
   "source": [
    "! curl -s http://localhost:4040/api/tunnels | python3 -c \\\n",
    "    \"import sys, json; print(json.load(sys.stdin)['tunnels'][0]['public_url'])\""
   ]
  },
  {
   "cell_type": "markdown",
   "metadata": {
    "colab_type": "text",
    "id": "NLUvPVyxb7bo"
   },
   "source": [
    "## libraries"
   ]
  },
  {
   "cell_type": "code",
   "execution_count": 58,
   "metadata": {
    "colab": {
     "base_uri": "https://localhost:8080/",
     "height": 121
    },
    "colab_type": "code",
    "executionInfo": {
     "elapsed": 25559,
     "status": "ok",
     "timestamp": 1563998311244,
     "user": {
      "displayName": "Ada Shaw",
      "photoUrl": "https://lh4.googleusercontent.com/-eyRleL4y85w/AAAAAAAAAAI/AAAAAAAAACA/acoiML-5peM/s64/photo.jpg",
      "userId": "12354570689282686732"
     },
     "user_tz": 240
    },
    "id": "YyJpLM_tJfrY",
    "outputId": "11d79601-4d89-4eb1-830f-16a58de3b930"
   },
   "outputs": [],
   "source": [
    "# IMPORTANT, only tested using PYTHON 3!\n",
    "import numpy as np\n",
    "import tensorflow as tf\n",
    "import matplotlib.pylab as plt\n",
    "from scipy import stats\n",
    "from scipy.spatial.distance import pdist,squareform\n",
    "import pandas as pd\n",
    "import os\n",
    "from scipy.cluster.hierarchy import dendrogram, linkage, fcluster\n",
    "\n",
    "from keras.callbacks import TensorBoard\n",
    "tbCallBack = TensorBoard(log_dir='./log', histogram_freq=1,\n",
    "                         write_graph=True,\n",
    "                         write_grads=True,\n",
    "                         batch_size=None,\n",
    "                         write_images=True)\n",
    "# from google.colab import drive\n",
    "# drive.mount('/content/drive',force_remount=True)\n",
    "# os.chdir('drive/My Drive/Marks')"
   ]
  },
  {
   "cell_type": "markdown",
   "metadata": {
    "colab_type": "text",
    "id": "j0Yp7bPRmvwU"
   },
   "source": [
    "## Params"
   ]
  },
  {
   "cell_type": "code",
   "execution_count": 21,
   "metadata": {
    "colab": {},
    "colab_type": "code",
    "id": "o3c7KURqmugY"
   },
   "outputs": [],
   "source": [
    "################\n",
    "# note: if you are modifying the alphabet\n",
    "# make sure last character is \"-\" (gap)\n",
    "################\n",
    "alphabet = \"ARNDCQEGHILKMFPSTWYV-\"\n",
    "states = len(alphabet)\n",
    "a2n = {}\n",
    "for a,n in zip(alphabet,range(states)):\n",
    "    a2n[a] = n\n",
    "################\n",
    "\n",
    "def aa2num(aa):\n",
    "    '''convert aa into num'''\n",
    "    if aa in a2n: return a2n[aa]\n",
    "    else: return a2n['-']"
   ]
  },
  {
   "cell_type": "markdown",
   "metadata": {
    "colab_type": "text",
    "id": "bX6GXKV3I2pm"
   },
   "source": [
    "## Functions for prepping the MSA (Multiple sequence alignment)"
   ]
  },
  {
   "cell_type": "code",
   "execution_count": 68,
   "metadata": {
    "colab": {},
    "colab_type": "code",
    "id": "zA0Bne59SUIu"
   },
   "outputs": [],
   "source": [
    "# from fasta\n",
    "def parse_fasta(filename,limit=-1):\n",
    "    '''function to parse fasta'''\n",
    "    header = []\n",
    "    sequence = []\n",
    "    lines = open(filename, \"r\")\n",
    "    for line in lines:\n",
    "        line = line.rstrip()\n",
    "        if line[0] == \">\":\n",
    "            if len(header) == limit:\n",
    "                break\n",
    "            header.append(line[1:])\n",
    "            sequence.append([])\n",
    "        else:\n",
    "            sequence[-1].append(line)\n",
    "    lines.close()\n",
    "    sequence = [''.join(seq) for seq in sequence]\n",
    "    return np.array(header), np.array(sequence)\n",
    "\n",
    "def filt_gaps(msa,gap_cutoff=0.5):\n",
    "    '''filters alignment to remove gappy positions'''\n",
    "    tmp = (msa == states-1).astype(np.float)\n",
    "    non_gaps = np.where(np.sum(tmp.T,-1).T/msa.shape[0] < gap_cutoff)[0]\n",
    "    return msa[:,non_gaps],non_gaps\n",
    "\n",
    "def get_eff(msa,eff_cutoff=0.8):\n",
    "    '''compute effective weight for each sequence'''\n",
    "    ncol = msa.shape[1]\n",
    "\n",
    "    # pairwise identity\n",
    "    msa_sm = 1.0 - squareform(pdist(msa,\"hamming\"))\n",
    "\n",
    "    # weight for each sequence\n",
    "    msa_w = (msa_sm >= eff_cutoff).astype(np.float)\n",
    "    msa_w = 1/np.sum(msa_w,-1)\n",
    "\n",
    "    return msa_w\n",
    "\n",
    "# def cluster(msa, method='ward', threshold=0.8):\n",
    "#     Z = linkage(1-squareform(pdist(msa,\"hamming\")),method) \n",
    "#     return fcluster(Z,threshold,criterion='distance')\n",
    "def mk_msa(seqs):\n",
    "    '''converts list of sequences to msa'''\n",
    "\n",
    "    msa_ori = []\n",
    "    for seq in seqs:\n",
    "        msa_ori.append([aa2num(aa) for aa in seq])\n",
    "    msa_ori = np.array(msa_ori)\n",
    "\n",
    "    # remove positions with more than > 50% gaps\n",
    "    msa, v_idx = filt_gaps(msa_ori,0.5)\n",
    "\n",
    "    # compute effective weight for each sequence\n",
    "    msa_weights = get_eff(msa,0.8)\n",
    "\n",
    "    # compute effective number of sequences\n",
    "    ncol = msa.shape[1] # length of sequence\n",
    "    w_idx = v_idx[np.stack(np.triu_indices(ncol,1),-1)]\n",
    "#     msa_cluster = cluster(msa)\n",
    "    return {\"msa_ori\":msa_ori,\n",
    "          \"msa\":msa,\n",
    "          \"weights\":msa_weights,\n",
    "          \"neff\":np.sum(msa_weights),\n",
    "          \"v_idx\":v_idx,\n",
    "          \"w_idx\":w_idx,\n",
    "          \"nrow\":msa.shape[0],\n",
    "          \"ncol\":ncol,\n",
    "          \"ncol_ori\":msa_ori.shape[1]}\n"
   ]
  },
  {
   "cell_type": "markdown",
   "metadata": {
    "colab_type": "text",
    "id": "fky6gk-HlFyi"
   },
   "source": [
    "## GREMLIN"
   ]
  },
  {
   "cell_type": "code",
   "execution_count": 69,
   "metadata": {
    "colab": {},
    "colab_type": "code",
    "id": "gx14M7Tvu-Ct"
   },
   "outputs": [],
   "source": [
    "# external functions\n",
    "\n",
    "def sym_w(w):\n",
    "    '''symmetrize input matrix of shape (x,y,x,y)'''\n",
    "    x = w.shape[0]\n",
    "    w = w * np.reshape(1-np.eye(x),(x,1,x,1))\n",
    "    w = w + tf.transpose(w,[2,3,0,1])\n",
    "    return w\n",
    "\n",
    "def opt_adam(loss, name, var_list=None, lr=1.0, b1=0.9, b2=0.999, b_fix=False):\n",
    "    # adam optimizer\n",
    "    # Note: this is a modified version of adam optimizer. More specifically, we replace \"vt\"\n",
    "    # with sum(g*g) instead of (g*g). Furthmore, we find that disabling the bias correction\n",
    "    # (b_fix=False) speeds up convergence for our case.\n",
    "\n",
    "    if var_list is None: var_list = tf.trainable_variables() \n",
    "    gradients = tf.gradients(loss,var_list)\n",
    "    if b_fix: t = tf.Variable(0.0,\"t\")\n",
    "    opt = []\n",
    "    for n,(x,g) in enumerate(zip(var_list,gradients)):\n",
    "        if g is not None:\n",
    "            ini = dict(initializer=tf.zeros_initializer,trainable=False)\n",
    "            mt = tf.get_variable(name+\"_mt_\"+str(n),shape=list(x.shape), **ini)\n",
    "            vt = tf.get_variable(name+\"_vt_\"+str(n),shape=[], **ini)\n",
    "\n",
    "            mt_tmp = b1*mt+(1-b1)*g\n",
    "            vt_tmp = b2*vt+(1-b2)*tf.reduce_sum(tf.square(g))\n",
    "            lr_tmp = lr/(tf.sqrt(vt_tmp) + 1e-8)\n",
    "\n",
    "            if b_fix: lr_tmp = lr_tmp * tf.sqrt(1-tf.pow(b2,t))/(1-tf.pow(b1,t))\n",
    "\n",
    "            opt.append(x.assign_add(-lr_tmp * mt_tmp))\n",
    "            opt.append(vt.assign(vt_tmp))\n",
    "            opt.append(mt.assign(mt_tmp))\n",
    "\n",
    "    if b_fix: opt.append(t.assign_add(1.0))\n",
    "    return(tf.group(opt))"
   ]
  },
  {
   "cell_type": "code",
   "execution_count": 70,
   "metadata": {
    "colab": {},
    "colab_type": "code",
    "id": "BqYqlJAXVI9N"
   },
   "outputs": [],
   "source": [
    "def GREMLIN_weights(msa, opt_type=\"adam\", opt_iter=100, opt_rate=1.0, batch_size=None):\n",
    "  \n",
    "    ##############################################################\n",
    "    # SETUP COMPUTE GRAPH\n",
    "    ##############################################################\n",
    "    # kill any existing tensorflow graph\n",
    "    tf.reset_default_graph()\n",
    "\n",
    "    ncol = msa[\"ncol\"] # length of sequence\n",
    "    nrow = msa[\"nrow\"] # number of sequences\n",
    "    print(\"ncol: {},n nrow: {}\".format(ncol,nrow))\n",
    "\n",
    "    # msa (multiple sequence alignment) \n",
    "    MSA = tf.placeholder(tf.int32,shape=(None,ncol),name=\"msa\")\n",
    "\n",
    "    # one-hot encode msa\n",
    "    OH_MSA = tf.one_hot(MSA,states)\n",
    "\n",
    "    # msa weights\n",
    "    MSA_weights = tf.placeholder(tf.float32, shape=(None,), name=\"msa_weights\")\n",
    "\n",
    "    # 1-body-term of the MRF\n",
    "    V = tf.get_variable(name=\"V\", \n",
    "                      shape=[ncol,states],\n",
    "                      initializer=tf.zeros_initializer)\n",
    "\n",
    "    # 2-body-term of the MRF\n",
    "    W = tf.get_variable(name=\"W\",\n",
    "                      shape=[ncol,states,ncol,states],\n",
    "                      initializer=tf.zeros_initializer)\n",
    "\n",
    "    # weights for concatenation\n",
    "    wb = tf.get_variable(name=\"wb\",\n",
    "                      shape=[nrow],\n",
    "                      initializer=tf.ones_initializer)\n",
    "\n",
    "    # symmetrize W\n",
    "    W = sym_w(W)\n",
    "\n",
    "    def L2(x): return tf.reduce_sum(tf.square(x))\n",
    "    def L1(x): return tf\n",
    "\n",
    "    ########################################\n",
    "    # V + W\n",
    "    ########################################\n",
    "    VW = V + tf.tensordot(OH_MSA,W,2)\n",
    "\n",
    "    # hamiltonian\n",
    "    H = tf.reduce_sum(tf.multiply(OH_MSA,VW),axis=(1,2))\n",
    "\n",
    "    # local Z (parition function)\n",
    "    Z = tf.reduce_sum(tf.reduce_logsumexp(VW,axis=2),axis=1)\n",
    "\n",
    "    # Psuedo-Log-Likelihood\n",
    "    PLL = H - Z\n",
    "    #wb = (wb-tf.reduce_min(wb))/(tf.reduce_max(wb)-tf.reduce_min(wb))\n",
    "    # Regularization\n",
    "    L2_V = 0.01 * L2(V)\n",
    "    L2_W = 0.01 * L2(W) * 0.5 * (ncol-1) * (states-1)\n",
    "    L2_wb = 0.01 * L2(wb)\n",
    "\n",
    "    # loss function to minimize\n",
    "    loss = -tf.reduce_sum(PLL*MSA_weights*wb)/tf.reduce_sum(MSA_weights*wb)\n",
    "    loss = loss + (L2_V + L2_W + L2_wb)/msa[\"neff\"]\n",
    "\n",
    "    ##############################################################\n",
    "    # MINIMIZE LOSS FUNCTION\n",
    "    ##############################################################\n",
    "    if opt_type == \"adam\":  \n",
    "        opt = opt_adam(loss,\"adam\",lr=opt_rate)\n",
    "\n",
    "    # generate input/feed\n",
    "    def feed(feed_all=False):\n",
    "        if batch_size is None or feed_all:\n",
    "            return {MSA:msa[\"msa\"], MSA_weights:msa[\"weights\"]}\n",
    "        else:\n",
    "            idx = np.random.randint(0,msa[\"nrow\"],size=batch_size)\n",
    "            return {MSA:msa[\"msa\"][idx], MSA_weights:msa[\"weights\"][idx]}\n",
    "\n",
    "    # optimize!\n",
    "    with tf.Session() as sess:\n",
    "        # initialize variables V and W\n",
    "        sess.run(tf.global_variables_initializer())\n",
    "\n",
    "        # initialize V\n",
    "        msa_cat = tf.keras.utils.to_categorical(msa[\"msa\"],states)\n",
    "        pseudo_count = 0.01 * np.log(msa[\"neff\"])\n",
    "        V_ini = np.log(np.sum(msa_cat.T * msa[\"weights\"],-1).T + pseudo_count)\n",
    "        V_ini = V_ini - np.mean(V_ini,-1,keepdims=True)\n",
    "        sess.run(V.assign(V_ini))\n",
    "\n",
    "        wb_ini = sess.run(wb)\n",
    "\n",
    "        # compute loss across all data\n",
    "        get_loss = lambda: round(sess.run(loss,feed(feed_all=True)) * msa[\"neff\"],2)\n",
    "        print(\"starting\",get_loss())\n",
    "\n",
    "        if opt_type == \"lbfgs\":\n",
    "            lbfgs = tf.contrib.opt.ScipyOptimizerInterface\n",
    "            opt = lbfgs(loss,method=\"L-BFGS-B\",options={'maxiter': opt_iter})\n",
    "            opt.minimize(sess,feed(feed_all=True))\n",
    "\n",
    "        if opt_type == \"adam\":\n",
    "            for i in range(opt_iter):\n",
    "                sess.run(opt,feed())  \n",
    "                if (i+1) % int(opt_iter/10) == 0:\n",
    "                    print(\"iter\",(i+1),get_loss())\n",
    "\n",
    "        # save the V and W parameters of the MRF\n",
    "        V_ = sess.run(V)\n",
    "        W_ = sess.run(W)\n",
    "        wb_ =sess.run(wb)\n",
    "\n",
    "    # only return upper-right triangle of matrix (since it's symmetric)\n",
    "    tri = np.triu_indices(ncol,1)\n",
    "    W_ = W_[tri[0],:,tri[1],:]\n",
    "\n",
    "    mrf = {\"v\": V_,\n",
    "         \"w\": W_,\n",
    "         \"wb\": wb_,\n",
    "         \"wb_ini\":wb_ini,\n",
    "         \"v_idx\": msa[\"v_idx\"],\n",
    "         \"w_idx\": msa[\"w_idx\"]}\n",
    "\n",
    "    return mrf"
   ]
  },
  {
   "cell_type": "code",
   "execution_count": 71,
   "metadata": {
    "colab": {},
    "colab_type": "code",
    "id": "A8wQYi2Ss9r2"
   },
   "outputs": [],
   "source": [
    "def GREMLIN(msa, opt_type=\"adam\", opt_iter=100, opt_rate=1.0, batch_size=None):\n",
    "\n",
    "    ##############################################################\n",
    "    # SETUP COMPUTE GRAPH\n",
    "    ##############################################################\n",
    "    # kill any existing tensorflow graph\n",
    "    tf.reset_default_graph()\n",
    "\n",
    "    ncol = msa[\"ncol\"] # length of sequence\n",
    "\n",
    "    # msa (multiple sequence alignment) \n",
    "    MSA = tf.placeholder(tf.int32,shape=(None,ncol),name=\"msa\")\n",
    "\n",
    "    # one-hot encode msa\n",
    "    OH_MSA = tf.one_hot(MSA,states)\n",
    "\n",
    "    # msa weights\n",
    "    MSA_weights = tf.placeholder(tf.float32, shape=(None,), name=\"msa_weights\")\n",
    "\n",
    "    # 1-body-term of the MRF\n",
    "    V = tf.get_variable(name=\"V\", \n",
    "                      shape=[ncol,states],\n",
    "                      initializer=tf.zeros_initializer)\n",
    "\n",
    "    # 2-body-term of the MRF\n",
    "    W = tf.get_variable(name=\"W\",\n",
    "                      shape=[ncol,states,ncol,states],\n",
    "                      initializer=tf.zeros_initializer)\n",
    "\n",
    "    # symmetrize W\n",
    "    W = sym_w(W)\n",
    "\n",
    "    def L2(x): return tf.reduce_sum(tf.square(x))\n",
    "\n",
    "    ########################################\n",
    "    # V + W\n",
    "    ########################################\n",
    "    VW = V + tf.tensordot(OH_MSA,W,2)\n",
    "\n",
    "    # hamiltonian\n",
    "    H = tf.reduce_sum(tf.multiply(OH_MSA,VW),axis=(1,2))\n",
    "\n",
    "    # local Z (parition function)\n",
    "    Z = tf.reduce_sum(tf.reduce_logsumexp(VW,axis=2),axis=1)\n",
    "\n",
    "    # Psuedo-Log-Likelihood\n",
    "    PLL = H - Z\n",
    "    # Regularization\n",
    "    L2_V = 0.01 * L2(V)\n",
    "    L2_W = 0.01 * L2(W) * 0.5 * (ncol-1) * (states-1)\n",
    "\n",
    "\n",
    "    # loss function to minimize\n",
    "    loss = -tf.reduce_sum(PLL*MSA_weights)/tf.reduce_sum(MSA_weights)\n",
    "    loss = loss + (L2_V + L2_W)/msa[\"neff\"]\n",
    "\n",
    "    ##############################################################\n",
    "    # MINIMIZE LOSS FUNCTION\n",
    "    ##############################################################\n",
    "    if opt_type == \"adam\":  \n",
    "        opt = opt_adam(loss,\"adam\",lr=opt_rate)\n",
    "\n",
    "    # generate input/feed\n",
    "    def feed(feed_all=False):\n",
    "        if batch_size is None or feed_all:\n",
    "            return {MSA:msa[\"msa\"], MSA_weights:msa[\"weights\"]}\n",
    "        else:\n",
    "            idx = np.random.randint(0,msa[\"nrow\"],size=batch_size)\n",
    "        return {MSA:msa[\"msa\"][idx], MSA_weights:msa[\"weights\"][idx]}\n",
    "\n",
    "    # optimize!\n",
    "    with tf.Session() as sess:\n",
    "        # initialize variables V and W\n",
    "        sess.run(tf.global_variables_initializer())\n",
    "\n",
    "        # initialize V\n",
    "        msa_cat = tf.keras.utils.to_categorical(msa[\"msa\"],states)\n",
    "        pseudo_count = 0.01 * np.log(msa[\"neff\"])\n",
    "        V_ini = np.log(np.sum(msa_cat.T * msa[\"weights\"],-1).T + pseudo_count)\n",
    "        V_ini = V_ini - np.mean(V_ini,-1,keepdims=True)\n",
    "        sess.run(V.assign(V_ini))\n",
    "\n",
    "        # compute loss across all data\n",
    "        get_loss = lambda: round(sess.run(loss,feed(feed_all=True)) * msa[\"neff\"],2)\n",
    "        print(\"starting\",get_loss())\n",
    "\n",
    "        if opt_type == \"lbfgs\":\n",
    "            lbfgs = tf.contrib.opt.ScipyOptimizerInterface\n",
    "            opt = lbfgs(loss,method=\"L-BFGS-B\",options={'maxiter': opt_iter})\n",
    "            opt.minimize(sess,feed(feed_all=True))\n",
    "\n",
    "        if opt_type == \"adam\":\n",
    "            for i in range(opt_iter):\n",
    "                sess.run(opt,feed())  \n",
    "                if (i+1) % int(opt_iter/10) == 0:\n",
    "                    print(\"iter\",(i+1),get_loss())\n",
    "\n",
    "        # save the V and W parameters of the MRF\n",
    "        V_ = sess.run(V)\n",
    "        W_ = sess.run(W)\n",
    "\n",
    "    # only return upper-right triangle of matrix (since it's symmetric)\n",
    "    tri = np.triu_indices(ncol,1)\n",
    "    W_ = W_[tri[0],:,tri[1],:]\n",
    "\n",
    "    mrf = {\"v\": V_,\n",
    "         \"w\": W_,\n",
    "         \"v_idx\": msa[\"v_idx\"],\n",
    "         \"w_idx\": msa[\"w_idx\"]}\n",
    "\n",
    "    return mrf"
   ]
  },
  {
   "cell_type": "markdown",
   "metadata": {
    "colab_type": "text",
    "id": "mppg0JLtP25z"
   },
   "source": [
    "## EXAMPLE"
   ]
  },
  {
   "cell_type": "code",
   "execution_count": 72,
   "metadata": {
    "colab": {},
    "colab_type": "code",
    "id": "bnigmLmAlyWv"
   },
   "outputs": [],
   "source": [
    "# download example fasta MSA\n",
    "!wget -q -nc https://gremlin2.bakerlab.org/db/PDB_EXP/fasta/4FAZA.fas"
   ]
  },
  {
   "cell_type": "code",
   "execution_count": 86,
   "metadata": {
    "colab": {},
    "colab_type": "code",
    "id": "osaZwTSMOicF"
   },
   "outputs": [],
   "source": [
    "# ===============================================================================\n",
    "# PREP MSA\n",
    "# ===============================================================================\n",
    "# parse fasta\n",
    "names, seqs = parse_fasta(\"concat.a2m\")\n",
    "\n",
    "# process input sequences\n",
    "msa = mk_msa(seqs)\n",
    "\n"
   ]
  },
  {
   "cell_type": "code",
   "execution_count": null,
   "metadata": {},
   "outputs": [],
   "source": [
    "with open(\"names.txt\", \"w+\") as output:\n",
    "    output.write(names)\n",
    "with open(\"seqs.txt\", \"w+\") as output:\n",
    "    output.write(seqs)"
   ]
  },
  {
   "cell_type": "code",
   "execution_count": null,
   "metadata": {},
   "outputs": [],
   "source": []
  },
  {
   "cell_type": "code",
   "execution_count": 87,
   "metadata": {
    "colab": {
     "base_uri": "https://localhost:8080/",
     "height": 252
    },
    "colab_type": "code",
    "executionInfo": {
     "elapsed": 1666,
     "status": "ok",
     "timestamp": 1564004980475,
     "user": {
      "displayName": "Ada Shaw",
      "photoUrl": "https://lh4.googleusercontent.com/-eyRleL4y85w/AAAAAAAAAAI/AAAAAAAAACA/acoiML-5peM/s64/photo.jpg",
      "userId": "12354570689282686732"
     },
     "user_tz": 240
    },
    "id": "CoBRuqmVVrbD",
    "outputId": "906ca4f8-a501-4683-8283-d20d34404b87"
   },
   "outputs": [
    {
     "name": "stdout",
     "output_type": "stream",
     "text": [
      "ncol: 156,n nrow: 33949\n",
      "starting 2234555.91\n",
      "iter 10 610397.4\n",
      "iter 20 -1004762.01\n",
      "iter 30 2621053579.94\n"
     ]
    },
    {
     "ename": "KeyboardInterrupt",
     "evalue": "",
     "output_type": "error",
     "traceback": [
      "\u001b[0;31m---------------------------------------------------------------------------\u001b[0m",
      "\u001b[0;31mKeyboardInterrupt\u001b[0m                         Traceback (most recent call last)",
      "\u001b[0;32m<timed exec>\u001b[0m in \u001b[0;36m<module>\u001b[0;34m\u001b[0m\n",
      "\u001b[0;32m<ipython-input-70-aedfdc7ac776>\u001b[0m in \u001b[0;36mGREMLIN_weights\u001b[0;34m(msa, opt_type, opt_iter, opt_rate, batch_size)\u001b[0m\n\u001b[1;32m    103\u001b[0m         \u001b[0;32mif\u001b[0m \u001b[0mopt_type\u001b[0m \u001b[0;34m==\u001b[0m \u001b[0;34m\"adam\"\u001b[0m\u001b[0;34m:\u001b[0m\u001b[0;34m\u001b[0m\u001b[0;34m\u001b[0m\u001b[0m\n\u001b[1;32m    104\u001b[0m             \u001b[0;32mfor\u001b[0m \u001b[0mi\u001b[0m \u001b[0;32min\u001b[0m \u001b[0mrange\u001b[0m\u001b[0;34m(\u001b[0m\u001b[0mopt_iter\u001b[0m\u001b[0;34m)\u001b[0m\u001b[0;34m:\u001b[0m\u001b[0;34m\u001b[0m\u001b[0;34m\u001b[0m\u001b[0m\n\u001b[0;32m--> 105\u001b[0;31m                 \u001b[0msess\u001b[0m\u001b[0;34m.\u001b[0m\u001b[0mrun\u001b[0m\u001b[0;34m(\u001b[0m\u001b[0mopt\u001b[0m\u001b[0;34m,\u001b[0m\u001b[0mfeed\u001b[0m\u001b[0;34m(\u001b[0m\u001b[0;34m)\u001b[0m\u001b[0;34m)\u001b[0m\u001b[0;34m\u001b[0m\u001b[0;34m\u001b[0m\u001b[0m\n\u001b[0m\u001b[1;32m    106\u001b[0m                 \u001b[0;32mif\u001b[0m \u001b[0;34m(\u001b[0m\u001b[0mi\u001b[0m\u001b[0;34m+\u001b[0m\u001b[0;36m1\u001b[0m\u001b[0;34m)\u001b[0m \u001b[0;34m%\u001b[0m \u001b[0mint\u001b[0m\u001b[0;34m(\u001b[0m\u001b[0mopt_iter\u001b[0m\u001b[0;34m/\u001b[0m\u001b[0;36m10\u001b[0m\u001b[0;34m)\u001b[0m \u001b[0;34m==\u001b[0m \u001b[0;36m0\u001b[0m\u001b[0;34m:\u001b[0m\u001b[0;34m\u001b[0m\u001b[0;34m\u001b[0m\u001b[0m\n\u001b[1;32m    107\u001b[0m                     \u001b[0mprint\u001b[0m\u001b[0;34m(\u001b[0m\u001b[0;34m\"iter\"\u001b[0m\u001b[0;34m,\u001b[0m\u001b[0;34m(\u001b[0m\u001b[0mi\u001b[0m\u001b[0;34m+\u001b[0m\u001b[0;36m1\u001b[0m\u001b[0;34m)\u001b[0m\u001b[0;34m,\u001b[0m\u001b[0mget_loss\u001b[0m\u001b[0;34m(\u001b[0m\u001b[0;34m)\u001b[0m\u001b[0;34m)\u001b[0m\u001b[0;34m\u001b[0m\u001b[0;34m\u001b[0m\u001b[0m\n",
      "\u001b[0;32m~/anaconda3/envs/tfenv/lib/python3.7/site-packages/tensorflow/python/client/session.py\u001b[0m in \u001b[0;36mrun\u001b[0;34m(self, fetches, feed_dict, options, run_metadata)\u001b[0m\n\u001b[1;32m    927\u001b[0m     \u001b[0;32mtry\u001b[0m\u001b[0;34m:\u001b[0m\u001b[0;34m\u001b[0m\u001b[0;34m\u001b[0m\u001b[0m\n\u001b[1;32m    928\u001b[0m       result = self._run(None, fetches, feed_dict, options_ptr,\n\u001b[0;32m--> 929\u001b[0;31m                          run_metadata_ptr)\n\u001b[0m\u001b[1;32m    930\u001b[0m       \u001b[0;32mif\u001b[0m \u001b[0mrun_metadata\u001b[0m\u001b[0;34m:\u001b[0m\u001b[0;34m\u001b[0m\u001b[0;34m\u001b[0m\u001b[0m\n\u001b[1;32m    931\u001b[0m         \u001b[0mproto_data\u001b[0m \u001b[0;34m=\u001b[0m \u001b[0mtf_session\u001b[0m\u001b[0;34m.\u001b[0m\u001b[0mTF_GetBuffer\u001b[0m\u001b[0;34m(\u001b[0m\u001b[0mrun_metadata_ptr\u001b[0m\u001b[0;34m)\u001b[0m\u001b[0;34m\u001b[0m\u001b[0;34m\u001b[0m\u001b[0m\n",
      "\u001b[0;32m~/anaconda3/envs/tfenv/lib/python3.7/site-packages/tensorflow/python/client/session.py\u001b[0m in \u001b[0;36m_run\u001b[0;34m(self, handle, fetches, feed_dict, options, run_metadata)\u001b[0m\n\u001b[1;32m   1150\u001b[0m     \u001b[0;32mif\u001b[0m \u001b[0mfinal_fetches\u001b[0m \u001b[0;32mor\u001b[0m \u001b[0mfinal_targets\u001b[0m \u001b[0;32mor\u001b[0m \u001b[0;34m(\u001b[0m\u001b[0mhandle\u001b[0m \u001b[0;32mand\u001b[0m \u001b[0mfeed_dict_tensor\u001b[0m\u001b[0;34m)\u001b[0m\u001b[0;34m:\u001b[0m\u001b[0;34m\u001b[0m\u001b[0;34m\u001b[0m\u001b[0m\n\u001b[1;32m   1151\u001b[0m       results = self._do_run(handle, final_targets, final_fetches,\n\u001b[0;32m-> 1152\u001b[0;31m                              feed_dict_tensor, options, run_metadata)\n\u001b[0m\u001b[1;32m   1153\u001b[0m     \u001b[0;32melse\u001b[0m\u001b[0;34m:\u001b[0m\u001b[0;34m\u001b[0m\u001b[0;34m\u001b[0m\u001b[0m\n\u001b[1;32m   1154\u001b[0m       \u001b[0mresults\u001b[0m \u001b[0;34m=\u001b[0m \u001b[0;34m[\u001b[0m\u001b[0;34m]\u001b[0m\u001b[0;34m\u001b[0m\u001b[0;34m\u001b[0m\u001b[0m\n",
      "\u001b[0;32m~/anaconda3/envs/tfenv/lib/python3.7/site-packages/tensorflow/python/client/session.py\u001b[0m in \u001b[0;36m_do_run\u001b[0;34m(self, handle, target_list, fetch_list, feed_dict, options, run_metadata)\u001b[0m\n\u001b[1;32m   1326\u001b[0m     \u001b[0;32mif\u001b[0m \u001b[0mhandle\u001b[0m \u001b[0;32mis\u001b[0m \u001b[0;32mNone\u001b[0m\u001b[0;34m:\u001b[0m\u001b[0;34m\u001b[0m\u001b[0;34m\u001b[0m\u001b[0m\n\u001b[1;32m   1327\u001b[0m       return self._do_call(_run_fn, feeds, fetches, targets, options,\n\u001b[0;32m-> 1328\u001b[0;31m                            run_metadata)\n\u001b[0m\u001b[1;32m   1329\u001b[0m     \u001b[0;32melse\u001b[0m\u001b[0;34m:\u001b[0m\u001b[0;34m\u001b[0m\u001b[0;34m\u001b[0m\u001b[0m\n\u001b[1;32m   1330\u001b[0m       \u001b[0;32mreturn\u001b[0m \u001b[0mself\u001b[0m\u001b[0;34m.\u001b[0m\u001b[0m_do_call\u001b[0m\u001b[0;34m(\u001b[0m\u001b[0m_prun_fn\u001b[0m\u001b[0;34m,\u001b[0m \u001b[0mhandle\u001b[0m\u001b[0;34m,\u001b[0m \u001b[0mfeeds\u001b[0m\u001b[0;34m,\u001b[0m \u001b[0mfetches\u001b[0m\u001b[0;34m)\u001b[0m\u001b[0;34m\u001b[0m\u001b[0;34m\u001b[0m\u001b[0m\n",
      "\u001b[0;32m~/anaconda3/envs/tfenv/lib/python3.7/site-packages/tensorflow/python/client/session.py\u001b[0m in \u001b[0;36m_do_call\u001b[0;34m(self, fn, *args)\u001b[0m\n\u001b[1;32m   1332\u001b[0m   \u001b[0;32mdef\u001b[0m \u001b[0m_do_call\u001b[0m\u001b[0;34m(\u001b[0m\u001b[0mself\u001b[0m\u001b[0;34m,\u001b[0m \u001b[0mfn\u001b[0m\u001b[0;34m,\u001b[0m \u001b[0;34m*\u001b[0m\u001b[0margs\u001b[0m\u001b[0;34m)\u001b[0m\u001b[0;34m:\u001b[0m\u001b[0;34m\u001b[0m\u001b[0;34m\u001b[0m\u001b[0m\n\u001b[1;32m   1333\u001b[0m     \u001b[0;32mtry\u001b[0m\u001b[0;34m:\u001b[0m\u001b[0;34m\u001b[0m\u001b[0;34m\u001b[0m\u001b[0m\n\u001b[0;32m-> 1334\u001b[0;31m       \u001b[0;32mreturn\u001b[0m \u001b[0mfn\u001b[0m\u001b[0;34m(\u001b[0m\u001b[0;34m*\u001b[0m\u001b[0margs\u001b[0m\u001b[0;34m)\u001b[0m\u001b[0;34m\u001b[0m\u001b[0;34m\u001b[0m\u001b[0m\n\u001b[0m\u001b[1;32m   1335\u001b[0m     \u001b[0;32mexcept\u001b[0m \u001b[0merrors\u001b[0m\u001b[0;34m.\u001b[0m\u001b[0mOpError\u001b[0m \u001b[0;32mas\u001b[0m \u001b[0me\u001b[0m\u001b[0;34m:\u001b[0m\u001b[0;34m\u001b[0m\u001b[0;34m\u001b[0m\u001b[0m\n\u001b[1;32m   1336\u001b[0m       \u001b[0mmessage\u001b[0m \u001b[0;34m=\u001b[0m \u001b[0mcompat\u001b[0m\u001b[0;34m.\u001b[0m\u001b[0mas_text\u001b[0m\u001b[0;34m(\u001b[0m\u001b[0me\u001b[0m\u001b[0;34m.\u001b[0m\u001b[0mmessage\u001b[0m\u001b[0;34m)\u001b[0m\u001b[0;34m\u001b[0m\u001b[0;34m\u001b[0m\u001b[0m\n",
      "\u001b[0;32m~/anaconda3/envs/tfenv/lib/python3.7/site-packages/tensorflow/python/client/session.py\u001b[0m in \u001b[0;36m_run_fn\u001b[0;34m(feed_dict, fetch_list, target_list, options, run_metadata)\u001b[0m\n\u001b[1;32m   1317\u001b[0m       \u001b[0mself\u001b[0m\u001b[0;34m.\u001b[0m\u001b[0m_extend_graph\u001b[0m\u001b[0;34m(\u001b[0m\u001b[0;34m)\u001b[0m\u001b[0;34m\u001b[0m\u001b[0;34m\u001b[0m\u001b[0m\n\u001b[1;32m   1318\u001b[0m       return self._call_tf_sessionrun(\n\u001b[0;32m-> 1319\u001b[0;31m           options, feed_dict, fetch_list, target_list, run_metadata)\n\u001b[0m\u001b[1;32m   1320\u001b[0m \u001b[0;34m\u001b[0m\u001b[0m\n\u001b[1;32m   1321\u001b[0m     \u001b[0;32mdef\u001b[0m \u001b[0m_prun_fn\u001b[0m\u001b[0;34m(\u001b[0m\u001b[0mhandle\u001b[0m\u001b[0;34m,\u001b[0m \u001b[0mfeed_dict\u001b[0m\u001b[0;34m,\u001b[0m \u001b[0mfetch_list\u001b[0m\u001b[0;34m)\u001b[0m\u001b[0;34m:\u001b[0m\u001b[0;34m\u001b[0m\u001b[0;34m\u001b[0m\u001b[0m\n",
      "\u001b[0;32m~/anaconda3/envs/tfenv/lib/python3.7/site-packages/tensorflow/python/client/session.py\u001b[0m in \u001b[0;36m_call_tf_sessionrun\u001b[0;34m(self, options, feed_dict, fetch_list, target_list, run_metadata)\u001b[0m\n\u001b[1;32m   1405\u001b[0m     return tf_session.TF_SessionRun_wrapper(\n\u001b[1;32m   1406\u001b[0m         \u001b[0mself\u001b[0m\u001b[0;34m.\u001b[0m\u001b[0m_session\u001b[0m\u001b[0;34m,\u001b[0m \u001b[0moptions\u001b[0m\u001b[0;34m,\u001b[0m \u001b[0mfeed_dict\u001b[0m\u001b[0;34m,\u001b[0m \u001b[0mfetch_list\u001b[0m\u001b[0;34m,\u001b[0m \u001b[0mtarget_list\u001b[0m\u001b[0;34m,\u001b[0m\u001b[0;34m\u001b[0m\u001b[0;34m\u001b[0m\u001b[0m\n\u001b[0;32m-> 1407\u001b[0;31m         run_metadata)\n\u001b[0m\u001b[1;32m   1408\u001b[0m \u001b[0;34m\u001b[0m\u001b[0m\n\u001b[1;32m   1409\u001b[0m   \u001b[0;32mdef\u001b[0m \u001b[0m_call_tf_sessionprun\u001b[0m\u001b[0;34m(\u001b[0m\u001b[0mself\u001b[0m\u001b[0;34m,\u001b[0m \u001b[0mhandle\u001b[0m\u001b[0;34m,\u001b[0m \u001b[0mfeed_dict\u001b[0m\u001b[0;34m,\u001b[0m \u001b[0mfetch_list\u001b[0m\u001b[0;34m)\u001b[0m\u001b[0;34m:\u001b[0m\u001b[0;34m\u001b[0m\u001b[0;34m\u001b[0m\u001b[0m\n",
      "\u001b[0;31mKeyboardInterrupt\u001b[0m: "
     ]
    }
   ],
   "source": [
    "%%time\n",
    "# ===============================================================================\n",
    "# RUN GREMLIN\n",
    "# ===============================================================================\n",
    "# Note: the original GREMLIN uses the \"lbfgs\" optimizer which is EXTREMELY slow \n",
    "# in tensorflow. The modified adam optimizer is much faster, but may \n",
    "# require adjusting number of iterations (opt_iter) to converge to the same \n",
    "# solution. To switch back to the original, set opt_type=\"lbfgs\".\n",
    "# ===============================================================================\n",
    "mrf_weights = GREMLIN_weights(msa)"
   ]
  },
  {
   "cell_type": "code",
   "execution_count": null,
   "metadata": {
    "colab": {
     "base_uri": "https://localhost:8080/",
     "height": 235
    },
    "colab_type": "code",
    "executionInfo": {
     "elapsed": 1302,
     "status": "ok",
     "timestamp": 1564004983129,
     "user": {
      "displayName": "Ada Shaw",
      "photoUrl": "https://lh4.googleusercontent.com/-eyRleL4y85w/AAAAAAAAAAI/AAAAAAAAACA/acoiML-5peM/s64/photo.jpg",
      "userId": "12354570689282686732"
     },
     "user_tz": 240
    },
    "id": "yDgoW-mrtuUb",
    "outputId": "dbf1232e-3e65-4730-8f00-087f02046a4c"
   },
   "outputs": [
    {
     "name": "stdout",
     "output_type": "stream",
     "text": [
      "starting 2234216.49\n"
     ]
    }
   ],
   "source": [
    "%%time\n",
    "# ===============================================================================\n",
    "# RUN GREMLIN\n",
    "# ===============================================================================\n",
    "# Note: the original GREMLIN uses the \"lbfgs\" optimizer which is EXTREMELY slow \n",
    "# in tensorflow. The modified adam optimizer is much faster, but may \n",
    "# require adjusting number of iterations (opt_iter) to converge to the same \n",
    "# solution. To switch back to the original, set opt_type=\"lbfgs\".\n",
    "# ===============================================================================\n",
    "mrf = GREMLIN(msa)"
   ]
  },
  {
   "cell_type": "markdown",
   "metadata": {
    "colab_type": "text",
    "id": "jCrfC2Um4xww"
   },
   "source": [
    "## Explore the contact map\n",
    "### Contact prediction:\n",
    "\n",
    "For contact prediction, the W matrix is reduced from LxLx21x21 to LxL matrix (by taking the L2norm for each of the 20x20). In the code below, you can access this as mtx[\"raw\"]. Further correction (average product correction) is then performed to the mtx[\"raw\"] to remove the effects of entropy, mtx[\"apc\"]. The relative ranking of mtx[\"apc\"] is used to assess importance. When there are enough effective sequences (>1000), we find that the top 1.0L contacts are ~90% accurate! When the number of effective sequences is lower, NN can help clean noise and fill in missing contacts.\n"
   ]
  },
  {
   "cell_type": "markdown",
   "metadata": {
    "colab_type": "text",
    "id": "XxgQArVUPyPH"
   },
   "source": [
    "## Functions for extracting contacts from MRF"
   ]
  },
  {
   "cell_type": "code",
   "execution_count": 80,
   "metadata": {
    "colab": {},
    "colab_type": "code",
    "id": "nMxp7up_P1_q"
   },
   "outputs": [],
   "source": [
    "###################\n",
    "def normalize(x):\n",
    "  x = stats.boxcox(x - np.amin(x) + 1.0)[0]\n",
    "  x_mean = np.mean(x)\n",
    "  x_std = np.std(x)\n",
    "  return((x-x_mean)/x_std)\n",
    "\n",
    "def get_mtx(mrf):\n",
    "  '''get mtx given mrf'''\n",
    "  \n",
    "  # l2norm of 20x20 matrices (note: we ignore gaps)\n",
    "  raw = np.sqrt(np.sum(np.square(mrf[\"w\"][:,:-1,:-1]),(1,2)))\n",
    "  raw_sq = squareform(raw)\n",
    "\n",
    "  # apc (average product correction)\n",
    "  ap_sq = np.sum(raw_sq,0,keepdims=True)*np.sum(raw_sq,1,keepdims=True)/np.sum(raw_sq)\n",
    "  apc = squareform(raw_sq - ap_sq, checks=False)\n",
    "\n",
    "  mtx = {\"i\": mrf[\"w_idx\"][:,0],\n",
    "         \"j\": mrf[\"w_idx\"][:,1],\n",
    "         \"raw\": raw,\n",
    "         \"apc\": apc,\n",
    "         \"zscore\": normalize(apc)}\n",
    "  return mtx\n",
    "\n",
    "def plot_mtx(mtx,key=\"zscore\",vmin=1,vmax=3):\n",
    "  '''plot the mtx'''\n",
    "  plt.figure(figsize=(5,5))\n",
    "  plt.imshow(squareform(mtx[key]), cmap='Blues', interpolation='none', vmin=vmin, vmax=vmax)\n",
    "  plt.grid(False)\n",
    "  plt.show()"
   ]
  },
  {
   "cell_type": "code",
   "execution_count": 81,
   "metadata": {
    "colab": {},
    "colab_type": "code",
    "id": "RSleviAVPJ36"
   },
   "outputs": [],
   "source": [
    "mtx_weights = get_mtx(mrf_weights)  \n",
    "mtx = get_mtx(mrf)\n",
    "#plot_mtx(mtx)"
   ]
  },
  {
   "cell_type": "markdown",
   "metadata": {
    "colab_type": "text",
    "id": "qWaTHLTH5rGw"
   },
   "source": [
    "## Look at top co-evolving residue pairs"
   ]
  },
  {
   "cell_type": "code",
   "execution_count": 82,
   "metadata": {
    "colab": {
     "base_uri": "https://localhost:8080/",
     "height": 343
    },
    "colab_type": "code",
    "executionInfo": {
     "elapsed": 455,
     "status": "ok",
     "timestamp": 1564004874829,
     "user": {
      "displayName": "Ada Shaw",
      "photoUrl": "https://lh4.googleusercontent.com/-eyRleL4y85w/AAAAAAAAAAI/AAAAAAAAACA/acoiML-5peM/s64/photo.jpg",
      "userId": "12354570689282686732"
     },
     "user_tz": 240
    },
    "id": "9A2yeOJ8uPNM",
    "outputId": "3e2a6ff3-21e5-4912-8e49-e7b79733ab7e"
   },
   "outputs": [
    {
     "data": {
      "text/html": [
       "<div>\n",
       "<style scoped>\n",
       "    .dataframe tbody tr th:only-of-type {\n",
       "        vertical-align: middle;\n",
       "    }\n",
       "\n",
       "    .dataframe tbody tr th {\n",
       "        vertical-align: top;\n",
       "    }\n",
       "\n",
       "    .dataframe thead th {\n",
       "        text-align: right;\n",
       "    }\n",
       "</style>\n",
       "<table border=\"1\" class=\"dataframe\">\n",
       "  <thead>\n",
       "    <tr style=\"text-align: right;\">\n",
       "      <th></th>\n",
       "      <th>i</th>\n",
       "      <th>j</th>\n",
       "      <th>apc</th>\n",
       "      <th>zscore</th>\n",
       "      <th>i_aa</th>\n",
       "      <th>j_aa</th>\n",
       "    </tr>\n",
       "  </thead>\n",
       "  <tbody>\n",
       "    <tr>\n",
       "      <th>1056</th>\n",
       "      <td>21</td>\n",
       "      <td>28</td>\n",
       "      <td>0.876234</td>\n",
       "      <td>2.977706</td>\n",
       "      <td>K_22</td>\n",
       "      <td>E_29</td>\n",
       "    </tr>\n",
       "    <tr>\n",
       "      <th>881</th>\n",
       "      <td>16</td>\n",
       "      <td>58</td>\n",
       "      <td>0.846978</td>\n",
       "      <td>2.961517</td>\n",
       "      <td>R_17</td>\n",
       "      <td>A_59</td>\n",
       "    </tr>\n",
       "    <tr>\n",
       "      <th>142</th>\n",
       "      <td>2</td>\n",
       "      <td>26</td>\n",
       "      <td>0.817712</td>\n",
       "      <td>2.943949</td>\n",
       "      <td>A_3</td>\n",
       "      <td>M_27</td>\n",
       "    </tr>\n",
       "    <tr>\n",
       "      <th>999</th>\n",
       "      <td>19</td>\n",
       "      <td>50</td>\n",
       "      <td>0.784957</td>\n",
       "      <td>2.922484</td>\n",
       "      <td>I_20</td>\n",
       "      <td>G_51</td>\n",
       "    </tr>\n",
       "    <tr>\n",
       "      <th>820</th>\n",
       "      <td>15</td>\n",
       "      <td>41</td>\n",
       "      <td>0.704959</td>\n",
       "      <td>2.860655</td>\n",
       "      <td>K_16</td>\n",
       "      <td>I_42</td>\n",
       "    </tr>\n",
       "    <tr>\n",
       "      <th>488</th>\n",
       "      <td>8</td>\n",
       "      <td>45</td>\n",
       "      <td>0.663213</td>\n",
       "      <td>2.822058</td>\n",
       "      <td>E_9</td>\n",
       "      <td>P_46</td>\n",
       "    </tr>\n",
       "    <tr>\n",
       "      <th>251</th>\n",
       "      <td>4</td>\n",
       "      <td>22</td>\n",
       "      <td>0.658282</td>\n",
       "      <td>2.817167</td>\n",
       "      <td>I_5</td>\n",
       "      <td>V_23</td>\n",
       "    </tr>\n",
       "    <tr>\n",
       "      <th>1278</th>\n",
       "      <td>27</td>\n",
       "      <td>37</td>\n",
       "      <td>0.599291</td>\n",
       "      <td>2.752484</td>\n",
       "      <td>M_28</td>\n",
       "      <td>V_38</td>\n",
       "    </tr>\n",
       "    <tr>\n",
       "      <th>934</th>\n",
       "      <td>18</td>\n",
       "      <td>26</td>\n",
       "      <td>0.583831</td>\n",
       "      <td>2.733455</td>\n",
       "      <td>V_19</td>\n",
       "      <td>M_27</td>\n",
       "    </tr>\n",
       "    <tr>\n",
       "      <th>326</th>\n",
       "      <td>5</td>\n",
       "      <td>42</td>\n",
       "      <td>0.553874</td>\n",
       "      <td>2.693790</td>\n",
       "      <td>Y_6</td>\n",
       "      <td>H_43</td>\n",
       "    </tr>\n",
       "  </tbody>\n",
       "</table>\n",
       "</div>"
      ],
      "text/plain": [
       "       i   j       apc    zscore  i_aa  j_aa\n",
       "1056  21  28  0.876234  2.977706  K_22  E_29\n",
       "881   16  58  0.846978  2.961517  R_17  A_59\n",
       "142    2  26  0.817712  2.943949   A_3  M_27\n",
       "999   19  50  0.784957  2.922484  I_20  G_51\n",
       "820   15  41  0.704959  2.860655  K_16  I_42\n",
       "488    8  45  0.663213  2.822058   E_9  P_46\n",
       "251    4  22  0.658282  2.817167   I_5  V_23\n",
       "1278  27  37  0.599291  2.752484  M_28  V_38\n",
       "934   18  26  0.583831  2.733455  V_19  M_27\n",
       "326    5  42  0.553874  2.693790   Y_6  H_43"
      ]
     },
     "execution_count": 82,
     "metadata": {},
     "output_type": "execute_result"
    }
   ],
   "source": [
    "######################################################################################\n",
    "# WARNING - WARNING - WARNING\n",
    "######################################################################################\n",
    "# - the i,j index starts at 0 (zero)\n",
    "# - the \"first\" position = 0\n",
    "# - often in biology first position of a sequence is 1\n",
    "#   for this index use i_aa and j_aa!\n",
    "\n",
    "# adding amino acid to index\n",
    "mtx[\"i_aa\"] = np.array([alphabet[msa['msa_ori'][0][i]]+\"_\"+str(i+1) for i in mtx[\"i\"]])\n",
    "mtx[\"j_aa\"] = np.array([alphabet[msa['msa_ori'][0][j]]+\"_\"+str(j+1) for j in mtx[\"j\"]])\n",
    "\n",
    "mtx_weights[\"i_aa\"] = np.array([alphabet[msa['msa_ori'][0][i]]+\"_\"+str(i+1) for i in mtx_weights[\"i\"]])\n",
    "mtx_weights[\"j_aa\"] = np.array([alphabet[msa['msa_ori'][0][j]]+\"_\"+str(j+1) for j in mtx_weights[\"j\"]])\n",
    "\n",
    "\n",
    "# load mtx into pandas dataframe\n",
    "pd_mtx = pd.DataFrame(mtx,columns=[\"i\",\"j\",\"apc\",\"zscore\",\"i_aa\",\"j_aa\"])\n",
    "pd_mtx_weights = pd.DataFrame(mtx_weights,columns=[\"i\",\"j\",\"apc\",\"zscore\",\"i_aa\",\"j_aa\"])\n",
    "# get contacts with sequence seperation > 5\n",
    "# sort by zscore, show top 10\n",
    "top = pd_mtx.loc[pd_mtx['j'] - pd_mtx['i'] > 5].sort_values(\"zscore\",ascending=False)\n",
    "top.head(10)"
   ]
  },
  {
   "cell_type": "code",
   "execution_count": 83,
   "metadata": {
    "colab": {},
    "colab_type": "code",
    "id": "qVPY9SL3YmvK"
   },
   "outputs": [],
   "source": [
    "def plot_top_n_contacts(df):\n",
    "  \n",
    "  for index,row in df.nlargest(100,'apc').iterrows():\n",
    "      plt.scatter(row.i,row.j,s=row.apc,c='g')\n",
    "      plt.scatter(row.j,row.i,s=row.apc,c='g')\n",
    "  plt.axis('square')"
   ]
  },
  {
   "cell_type": "code",
   "execution_count": 84,
   "metadata": {
    "colab": {
     "base_uri": "https://localhost:8080/",
     "height": 269
    },
    "colab_type": "code",
    "executionInfo": {
     "elapsed": 1481,
     "status": "ok",
     "timestamp": 1564004593038,
     "user": {
      "displayName": "Ada Shaw",
      "photoUrl": "https://lh4.googleusercontent.com/-eyRleL4y85w/AAAAAAAAAAI/AAAAAAAAACA/acoiML-5peM/s64/photo.jpg",
      "userId": "12354570689282686732"
     },
     "user_tz": 240
    },
    "id": "sdxnQNpCclZc",
    "outputId": "22156eb3-9ed9-4772-8ffc-e4a85a42a4f3"
   },
   "outputs": [
    {
     "data": {
      "image/png": "[encoded data removed]",
      "text/plain": [
       "<Figure size 432x288 with 1 Axes>"
      ]
     },
     "metadata": {
      "needs_background": "light"
     },
     "output_type": "display_data"
    }
   ],
   "source": [
    "plot_top_n_contacts(pd_mtx)"
   ]
  },
  {
   "cell_type": "code",
   "execution_count": 85,
   "metadata": {
    "colab": {},
    "colab_type": "code",
    "id": "u6ghb5F8iyUR"
   },
   "outputs": [],
   "source": [
    "pd_mtx.to_csv('pd_mtx.csv')\n",
    "pd_mtx_weights.to_csv('pd_mtx_weights.csv')"
   ]
  },
  {
   "cell_type": "markdown",
   "metadata": {
    "colab_type": "text",
    "id": "wqG93dC12CKx"
   },
   "source": [
    "## Explore the MRF"
   ]
  },
  {
   "cell_type": "code",
   "execution_count": 18,
   "metadata": {
    "colab": {
     "base_uri": "https://localhost:8080/",
     "height": 337
    },
    "colab_type": "code",
    "executionInfo": {
     "elapsed": 1366,
     "status": "ok",
     "timestamp": 1563993658662,
     "user": {
      "displayName": "Ada Shaw",
      "photoUrl": "https://lh4.googleusercontent.com/-eyRleL4y85w/AAAAAAAAAAI/AAAAAAAAACA/acoiML-5peM/s64/photo.jpg",
      "userId": "12354570689282686732"
     },
     "user_tz": 240
    },
    "id": "k6BsheyNx3ID",
    "outputId": "e1cd3732-2695-41c5-cd03-f3da4e129827"
   },
   "outputs": [
    {
     "data": {
      "image/png": "[encoded data removed]",
      "text/plain": [
       "<Figure size 1098x378 with 1 Axes>"
      ]
     },
     "metadata": {
      "needs_background": "light"
     },
     "output_type": "display_data"
    }
   ],
   "source": [
    "def plot_v(mrf):  \n",
    "  al_a = list(alphabet)\n",
    "  v = mrf[\"v\"].T\n",
    "  mx = np.max((v.max(),np.abs(v.min())))\n",
    "  plt.figure(figsize=(v.shape[1]/4,states/4))\n",
    "  plt.imshow(-v,cmap='bwr',vmin=-mx,vmax=mx)\n",
    "  plt.xticks(np.arange(v.shape[1]))\n",
    "  plt.yticks(np.arange(0,states))\n",
    "  plt.grid(False)\n",
    "  ax = plt.gca()\n",
    "  ax.xaxis.set_major_formatter(plt.FuncFormatter(lambda x,y: mrf[\"v_idx\"][x])) \n",
    "  ax.yaxis.set_major_formatter(plt.FuncFormatter(lambda x,y: al_a[x]))\n",
    "  \n",
    "plot_v(mrf)"
   ]
  },
  {
   "cell_type": "code",
   "execution_count": 19,
   "metadata": {
    "colab": {
     "base_uri": "https://localhost:8080/",
     "height": 681
    },
    "colab_type": "code",
    "executionInfo": {
     "elapsed": 945,
     "status": "ok",
     "timestamp": 1563993536000,
     "user": {
      "displayName": "Ada Shaw",
      "photoUrl": "https://lh4.googleusercontent.com/-eyRleL4y85w/AAAAAAAAAAI/AAAAAAAAACA/acoiML-5peM/s64/photo.jpg",
      "userId": "12354570689282686732"
     },
     "user_tz": 240
    },
    "id": "OER2wALRvTkK",
    "outputId": "519db840-ccab-4bcd-9a1f-ab174ada7094"
   },
   "outputs": [
    {
     "data": {
      "image/png": "[encoded data removed]",
      "text/plain": [
       "<Figure size 378x378 with 1 Axes>"
      ]
     },
     "metadata": {
      "needs_background": "light"
     },
     "output_type": "display_data"
    },
    {
     "data": {
      "image/png": "[encoded data removed]",
      "text/plain": [
       "<Figure size 378x378 with 1 Axes>"
      ]
     },
     "metadata": {
      "needs_background": "light"
     },
     "output_type": "display_data"
    }
   ],
   "source": [
    "def plot_w(mrf,i,j):\n",
    "  \n",
    "  n = int(np.where((mrf[\"w_idx\"][:,0] == i)&(mrf[\"w_idx\"][:,1] == j))[0])\n",
    "  w = mrf[\"w\"][n]\n",
    "  \n",
    "  mx = np.max((w.max(),np.abs(w.min())))\n",
    "  plt.figure(figsize=(states/4,states/4))\n",
    "  plt.imshow(-w,cmap='bwr',vmin=-mx,vmax=mx)\n",
    "  plt.xticks(np.arange(0,states))\n",
    "  plt.yticks(np.arange(0,states))\n",
    "  plt.grid(False)\n",
    "  \n",
    "  ax = plt.gca()\n",
    "  al_a = list(alphabet)\n",
    "  ax.xaxis.set_major_formatter(plt.FuncFormatter(lambda x,y: al_a[x])) \n",
    "  ax.yaxis.set_major_formatter(plt.FuncFormatter(lambda x,y: al_a[x]))\n",
    "  plt.title(f\"W for positions {i} and {j}\")\n",
    "  plt.show()\n",
    "\n",
    "for n in range(2):\n",
    "  i = int(top.iloc[n][\"i\"])\n",
    "  j = int(top.iloc[n][\"j\"])\n",
    "  plot_w(mrf,i,j)"
   ]
  },
  {
   "cell_type": "markdown",
   "metadata": {
    "colab_type": "text",
    "id": "xv2anXSUX9kr"
   },
   "source": [
    "## validating output\n",
    "(comparing to known output from GREMLIN_cpp version)"
   ]
  },
  {
   "cell_type": "code",
   "execution_count": 107,
   "metadata": {
    "colab": {
     "base_uri": "https://localhost:8080/",
     "height": 286
    },
    "colab_type": "code",
    "executionInfo": {
     "elapsed": 467,
     "status": "ok",
     "timestamp": 1564005013570,
     "user": {
      "displayName": "Ada Shaw",
      "photoUrl": "https://lh4.googleusercontent.com/-eyRleL4y85w/AAAAAAAAAAI/AAAAAAAAACA/acoiML-5peM/s64/photo.jpg",
      "userId": "12354570689282686732"
     },
     "user_tz": 240
    },
    "id": "dDYIV1tuMknw",
    "outputId": "d41d3b01-1d33-434c-e31a-f3460a16e71e"
   },
   "outputs": [
    {
     "data": {
      "text/plain": [
       "<matplotlib.collections.PathCollection at 0x7f88e7afaa58>"
      ]
     },
     "execution_count": 107,
     "metadata": {
      "tags": []
     },
     "output_type": "execute_result"
    },
    {
     "data": {
      "image/png": "[encoded data removed]",
      "text/plain": [
       "<Figure size 432x288 with 1 Axes>"
      ]
     },
     "metadata": {
      "tags": []
     },
     "output_type": "display_data"
    }
   ],
   "source": [
    "plt.scatter(mrf_weights['wb'],mrf_weights['wb_ini'],alpha=0.1)\n",
    "#plt.axis('square')"
   ]
  },
  {
   "cell_type": "code",
   "execution_count": 0,
   "metadata": {
    "colab": {},
    "colab_type": "code",
    "id": "RBIvsIQ9X74s"
   },
   "outputs": [],
   "source": [
    "!wget -q -nc http://files.ipd.uw.edu/krypton/4FAZA.out"
   ]
  },
  {
   "cell_type": "code",
   "execution_count": 0,
   "metadata": {
    "colab": {
     "base_uri": "https://localhost:8080/",
     "height": 322
    },
    "colab_type": "code",
    "executionInfo": {
     "elapsed": 474,
     "status": "ok",
     "timestamp": 1563990535722,
     "user": {
      "displayName": "Ada Shaw",
      "photoUrl": "https://lh4.googleusercontent.com/-eyRleL4y85w/AAAAAAAAAAI/AAAAAAAAACA/acoiML-5peM/s64/photo.jpg",
      "userId": "12354570689282686732"
     },
     "user_tz": 240
    },
    "id": "M7fK03GFX_3q",
    "outputId": "a3b66c1e-f62e-4f1f-c5f6-8c3a19af55eb"
   },
   "outputs": [
    {
     "name": "stderr",
     "output_type": "stream",
     "text": [
      "/usr/local/lib/python3.6/dist-packages/ipykernel_launcher.py:1: FutureWarning: read_table is deprecated, use read_csv instead.\n",
      "  \"\"\"Entry point for launching an IPython kernel.\n"
     ]
    },
    {
     "data": {
      "image/png": "[encoded data removed]",
      "text/plain": [
       "<Figure size 432x288 with 1 Axes>"
      ]
     },
     "metadata": {
      "tags": []
     },
     "output_type": "display_data"
    }
   ],
   "source": [
    "pd_test = pd.read_table(\"4FAZA.out\",sep=\" \")\n",
    "plt.scatter(pd_test[\"apc\"],mtx[\"apc\"])\n",
    "plt.show()"
   ]
  },
  {
   "cell_type": "markdown",
   "metadata": {
    "colab_type": "text",
    "id": "-dw9TGERe3cw"
   },
   "source": [
    "## Useful input features for NN (Neural Networks)\n",
    "\n",
    "The \"apc\" values are typically used as input to the NN for contact cleaning or structure prediction. Though in recent advances (aka DeepMind/Alphafold), the entire MRF was used as the input. More specificially LxLx442. The 442 channels are the 21x21 + (raw and/or apc) value."
   ]
  },
  {
   "cell_type": "code",
   "execution_count": 0,
   "metadata": {
    "colab": {
     "base_uri": "https://localhost:8080/",
     "height": 51
    },
    "colab_type": "code",
    "id": "nqbDMKdsYG7Q",
    "outputId": "60e40a12-b1ad-4ea4-b8bd-5fa757ff8a48"
   },
   "outputs": [
    {
     "name": "stdout",
     "output_type": "stream",
     "text": [
      "w_out (62, 62, 442)\n",
      "v_out (62, 21)\n"
     ]
    }
   ],
   "source": [
    "w_out = np.zeros((msa[\"ncol_ori\"], msa[\"ncol_ori\"], states * states + 1))\n",
    "v_out = np.zeros((msa[\"ncol_ori\"], states))\n",
    "\n",
    "mrf_ = np.reshape(mrf[\"w\"],(-1, states * states))\n",
    "mtx_ = np.expand_dims(mtx[\"apc\"],-1)\n",
    "\n",
    "w_out[(mtx[\"i\"],mtx[\"j\"])] = np.concatenate((mrf_, mtx_),-1)\n",
    "w_out += np.transpose(w_out,(1,0,2))\n",
    "v_out[mrf[\"v_idx\"]] = mrf[\"v\"]\n",
    "\n",
    "print(\"w_out\",w_out.shape)\n",
    "print(\"v_out\",v_out.shape)"
   ]
  }
 ],
 "metadata": {
  "accelerator": "GPU",
  "colab": {
   "collapsed_sections": [],
   "name": "GREMLIN_TF_v2_weights_edit.ipynb",
   "provenance": [],
   "version": "0.3.2"
  },
  "kernelspec": {
   "display_name": "Python 3",
   "language": "python",
   "name": "python3"
  },
  "language_info": {
   "codemirror_mode": {
    "name": "ipython",
    "version": 3
   },
   "file_extension": ".py",
   "mimetype": "text/x-python",
   "name": "python",
   "nbconvert_exporter": "python",
   "pygments_lexer": "ipython3",
   "version": "3.7.3"
  }
 },
 "nbformat": 4,
 "nbformat_minor": 1
}
